{
 "cells": [
  {
   "cell_type": "markdown",
   "source": [
    "# 基于模型的动态规划算法"
   ],
   "metadata": {
    "collapsed": false,
    "pycharm": {
     "name": "#%% md\n"
    }
   }
  },
  {
   "cell_type": "code",
   "execution_count": 1,
   "outputs": [],
   "source": [
    "import gym\n",
    "import random\n",
    "from gym.envs.classic_control.grid_mdp import GridEnv"
   ],
   "metadata": {
    "collapsed": false,
    "pycharm": {
     "name": "#%%\n"
    }
   }
  },
  {
   "cell_type": "code",
   "execution_count": 2,
   "outputs": [],
   "source": [
    "class Test:\n",
    "    def __init__(self, grid_mdp_ob: GridEnv):\n",
    "        self.pi = dict()\n",
    "        self.v = dict()\n",
    "        actions = grid_mdp_ob.getAction()\n",
    "        # 初始化各状态值为0，评估均匀随机策略\n",
    "        for state in grid_mdp_ob.getStates():\n",
    "            self.v[state] = 0\n",
    "            self.pi[state] = actions[int(random.random() * len(actions))]\n",
    "\n",
    "    def policy_iterate(self, grid_mdp_ob: GridEnv):\n",
    "        for i in range(100):\n",
    "            # 策略评估\n",
    "            self.policy_evaluate(grid_mdp_ob)\n",
    "            # 策略改进\n",
    "            self.policy_improve(grid_mdp_ob)\n",
    "\n",
    "    def policy_evaluate(self, grid_mdp_ob: GridEnv):\n",
    "        for i in range(1000):\n",
    "            delta = 0.0\n",
    "            for state in grid_mdp_ob.states:\n",
    "                if state in grid_mdp_ob.terminate_states:\n",
    "                    continue\n",
    "                action = self.pi[state]\n",
    "                s, r, t, _ = grid_mdp_ob.transform(state,action)\n",
    "                new_v = r + grid_mdp_ob.gamma * self.v[s] # 为什么和评估公式不一样\n",
    "                delta += abs(self.v[state] - new_v)\n",
    "                self.v[state] = new_v\n",
    "            if delta < 1e-6:\n",
    "                break\n",
    "\n",
    "    def policy_improve(self, grid_mdp_ob: GridEnv):\n",
    "        for state in grid_mdp_ob.states:\n",
    "            if state in grid_mdp_ob.terminate_states:\n",
    "                continue\n",
    "            a1 = grid_mdp_ob.actions[0]\n",
    "            s,r,t,_ = grid_mdp_ob.transform(state,a1)\n",
    "            v1 = r + grid_mdp_ob.gamma * self.v[state]\n",
    "            for action in grid_mdp_ob.actions:\n",
    "                s,r,t,_ = grid_mdp_ob.transform(state,action)\n",
    "                if v1 < r + grid_mdp_ob.gamma * self.v[s]:\n",
    "                    a1 = action\n",
    "                    v1 = r + grid_mdp_ob.gamma * self.v[s]\n",
    "            self.pi[state] = a1\n",
    "\n",
    "    def identify(self,grid_mdp_ob: GridEnv):\n",
    "        import time\n",
    "        state = grid_mdp_ob.reset()\n",
    "        grid_mdp_ob.render()\n",
    "        time.sleep(2)\n",
    "        t = True if state in grid_mdp_ob.terminate_states else False\n",
    "        while t is False:\n",
    "            action = self.pi[state]\n",
    "            s,r,t,_ = grid_mdp_ob.step(action)\n",
    "            grid_mdp_ob.render()\n",
    "            state = s\n",
    "            time.sleep(2)\n",
    "        grid_mdp_ob.render(close=True)\n",
    "        return True"
   ],
   "metadata": {
    "collapsed": false,
    "pycharm": {
     "name": "#%%\n"
    }
   }
  },
  {
   "cell_type": "code",
   "execution_count": 3,
   "outputs": [],
   "source": [
    "# make environment\n",
    "env = gym.make('GridWorld-v0')"
   ],
   "metadata": {
    "collapsed": false,
    "pycharm": {
     "name": "#%%\n"
    }
   }
  },
  {
   "cell_type": "code",
   "execution_count": 4,
   "outputs": [
    {
     "data": {
      "text/plain": "({1: 'e', 2: 'e', 3: 'n', 4: 'n', 5: 'w', 6: 'w', 7: 'e', 8: 'n'},\n {1: 0, 2: 0, 3: 0, 4: 0, 5: 0, 6: 0, 7: 0, 8: 0})"
     },
     "execution_count": 4,
     "metadata": {},
     "output_type": "execute_result"
    }
   ],
   "source": [
    "# make Test instance\n",
    "test = Test(env)\n",
    "test.pi,test.v"
   ],
   "metadata": {
    "collapsed": false,
    "pycharm": {
     "name": "#%%\n"
    }
   }
  },
  {
   "cell_type": "code",
   "execution_count": 5,
   "outputs": [
    {
     "data": {
      "text/plain": "{1: 0.0, 2: 0.0, 3: 0.0, 4: 0.0, 5: 0.0, 6: 0, 7: 0, 8: 0}"
     },
     "execution_count": 5,
     "metadata": {},
     "output_type": "execute_result"
    }
   ],
   "source": [
    "# test evaluation function\n",
    "test.policy_evaluate(env)\n",
    "test.v"
   ],
   "metadata": {
    "collapsed": false,
    "pycharm": {
     "name": "#%%\n"
    }
   }
  },
  {
   "cell_type": "code",
   "execution_count": 6,
   "outputs": [
    {
     "data": {
      "text/plain": "{1: 'n', 2: 'n', 3: 's', 4: 'n', 5: 'n', 6: 'w', 7: 'e', 8: 'n'}"
     },
     "execution_count": 6,
     "metadata": {},
     "output_type": "execute_result"
    }
   ],
   "source": [
    "# test improve function\n",
    "test.policy_improve(env)\n",
    "test.pi"
   ],
   "metadata": {
    "collapsed": false,
    "pycharm": {
     "name": "#%%\n"
    }
   }
  },
  {
   "cell_type": "code",
   "execution_count": 7,
   "outputs": [
    {
     "name": "stdout",
     "output_type": "stream",
     "text": [
      "{1: 0.6400000000000001, 2: 0.8, 3: 1.0, 4: 0.8, 5: 0.6400000000000001, 6: 0, 7: 0, 8: 0}\n",
      "{1: 'e', 2: 'e', 3: 's', 4: 'w', 5: 'w', 6: 'w', 7: 'e', 8: 'n'}\n"
     ]
    }
   ],
   "source": [
    "test.policy_iterate(env)\n",
    "print(test.v)\n",
    "print(test.pi)"
   ],
   "metadata": {
    "collapsed": false,
    "pycharm": {
     "name": "#%%\n"
    }
   }
  },
  {
   "cell_type": "code",
   "execution_count": 8,
   "outputs": [
    {
     "data": {
      "text/plain": "True"
     },
     "execution_count": 8,
     "metadata": {},
     "output_type": "execute_result"
    }
   ],
   "source": [
    "# use the optimized strategy to test\n",
    "test.identify(env)"
   ],
   "metadata": {
    "collapsed": false,
    "pycharm": {
     "name": "#%%\n"
    }
   }
  }
 ],
 "metadata": {
  "kernelspec": {
   "name": "gymlab",
   "language": "python",
   "display_name": "Python gymlab"
  },
  "language_info": {
   "codemirror_mode": {
    "name": "ipython",
    "version": 2
   },
   "file_extension": ".py",
   "mimetype": "text/x-python",
   "name": "python",
   "nbconvert_exporter": "python",
   "pygments_lexer": "ipython2",
   "version": "2.7.6"
  }
 },
 "nbformat": 4,
 "nbformat_minor": 0
}