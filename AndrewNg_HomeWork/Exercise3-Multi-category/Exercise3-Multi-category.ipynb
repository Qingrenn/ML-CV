{
 "cells": [
  {
   "cell_type": "markdown",
   "metadata": {},
   "source": [
    "# 3.多分类"
   ]
  },
  {
   "cell_type": "code",
   "execution_count": 1,
   "metadata": {},
   "outputs": [],
   "source": [
    "import numpy as np\n",
    "import pandas as pd\n",
    "import matplotlib.pyplot as plt\n",
    "from scipy.io import loadmat"
   ]
  },
  {
   "cell_type": "markdown",
   "metadata": {},
   "source": [
    "## 3.1读取数据"
   ]
  },
  {
   "cell_type": "code",
   "execution_count": 2,
   "metadata": {},
   "outputs": [
    {
     "data": {
      "text/plain": [
       "{'__header__': b'MATLAB 5.0 MAT-file, Platform: GLNXA64, Created on: Sun Oct 16 13:09:09 2011',\n",
       " '__version__': '1.0',\n",
       " '__globals__': [],\n",
       " 'X': array([[0., 0., 0., ..., 0., 0., 0.],\n",
       "        [0., 0., 0., ..., 0., 0., 0.],\n",
       "        [0., 0., 0., ..., 0., 0., 0.],\n",
       "        ...,\n",
       "        [0., 0., 0., ..., 0., 0., 0.],\n",
       "        [0., 0., 0., ..., 0., 0., 0.],\n",
       "        [0., 0., 0., ..., 0., 0., 0.]]),\n",
       " 'y': array([[10],\n",
       "        [10],\n",
       "        [10],\n",
       "        ...,\n",
       "        [ 9],\n",
       "        [ 9],\n",
       "        [ 9]], dtype=uint8)}"
      ]
     },
     "execution_count": 2,
     "metadata": {},
     "output_type": "execute_result"
    }
   ],
   "source": [
    "data = loadmat('ex3data1.mat')\n",
    "data"
   ]
  },
  {
   "cell_type": "code",
   "execution_count": 3,
   "metadata": {},
   "outputs": [
    {
     "data": {
      "text/plain": [
       "dict"
      ]
     },
     "execution_count": 3,
     "metadata": {},
     "output_type": "execute_result"
    }
   ],
   "source": [
    "type(data)"
   ]
  },
  {
   "cell_type": "code",
   "execution_count": 4,
   "metadata": {},
   "outputs": [
    {
     "data": {
      "text/plain": [
       "((5000, 400), (5000, 1))"
      ]
     },
     "execution_count": 4,
     "metadata": {},
     "output_type": "execute_result"
    }
   ],
   "source": [
    "data['X'].shape,data['y'].shape"
   ]
  },
  {
   "cell_type": "code",
   "execution_count": 5,
   "metadata": {},
   "outputs": [
    {
     "data": {
      "text/plain": [
       "array([ 1,  2,  3,  4,  5,  6,  7,  8,  9, 10], dtype=uint8)"
      ]
     },
     "execution_count": 5,
     "metadata": {},
     "output_type": "execute_result"
    }
   ],
   "source": [
    "np.unique(data['y'])"
   ]
  },
  {
   "cell_type": "markdown",
   "metadata": {},
   "source": [
    "data数据中有5000个样本，每个样本的特征值有400个，每幅图像为20$\\times$20 pixels\n",
    "\n",
    "y中的数据为每幅图像的label"
   ]
  },
  {
   "cell_type": "markdown",
   "metadata": {},
   "source": [
    "## 3.2数据初始化"
   ]
  },
  {
   "cell_type": "code",
   "execution_count": 6,
   "metadata": {},
   "outputs": [],
   "source": [
    "X = np.insert(data['X'],0,1,axis=1)\n",
    "Y = data['y']\n",
    "label_nums = np.unique(data['y'])\n",
    "allTheta = np.zeros((len(label_nums),X.shape[1]))"
   ]
  },
  {
   "cell_type": "code",
   "execution_count": 7,
   "metadata": {},
   "outputs": [
    {
     "data": {
      "text/plain": [
       "((5000, 401),\n",
       " (5000, 1),\n",
       " (10, 401),\n",
       " array([ 1,  2,  3,  4,  5,  6,  7,  8,  9, 10], dtype=uint8))"
      ]
     },
     "execution_count": 7,
     "metadata": {},
     "output_type": "execute_result"
    }
   ],
   "source": [
    "X.shape,Y.shape,allTheta.shape,label_nums"
   ]
  },
  {
   "cell_type": "markdown",
   "metadata": {},
   "source": [
    "## 3.3代价函数"
   ]
  },
  {
   "cell_type": "markdown",
   "metadata": {},
   "source": [
    "sigmoid函数：\n",
    "<center>\n",
    "    $g(z)=\\frac{1}{1+e^{-z}}$\n",
    "</center>\n",
    "假设函数：\n",
    "<center>\n",
    "    $h_{\\theta}(X)=$ $\\frac{1}{1+e^{-\\theta^{T}X}}$\n",
    "</center>\n",
    "代价函数：\n",
    "<center>\n",
    "    $J(\\theta)=-\\frac{1}{M}\\sum\\limits_{i=1}^{M}(1-Y^{(i)})\\ln[1-h_\\theta(X^{(i)})]-Y^{(i)}\\ln[h_\\theta(X^{(i)})] + \\frac{\\lambda}{2M}\\sum\\limits_{j=2}^{N}(\\theta_j^2)$\n",
    "</center>"
   ]
  },
  {
   "cell_type": "code",
   "execution_count": 8,
   "metadata": {},
   "outputs": [],
   "source": [
    "def sigmoid(z):\n",
    "    return 1/(1+np.exp(-z))"
   ]
  },
  {
   "cell_type": "code",
   "execution_count": 9,
   "metadata": {},
   "outputs": [],
   "source": [
    "#theta(N,),X(M,N),Y(M,1)\n",
    "def computeCost(theta,X,Y,learningRate):\n",
    "    theta = theta.reshape((theta.shape[0],1)) #theta:(N,)->(N,1)\n",
    "    J1 = -1/len(X)*np.sum((1-Y)*np.log(1-sigmoid(X@theta))+Y*np.log(sigmoid(X@theta)))\n",
    "    theta_1_to_N = theta[:,1:]\n",
    "    J2 = learningRate/(2*len(X))*np.sum(np.power(theta_1_to_N,2))\n",
    "    return J1 + J2"
   ]
  },
  {
   "cell_type": "markdown",
   "metadata": {},
   "source": [
    "## 3.4计算梯度 "
   ]
  },
  {
   "cell_type": "markdown",
   "metadata": {},
   "source": [
    "正则化梯度：\n",
    "<center>\n",
    "$\\frac{\\partial J(\\theta)}{\\partial\\theta_j}=$$\\frac{1}{M}\\sum\\limits_{i=1}^{M}(h_\\theta(X^{(i)})-Y^{(i)})X_j^{(i)}+\\frac{\\lambda }{M}{{\\theta }_{j}}\\text{ }\\text{             for  j}\\ge \\text{1}$\n",
    "</center>"
   ]
  },
  {
   "cell_type": "code",
   "execution_count": 10,
   "metadata": {},
   "outputs": [],
   "source": [
    "#theta(N,1),X(M,N),Y(M,1)\n",
    "def gradient(theta,X,Y,learningRate):\n",
    "    theta = theta.reshape((theta.shape[0],1)) #theta:(n,)->(n,1)\n",
    "    G1 = 1/len(X)*X.T@(sigmoid(X@theta)-Y) #(N,1)\n",
    "    theta[0,0] = 0; #theta0不参与正则化\n",
    "    G2 = learningRate/len(X)*theta #(N,1)\n",
    "    return G1 + G2"
   ]
  },
  {
   "cell_type": "markdown",
   "metadata": {},
   "source": [
    "## 3.5训练模型"
   ]
  },
  {
   "cell_type": "code",
   "execution_count": 11,
   "metadata": {},
   "outputs": [],
   "source": [
    "from scipy.optimize import minimize\n",
    "def train(allTheta,label_nums,X,Y,learningRate):\n",
    "    for i in range(1,len(label_nums)+1):\n",
    "        theta = np.zeros((X.shape[1],))\n",
    "        y_i = np.array([1 if label == i else 0 for label in Y]) #处理Y，将除当前label的其他标签全部置为0，当前标签置为1\n",
    "        y_i = np.reshape(y_i,(X.shape[0],1)) #y_i:(M,1)\n",
    "        res = minimize(fun=computeCost,x0=theta,args=(X,y_i,learningRate),method='TNC',jac=gradient)\n",
    "        allTheta[i-1,:] = res.x\n",
    "    return allTheta"
   ]
  },
  {
   "cell_type": "code",
   "execution_count": 12,
   "metadata": {},
   "outputs": [],
   "source": [
    "res_allTtheta = train(allTheta,label_nums,X,Y,1)"
   ]
  },
  {
   "cell_type": "code",
   "execution_count": 13,
   "metadata": {},
   "outputs": [
    {
     "data": {
      "text/plain": [
       "(array([[-2.38144132e+00,  0.00000000e+00,  0.00000000e+00, ...,\n",
       "          1.30301970e-03, -4.03530454e-10,  0.00000000e+00],\n",
       "        [-3.16678713e+00,  0.00000000e+00,  0.00000000e+00, ...,\n",
       "          4.37134315e-03, -4.98907775e-04,  0.00000000e+00],\n",
       "        [-4.79115575e+00,  0.00000000e+00,  0.00000000e+00, ...,\n",
       "         -2.87023610e-05, -2.48486856e-07,  0.00000000e+00],\n",
       "        ...,\n",
       "        [-7.99441011e+00,  0.00000000e+00,  0.00000000e+00, ...,\n",
       "         -8.83764734e-05,  7.14701218e-06,  0.00000000e+00],\n",
       "        [-4.57790042e+00,  0.00000000e+00,  0.00000000e+00, ...,\n",
       "         -1.33412640e-03,  9.95192733e-05,  0.00000000e+00],\n",
       "        [-5.37978818e+00,  0.00000000e+00,  0.00000000e+00, ...,\n",
       "         -1.19016202e-04,  8.50472182e-06,  0.00000000e+00]]),\n",
       " (10, 401))"
      ]
     },
     "execution_count": 13,
     "metadata": {},
     "output_type": "execute_result"
    }
   ],
   "source": [
    "res_allTtheta,res_allTtheta.shape"
   ]
  },
  {
   "cell_type": "code",
   "execution_count": 14,
   "metadata": {},
   "outputs": [],
   "source": [
    "def predict_all(X,allTheta):\n",
    "    h = sigmoid(X@allTheta.T)\n",
    "    h_argmax = np.argmax(h,axis=1) + 1\n",
    "    return h_argmax"
   ]
  },
  {
   "cell_type": "code",
   "execution_count": 15,
   "metadata": {},
   "outputs": [
    {
     "name": "stdout",
     "output_type": "stream",
     "text": [
      "accuracy = 94.48%\n"
     ]
    }
   ],
   "source": [
    "Y_pred = predict_all(X,res_allTtheta)\n",
    "correct = [1 if a==b else 0 for (a,b) in zip(Y_pred,Y)]\n",
    "accuray = (sum(map(int,correct)))/float(len(correct))\n",
    "print('accuracy = {0}%'.format(accuray*100))"
   ]
  }
 ],
 "metadata": {
  "kernelspec": {
   "display_name": "Python 3",
   "language": "python",
   "name": "python3"
  },
  "language_info": {
   "codemirror_mode": {
    "name": "ipython",
    "version": 3
   },
   "file_extension": ".py",
   "mimetype": "text/x-python",
   "name": "python",
   "nbconvert_exporter": "python",
   "pygments_lexer": "ipython3",
   "version": "3.8.3"
  }
 },
 "nbformat": 4,
 "nbformat_minor": 4
}
