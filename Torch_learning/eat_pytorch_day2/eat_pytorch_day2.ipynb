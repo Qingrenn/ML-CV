{
 "cells": [
  {
   "cell_type": "code",
   "execution_count": 1,
   "metadata": {
    "ExecuteTime": {
     "end_time": "2021-01-27T09:22:49.646792Z",
     "start_time": "2021-01-27T09:22:49.643057Z"
    }
   },
   "outputs": [],
   "source": [
    "import os\n",
    "import datetime\n",
    "\n",
    "def printbar():\n",
    "    nowtime = datetime.datetime.now().strftime('%Y-%m-%d %H:%M:%S')\n",
    "    print(\"\\n\" + \"============\"*8 + \"%s\"%nowtime)"
   ]
  },
  {
   "cell_type": "code",
   "execution_count": 2,
   "metadata": {
    "ExecuteTime": {
     "end_time": "2021-01-27T09:22:49.650423Z",
     "start_time": "2021-01-27T09:22:49.648152Z"
    }
   },
   "outputs": [
    {
     "output_type": "stream",
     "name": "stdout",
     "text": [
      "\n================================================================================================2021-01-28 10:33:58\n"
     ]
    }
   ],
   "source": [
    "printbar()"
   ]
  },
  {
   "cell_type": "markdown",
   "metadata": {},
   "source": [
    "在Pytorch中构建图片数据管道通常有两种方法。\n",
    "\n",
    "1. 使用torchvision中的datasets.ImageFolder来读取图片然后使用DataLoader来并行加载。\n",
    "2. 通过继承torch.utils.data.Dataset实现用户自定义读取逻辑然后用DataLoader来并行加载。\n",
    "3. 通过读取用户自定义数据集的用用方法，即可以读取图片数据集，也可以读取文本数据集。"
   ]
  },
  {
   "cell_type": "code",
   "execution_count": 3,
   "metadata": {
    "ExecuteTime": {
     "end_time": "2021-01-27T09:22:49.907876Z",
     "start_time": "2021-01-27T09:22:49.651604Z"
    }
   },
   "outputs": [],
   "source": [
    "import torch\n",
    "from torch import nn\n",
    "from torch.utils.data import Dataset, DataLoader\n",
    "from torchvision import transforms,datasets"
   ]
  },
  {
   "cell_type": "code",
   "execution_count": 4,
   "metadata": {
    "ExecuteTime": {
     "end_time": "2021-01-27T09:22:49.910976Z",
     "start_time": "2021-01-27T09:22:49.908812Z"
    }
   },
   "outputs": [],
   "source": [
    "transform_train = transforms.Compose([transforms.ToTensor()])\n",
    "transform_valid = transforms.Compose([transforms.ToTensor()])"
   ]
  },
  {
   "cell_type": "code",
   "execution_count": 5,
   "metadata": {
    "ExecuteTime": {
     "end_time": "2021-01-27T09:22:49.936602Z",
     "start_time": "2021-01-27T09:22:49.912051Z"
    }
   },
   "outputs": [
    {
     "output_type": "stream",
     "name": "stdout",
     "text": [
      "{'0_airplane': 0, '1_automobile': 1}\n"
     ]
    }
   ],
   "source": [
    "'''\n",
    "ImageFolder假设所有的文件按文件夹保存，每个文件夹下存储同一个类别的图片，文件夹名为类名。\n",
    "'''\n",
    "ds_train = datasets.ImageFolder(\"./cifar2/train\",\n",
    "                                transform=transform_train,                                                                                 target_transform=lambda t: torch.tensor([t]).float())\n",
    "ds_valid = datasets.ImageFolder(\"./cifar2/test\",\n",
    "                                transform=transform_valid,\n",
    "                                target_transform=lambda t: torch.tensor([t]).float())\n",
    "'''\n",
    "label是按照文件夹名顺序排序后存成字典，即{类名:类序号(从0开始)}，一般来说最好直接将文件夹命名为从0开始的数字，\n",
    "这样会和ImageFolder实际的label一致，如果不是这种命名规范，建议看看self.class_to_idx属性以了解label和文件夹名的映射关系。\n",
    "'''\n",
    "print(ds_train.class_to_idx)"
   ]
  },
  {
   "cell_type": "code",
   "execution_count": 6,
   "metadata": {
    "ExecuteTime": {
     "end_time": "2021-01-27T09:22:49.939647Z",
     "start_time": "2021-01-27T09:22:49.937482Z"
    }
   },
   "outputs": [],
   "source": [
    "dl_train = DataLoader(ds_train, batch_size=50, shuffle=True, num_workers=3)\n",
    "dl_valid = DataLoader(ds_valid, batch_size=50, shuffle=True, num_workers=3)"
   ]
  },
  {
   "cell_type": "code",
   "execution_count": 7,
   "metadata": {
    "ExecuteTime": {
     "end_time": "2021-01-27T09:22:50.270187Z",
     "start_time": "2021-01-27T09:22:49.940621Z"
    }
   },
   "outputs": [
    {
     "output_type": "display_data",
     "data": {
      "text/plain": "<Figure size 576x576 with 9 Axes>",
      "image/svg+xml": "<?xml version=\"1.0\" encoding=\"utf-8\" standalone=\"no\"?>\n<!DOCTYPE svg PUBLIC \"-//W3C//DTD SVG 1.1//EN\"\n  \"http://www.w3.org/Graphics/SVG/1.1/DTD/svg11.dtd\">\n<!-- Created with matplotlib (https://matplotlib.org/) -->\n<svg height=\"467.898125pt\" version=\"1.1\" viewBox=\"0 0 460.911765 467.898125\" width=\"460.911765pt\" xmlns=\"http://www.w3.org/2000/svg\" xmlns:xlink=\"http://www.w3.org/1999/xlink\">\n <metadata>\n  <rdf:RDF xmlns:cc=\"http://creativecommons.org/ns#\" xmlns:dc=\"http://purl.org/dc/elements/1.1/\" xmlns:rdf=\"http://www.w3.org/1999/02/22-rdf-syntax-ns#\">\n   <cc:Work>\n    <dc:type rdf:resource=\"http://purl.org/dc/dcmitype/StillImage\"/>\n    <dc:date>2021-01-28T10:33:59.714164</dc:date>\n    <dc:format>image/svg+xml</dc:format>\n    <dc:creator>\n     <cc:Agent>\n      <dc:title>Matplotlib v3.3.2, https://matplotlib.org/</dc:title>\n     </cc:Agent>\n    </dc:creator>\n   </cc:Work>\n  </rdf:RDF>\n </metadata>\n <defs>\n  <style type=\"text/css\">*{stroke-linecap:butt;stroke-linejoin:round;}</style>\n </defs>\n <g id=\"figure_1\">\n  <g id=\"patch_1\">\n   <path d=\"M 0 467.898125 \nL 460.911765 467.898125 \nL 460.911765 0 \nL 0 0 \nz\n\" style=\"fill:none;\"/>\n  </g>\n  <g id=\"axes_1\">\n   <g id=\"patch_2\">\n    <path d=\"M 10.7 150.224007 \nL 138.605882 150.224007 \nL 138.605882 22.318125 \nL 10.7 22.318125 \nz\n\" style=\"fill:#ffffff;\"/>\n   </g>\n   <g clip-path=\"url(#p9266d45299)\">\n    <image height=\"128\" id=\"image1c79a4731e\" transform=\"scale(1 -1)translate(0 -128)\" width=\"128\" x=\"10.7\" xlink:href=\"data:image/png;base64,\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\" y=\"-22.224007\"/>\n   </g>\n   <g id=\"matplotlib.axis_1\"/>\n   <g id=\"matplotlib.axis_2\"/>\n   <g id=\"patch_3\">\n    <path d=\"M 10.7 150.224007 \nL 10.7 22.318125 \n\" style=\"fill:none;stroke:#000000;stroke-linecap:square;stroke-linejoin:miter;stroke-width:0.8;\"/>\n   </g>\n   <g id=\"patch_4\">\n    <path d=\"M 138.605882 150.224007 \nL 138.605882 22.318125 \n\" style=\"fill:none;stroke:#000000;stroke-linecap:square;stroke-linejoin:miter;stroke-width:0.8;\"/>\n   </g>\n   <g id=\"patch_5\">\n    <path d=\"M 10.7 150.224007 \nL 138.605882 150.224007 \n\" style=\"fill:none;stroke:#000000;stroke-linecap:square;stroke-linejoin:miter;stroke-width:0.8;\"/>\n   </g>\n   <g id=\"patch_6\">\n    <path d=\"M 10.7 22.318125 \nL 138.605882 22.318125 \n\" style=\"fill:none;stroke:#000000;stroke-linecap:square;stroke-linejoin:miter;stroke-width:0.8;\"/>\n   </g>\n   <g id=\"text_1\">\n    <!-- label = 1 -->\n    <g transform=\"translate(47.482316 16.318125)scale(0.12 -0.12)\">\n     <defs>\n      <path d=\"M 9.421875 75.984375 \nL 18.40625 75.984375 \nL 18.40625 0 \nL 9.421875 0 \nz\n\" id=\"DejaVuSans-108\"/>\n      <path d=\"M 34.28125 27.484375 \nQ 23.390625 27.484375 19.1875 25 \nQ 14.984375 22.515625 14.984375 16.5 \nQ 14.984375 11.71875 18.140625 8.90625 \nQ 21.296875 6.109375 26.703125 6.109375 \nQ 34.1875 6.109375 38.703125 11.40625 \nQ 43.21875 16.703125 43.21875 25.484375 \nL 43.21875 27.484375 \nz\nM 52.203125 31.203125 \nL 52.203125 0 \nL 43.21875 0 \nL 43.21875 8.296875 \nQ 40.140625 3.328125 35.546875 0.953125 \nQ 30.953125 -1.421875 24.3125 -1.421875 \nQ 15.921875 -1.421875 10.953125 3.296875 \nQ 6 8.015625 6 15.921875 \nQ 6 25.140625 12.171875 29.828125 \nQ 18.359375 34.515625 30.609375 34.515625 \nL 43.21875 34.515625 \nL 43.21875 35.40625 \nQ 43.21875 41.609375 39.140625 45 \nQ 35.0625 48.390625 27.6875 48.390625 \nQ 23 48.390625 18.546875 47.265625 \nQ 14.109375 46.140625 10.015625 43.890625 \nL 10.015625 52.203125 \nQ 14.9375 54.109375 19.578125 55.046875 \nQ 24.21875 56 28.609375 56 \nQ 40.484375 56 46.34375 49.84375 \nQ 52.203125 43.703125 52.203125 31.203125 \nz\n\" id=\"DejaVuSans-97\"/>\n      <path d=\"M 48.6875 27.296875 \nQ 48.6875 37.203125 44.609375 42.84375 \nQ 40.53125 48.484375 33.40625 48.484375 \nQ 26.265625 48.484375 22.1875 42.84375 \nQ 18.109375 37.203125 18.109375 27.296875 \nQ 18.109375 17.390625 22.1875 11.75 \nQ 26.265625 6.109375 33.40625 6.109375 \nQ 40.53125 6.109375 44.609375 11.75 \nQ 48.6875 17.390625 48.6875 27.296875 \nz\nM 18.109375 46.390625 \nQ 20.953125 51.265625 25.265625 53.625 \nQ 29.59375 56 35.59375 56 \nQ 45.5625 56 51.78125 48.09375 \nQ 58.015625 40.1875 58.015625 27.296875 \nQ 58.015625 14.40625 51.78125 6.484375 \nQ 45.5625 -1.421875 35.59375 -1.421875 \nQ 29.59375 -1.421875 25.265625 0.953125 \nQ 20.953125 3.328125 18.109375 8.203125 \nL 18.109375 0 \nL 9.078125 0 \nL 9.078125 75.984375 \nL 18.109375 75.984375 \nz\n\" id=\"DejaVuSans-98\"/>\n      <path d=\"M 56.203125 29.59375 \nL 56.203125 25.203125 \nL 14.890625 25.203125 \nQ 15.484375 15.921875 20.484375 11.0625 \nQ 25.484375 6.203125 34.421875 6.203125 \nQ 39.59375 6.203125 44.453125 7.46875 \nQ 49.3125 8.734375 54.109375 11.28125 \nL 54.109375 2.78125 \nQ 49.265625 0.734375 44.1875 -0.34375 \nQ 39.109375 -1.421875 33.890625 -1.421875 \nQ 20.796875 -1.421875 13.15625 6.1875 \nQ 5.515625 13.8125 5.515625 26.8125 \nQ 5.515625 40.234375 12.765625 48.109375 \nQ 20.015625 56 32.328125 56 \nQ 43.359375 56 49.78125 48.890625 \nQ 56.203125 41.796875 56.203125 29.59375 \nz\nM 47.21875 32.234375 \nQ 47.125 39.59375 43.09375 43.984375 \nQ 39.0625 48.390625 32.421875 48.390625 \nQ 24.90625 48.390625 20.390625 44.140625 \nQ 15.875 39.890625 15.1875 32.171875 \nz\n\" id=\"DejaVuSans-101\"/>\n      <path id=\"DejaVuSans-32\"/>\n      <path d=\"M 10.59375 45.40625 \nL 73.1875 45.40625 \nL 73.1875 37.203125 \nL 10.59375 37.203125 \nz\nM 10.59375 25.484375 \nL 73.1875 25.484375 \nL 73.1875 17.1875 \nL 10.59375 17.1875 \nz\n\" id=\"DejaVuSans-61\"/>\n      <path d=\"M 12.40625 8.296875 \nL 28.515625 8.296875 \nL 28.515625 63.921875 \nL 10.984375 60.40625 \nL 10.984375 69.390625 \nL 28.421875 72.90625 \nL 38.28125 72.90625 \nL 38.28125 8.296875 \nL 54.390625 8.296875 \nL 54.390625 0 \nL 12.40625 0 \nz\n\" id=\"DejaVuSans-49\"/>\n     </defs>\n     <use xlink:href=\"#DejaVuSans-108\"/>\n     <use x=\"27.783203\" xlink:href=\"#DejaVuSans-97\"/>\n     <use x=\"89.0625\" xlink:href=\"#DejaVuSans-98\"/>\n     <use x=\"152.539062\" xlink:href=\"#DejaVuSans-101\"/>\n     <use x=\"214.0625\" xlink:href=\"#DejaVuSans-108\"/>\n     <use x=\"241.845703\" xlink:href=\"#DejaVuSans-32\"/>\n     <use x=\"273.632812\" xlink:href=\"#DejaVuSans-61\"/>\n     <use x=\"357.421875\" xlink:href=\"#DejaVuSans-32\"/>\n     <use x=\"389.208984\" xlink:href=\"#DejaVuSans-49\"/>\n    </g>\n   </g>\n  </g>\n  <g id=\"axes_2\">\n   <g id=\"patch_7\">\n    <path d=\"M 168.252941 150.224007 \nL 296.158824 150.224007 \nL 296.158824 22.318125 \nL 168.252941 22.318125 \nz\n\" style=\"fill:#ffffff;\"/>\n   </g>\n   <g clip-path=\"url(#pba64160fb0)\">\n    <image height=\"128\" id=\"imagea225af494a\" transform=\"scale(1 -1)translate(0 -128)\" width=\"128\" x=\"168.252941\" xlink:href=\"data:image/png;base64,\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\" y=\"-22.224007\"/>\n   </g>\n   <g id=\"matplotlib.axis_3\"/>\n   <g id=\"matplotlib.axis_4\"/>\n   <g id=\"patch_8\">\n    <path d=\"M 168.252941 150.224007 \nL 168.252941 22.318125 \n\" style=\"fill:none;stroke:#000000;stroke-linecap:square;stroke-linejoin:miter;stroke-width:0.8;\"/>\n   </g>\n   <g id=\"patch_9\">\n    <path d=\"M 296.158824 150.224007 \nL 296.158824 22.318125 \n\" style=\"fill:none;stroke:#000000;stroke-linecap:square;stroke-linejoin:miter;stroke-width:0.8;\"/>\n   </g>\n   <g id=\"patch_10\">\n    <path d=\"M 168.252941 150.224007 \nL 296.158824 150.224007 \n\" style=\"fill:none;stroke:#000000;stroke-linecap:square;stroke-linejoin:miter;stroke-width:0.8;\"/>\n   </g>\n   <g id=\"patch_11\">\n    <path d=\"M 168.252941 22.318125 \nL 296.158824 22.318125 \n\" style=\"fill:none;stroke:#000000;stroke-linecap:square;stroke-linejoin:miter;stroke-width:0.8;\"/>\n   </g>\n   <g id=\"text_2\">\n    <!-- label = 0 -->\n    <g transform=\"translate(205.035257 16.318125)scale(0.12 -0.12)\">\n     <defs>\n      <path d=\"M 31.78125 66.40625 \nQ 24.171875 66.40625 20.328125 58.90625 \nQ 16.5 51.421875 16.5 36.375 \nQ 16.5 21.390625 20.328125 13.890625 \nQ 24.171875 6.390625 31.78125 6.390625 \nQ 39.453125 6.390625 43.28125 13.890625 \nQ 47.125 21.390625 47.125 36.375 \nQ 47.125 51.421875 43.28125 58.90625 \nQ 39.453125 66.40625 31.78125 66.40625 \nz\nM 31.78125 74.21875 \nQ 44.046875 74.21875 50.515625 64.515625 \nQ 56.984375 54.828125 56.984375 36.375 \nQ 56.984375 17.96875 50.515625 8.265625 \nQ 44.046875 -1.421875 31.78125 -1.421875 \nQ 19.53125 -1.421875 13.0625 8.265625 \nQ 6.59375 17.96875 6.59375 36.375 \nQ 6.59375 54.828125 13.0625 64.515625 \nQ 19.53125 74.21875 31.78125 74.21875 \nz\n\" id=\"DejaVuSans-48\"/>\n     </defs>\n     <use xlink:href=\"#DejaVuSans-108\"/>\n     <use x=\"27.783203\" xlink:href=\"#DejaVuSans-97\"/>\n     <use x=\"89.0625\" xlink:href=\"#DejaVuSans-98\"/>\n     <use x=\"152.539062\" xlink:href=\"#DejaVuSans-101\"/>\n     <use x=\"214.0625\" xlink:href=\"#DejaVuSans-108\"/>\n     <use x=\"241.845703\" xlink:href=\"#DejaVuSans-32\"/>\n     <use x=\"273.632812\" xlink:href=\"#DejaVuSans-61\"/>\n     <use x=\"357.421875\" xlink:href=\"#DejaVuSans-32\"/>\n     <use x=\"389.208984\" xlink:href=\"#DejaVuSans-48\"/>\n    </g>\n   </g>\n  </g>\n  <g id=\"axes_3\">\n   <g id=\"patch_12\">\n    <path d=\"M 325.805882 150.224007 \nL 453.711765 150.224007 \nL 453.711765 22.318125 \nL 325.805882 22.318125 \nz\n\" style=\"fill:#ffffff;\"/>\n   </g>\n   <g clip-path=\"url(#p1ad17abb8c)\">\n    <image height=\"128\" id=\"image7270901444\" transform=\"scale(1 -1)translate(0 -128)\" width=\"128\" x=\"325.805882\" xlink:href=\"data:image/png;base64,\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\" y=\"-22.224007\"/>\n   </g>\n   <g id=\"matplotlib.axis_5\"/>\n   <g id=\"matplotlib.axis_6\"/>\n   <g id=\"patch_13\">\n    <path d=\"M 325.805882 150.224007 \nL 325.805882 22.318125 \n\" style=\"fill:none;stroke:#000000;stroke-linecap:square;stroke-linejoin:miter;stroke-width:0.8;\"/>\n   </g>\n   <g id=\"patch_14\">\n    <path d=\"M 453.711765 150.224007 \nL 453.711765 22.318125 \n\" style=\"fill:none;stroke:#000000;stroke-linecap:square;stroke-linejoin:miter;stroke-width:0.8;\"/>\n   </g>\n   <g id=\"patch_15\">\n    <path d=\"M 325.805882 150.224007 \nL 453.711765 150.224007 \n\" style=\"fill:none;stroke:#000000;stroke-linecap:square;stroke-linejoin:miter;stroke-width:0.8;\"/>\n   </g>\n   <g id=\"patch_16\">\n    <path d=\"M 325.805882 22.318125 \nL 453.711765 22.318125 \n\" style=\"fill:none;stroke:#000000;stroke-linecap:square;stroke-linejoin:miter;stroke-width:0.8;\"/>\n   </g>\n   <g id=\"text_3\">\n    <!-- label = 0 -->\n    <g transform=\"translate(362.588199 16.318125)scale(0.12 -0.12)\">\n     <use xlink:href=\"#DejaVuSans-108\"/>\n     <use x=\"27.783203\" xlink:href=\"#DejaVuSans-97\"/>\n     <use x=\"89.0625\" xlink:href=\"#DejaVuSans-98\"/>\n     <use x=\"152.539062\" xlink:href=\"#DejaVuSans-101\"/>\n     <use x=\"214.0625\" xlink:href=\"#DejaVuSans-108\"/>\n     <use x=\"241.845703\" xlink:href=\"#DejaVuSans-32\"/>\n     <use x=\"273.632812\" xlink:href=\"#DejaVuSans-61\"/>\n     <use x=\"357.421875\" xlink:href=\"#DejaVuSans-32\"/>\n     <use x=\"389.208984\" xlink:href=\"#DejaVuSans-48\"/>\n    </g>\n   </g>\n  </g>\n  <g id=\"axes_4\">\n   <g id=\"patch_17\">\n    <path d=\"M 10.7 303.711066 \nL 138.605882 303.711066 \nL 138.605882 175.805184 \nL 10.7 175.805184 \nz\n\" style=\"fill:#ffffff;\"/>\n   </g>\n   <g clip-path=\"url(#p9a5afcd5b2)\">\n    <image height=\"128\" id=\"image869a3245d3\" transform=\"scale(1 -1)translate(0 -128)\" width=\"128\" x=\"10.7\" xlink:href=\"data:image/png;base64,\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\" y=\"-175.711066\"/>\n   </g>\n   <g id=\"matplotlib.axis_7\"/>\n   <g id=\"matplotlib.axis_8\"/>\n   <g id=\"patch_18\">\n    <path d=\"M 10.7 303.711066 \nL 10.7 175.805184 \n\" style=\"fill:none;stroke:#000000;stroke-linecap:square;stroke-linejoin:miter;stroke-width:0.8;\"/>\n   </g>\n   <g id=\"patch_19\">\n    <path d=\"M 138.605882 303.711066 \nL 138.605882 175.805184 \n\" style=\"fill:none;stroke:#000000;stroke-linecap:square;stroke-linejoin:miter;stroke-width:0.8;\"/>\n   </g>\n   <g id=\"patch_20\">\n    <path d=\"M 10.7 303.711066 \nL 138.605882 303.711066 \n\" style=\"fill:none;stroke:#000000;stroke-linecap:square;stroke-linejoin:miter;stroke-width:0.8;\"/>\n   </g>\n   <g id=\"patch_21\">\n    <path d=\"M 10.7 175.805184 \nL 138.605882 175.805184 \n\" style=\"fill:none;stroke:#000000;stroke-linecap:square;stroke-linejoin:miter;stroke-width:0.8;\"/>\n   </g>\n   <g id=\"text_4\">\n    <!-- label = 0 -->\n    <g transform=\"translate(47.482316 169.805184)scale(0.12 -0.12)\">\n     <use xlink:href=\"#DejaVuSans-108\"/>\n     <use x=\"27.783203\" xlink:href=\"#DejaVuSans-97\"/>\n     <use x=\"89.0625\" xlink:href=\"#DejaVuSans-98\"/>\n     <use x=\"152.539062\" xlink:href=\"#DejaVuSans-101\"/>\n     <use x=\"214.0625\" xlink:href=\"#DejaVuSans-108\"/>\n     <use x=\"241.845703\" xlink:href=\"#DejaVuSans-32\"/>\n     <use x=\"273.632812\" xlink:href=\"#DejaVuSans-61\"/>\n     <use x=\"357.421875\" xlink:href=\"#DejaVuSans-32\"/>\n     <use x=\"389.208984\" xlink:href=\"#DejaVuSans-48\"/>\n    </g>\n   </g>\n  </g>\n  <g id=\"axes_5\">\n   <g id=\"patch_22\">\n    <path d=\"M 168.252941 303.711066 \nL 296.158824 303.711066 \nL 296.158824 175.805184 \nL 168.252941 175.805184 \nz\n\" style=\"fill:#ffffff;\"/>\n   </g>\n   <g clip-path=\"url(#p814344aa94)\">\n    <image height=\"128\" id=\"imagea8660adf1f\" transform=\"scale(1 -1)translate(0 -128)\" width=\"128\" x=\"168.252941\" xlink:href=\"data:image/png;base64,\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\" y=\"-175.711066\"/>\n   </g>\n   <g id=\"matplotlib.axis_9\"/>\n   <g id=\"matplotlib.axis_10\"/>\n   <g id=\"patch_23\">\n    <path d=\"M 168.252941 303.711066 \nL 168.252941 175.805184 \n\" style=\"fill:none;stroke:#000000;stroke-linecap:square;stroke-linejoin:miter;stroke-width:0.8;\"/>\n   </g>\n   <g id=\"patch_24\">\n    <path d=\"M 296.158824 303.711066 \nL 296.158824 175.805184 \n\" style=\"fill:none;stroke:#000000;stroke-linecap:square;stroke-linejoin:miter;stroke-width:0.8;\"/>\n   </g>\n   <g id=\"patch_25\">\n    <path d=\"M 168.252941 303.711066 \nL 296.158824 303.711066 \n\" style=\"fill:none;stroke:#000000;stroke-linecap:square;stroke-linejoin:miter;stroke-width:0.8;\"/>\n   </g>\n   <g id=\"patch_26\">\n    <path d=\"M 168.252941 175.805184 \nL 296.158824 175.805184 \n\" style=\"fill:none;stroke:#000000;stroke-linecap:square;stroke-linejoin:miter;stroke-width:0.8;\"/>\n   </g>\n   <g id=\"text_5\">\n    <!-- label = 0 -->\n    <g transform=\"translate(205.035257 169.805184)scale(0.12 -0.12)\">\n     <use xlink:href=\"#DejaVuSans-108\"/>\n     <use x=\"27.783203\" xlink:href=\"#DejaVuSans-97\"/>\n     <use x=\"89.0625\" xlink:href=\"#DejaVuSans-98\"/>\n     <use x=\"152.539062\" xlink:href=\"#DejaVuSans-101\"/>\n     <use x=\"214.0625\" xlink:href=\"#DejaVuSans-108\"/>\n     <use x=\"241.845703\" xlink:href=\"#DejaVuSans-32\"/>\n     <use x=\"273.632812\" xlink:href=\"#DejaVuSans-61\"/>\n     <use x=\"357.421875\" xlink:href=\"#DejaVuSans-32\"/>\n     <use x=\"389.208984\" xlink:href=\"#DejaVuSans-48\"/>\n    </g>\n   </g>\n  </g>\n  <g id=\"axes_6\">\n   <g id=\"patch_27\">\n    <path d=\"M 325.805882 303.711066 \nL 453.711765 303.711066 \nL 453.711765 175.805184 \nL 325.805882 175.805184 \nz\n\" style=\"fill:#ffffff;\"/>\n   </g>\n   <g clip-path=\"url(#p1aad1ba461)\">\n    <image height=\"128\" id=\"image8ffbc60b04\" transform=\"scale(1 -1)translate(0 -128)\" width=\"128\" x=\"325.805882\" xlink:href=\"data:image/png;base64,\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\" y=\"-175.711066\"/>\n   </g>\n   <g id=\"matplotlib.axis_11\"/>\n   <g id=\"matplotlib.axis_12\"/>\n   <g id=\"patch_28\">\n    <path d=\"M 325.805882 303.711066 \nL 325.805882 175.805184 \n\" style=\"fill:none;stroke:#000000;stroke-linecap:square;stroke-linejoin:miter;stroke-width:0.8;\"/>\n   </g>\n   <g id=\"patch_29\">\n    <path d=\"M 453.711765 303.711066 \nL 453.711765 175.805184 \n\" style=\"fill:none;stroke:#000000;stroke-linecap:square;stroke-linejoin:miter;stroke-width:0.8;\"/>\n   </g>\n   <g id=\"patch_30\">\n    <path d=\"M 325.805882 303.711066 \nL 453.711765 303.711066 \n\" style=\"fill:none;stroke:#000000;stroke-linecap:square;stroke-linejoin:miter;stroke-width:0.8;\"/>\n   </g>\n   <g id=\"patch_31\">\n    <path d=\"M 325.805882 175.805184 \nL 453.711765 175.805184 \n\" style=\"fill:none;stroke:#000000;stroke-linecap:square;stroke-linejoin:miter;stroke-width:0.8;\"/>\n   </g>\n   <g id=\"text_6\">\n    <!-- label = 1 -->\n    <g transform=\"translate(362.588199 169.805184)scale(0.12 -0.12)\">\n     <use xlink:href=\"#DejaVuSans-108\"/>\n     <use x=\"27.783203\" xlink:href=\"#DejaVuSans-97\"/>\n     <use x=\"89.0625\" xlink:href=\"#DejaVuSans-98\"/>\n     <use x=\"152.539062\" xlink:href=\"#DejaVuSans-101\"/>\n     <use x=\"214.0625\" xlink:href=\"#DejaVuSans-108\"/>\n     <use x=\"241.845703\" xlink:href=\"#DejaVuSans-32\"/>\n     <use x=\"273.632812\" xlink:href=\"#DejaVuSans-61\"/>\n     <use x=\"357.421875\" xlink:href=\"#DejaVuSans-32\"/>\n     <use x=\"389.208984\" xlink:href=\"#DejaVuSans-49\"/>\n    </g>\n   </g>\n  </g>\n  <g id=\"axes_7\">\n   <g id=\"patch_32\">\n    <path d=\"M 10.7 457.198125 \nL 138.605882 457.198125 \nL 138.605882 329.292243 \nL 10.7 329.292243 \nz\n\" style=\"fill:#ffffff;\"/>\n   </g>\n   <g clip-path=\"url(#pcd92fa44bb)\">\n    <image height=\"128\" id=\"image351d1ab953\" transform=\"scale(1 -1)translate(0 -128)\" width=\"128\" x=\"10.7\" xlink:href=\"data:image/png;base64,\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\" y=\"-329.198125\"/>\n   </g>\n   <g id=\"matplotlib.axis_13\"/>\n   <g id=\"matplotlib.axis_14\"/>\n   <g id=\"patch_33\">\n    <path d=\"M 10.7 457.198125 \nL 10.7 329.292243 \n\" style=\"fill:none;stroke:#000000;stroke-linecap:square;stroke-linejoin:miter;stroke-width:0.8;\"/>\n   </g>\n   <g id=\"patch_34\">\n    <path d=\"M 138.605882 457.198125 \nL 138.605882 329.292243 \n\" style=\"fill:none;stroke:#000000;stroke-linecap:square;stroke-linejoin:miter;stroke-width:0.8;\"/>\n   </g>\n   <g id=\"patch_35\">\n    <path d=\"M 10.7 457.198125 \nL 138.605882 457.198125 \n\" style=\"fill:none;stroke:#000000;stroke-linecap:square;stroke-linejoin:miter;stroke-width:0.8;\"/>\n   </g>\n   <g id=\"patch_36\">\n    <path d=\"M 10.7 329.292243 \nL 138.605882 329.292243 \n\" style=\"fill:none;stroke:#000000;stroke-linecap:square;stroke-linejoin:miter;stroke-width:0.8;\"/>\n   </g>\n   <g id=\"text_7\">\n    <!-- label = 0 -->\n    <g transform=\"translate(47.482316 323.292243)scale(0.12 -0.12)\">\n     <use xlink:href=\"#DejaVuSans-108\"/>\n     <use x=\"27.783203\" xlink:href=\"#DejaVuSans-97\"/>\n     <use x=\"89.0625\" xlink:href=\"#DejaVuSans-98\"/>\n     <use x=\"152.539062\" xlink:href=\"#DejaVuSans-101\"/>\n     <use x=\"214.0625\" xlink:href=\"#DejaVuSans-108\"/>\n     <use x=\"241.845703\" xlink:href=\"#DejaVuSans-32\"/>\n     <use x=\"273.632812\" xlink:href=\"#DejaVuSans-61\"/>\n     <use x=\"357.421875\" xlink:href=\"#DejaVuSans-32\"/>\n     <use x=\"389.208984\" xlink:href=\"#DejaVuSans-48\"/>\n    </g>\n   </g>\n  </g>\n  <g id=\"axes_8\">\n   <g id=\"patch_37\">\n    <path d=\"M 168.252941 457.198125 \nL 296.158824 457.198125 \nL 296.158824 329.292243 \nL 168.252941 329.292243 \nz\n\" style=\"fill:#ffffff;\"/>\n   </g>\n   <g clip-path=\"url(#p7ad8aae99a)\">\n    <image height=\"128\" id=\"imagea90086cb84\" transform=\"scale(1 -1)translate(0 -128)\" width=\"128\" x=\"168.252941\" xlink:href=\"data:image/png;base64,\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\" y=\"-329.198125\"/>\n   </g>\n   <g id=\"matplotlib.axis_15\"/>\n   <g id=\"matplotlib.axis_16\"/>\n   <g id=\"patch_38\">\n    <path d=\"M 168.252941 457.198125 \nL 168.252941 329.292243 \n\" style=\"fill:none;stroke:#000000;stroke-linecap:square;stroke-linejoin:miter;stroke-width:0.8;\"/>\n   </g>\n   <g id=\"patch_39\">\n    <path d=\"M 296.158824 457.198125 \nL 296.158824 329.292243 \n\" style=\"fill:none;stroke:#000000;stroke-linecap:square;stroke-linejoin:miter;stroke-width:0.8;\"/>\n   </g>\n   <g id=\"patch_40\">\n    <path d=\"M 168.252941 457.198125 \nL 296.158824 457.198125 \n\" style=\"fill:none;stroke:#000000;stroke-linecap:square;stroke-linejoin:miter;stroke-width:0.8;\"/>\n   </g>\n   <g id=\"patch_41\">\n    <path d=\"M 168.252941 329.292243 \nL 296.158824 329.292243 \n\" style=\"fill:none;stroke:#000000;stroke-linecap:square;stroke-linejoin:miter;stroke-width:0.8;\"/>\n   </g>\n   <g id=\"text_8\">\n    <!-- label = 1 -->\n    <g transform=\"translate(205.035257 323.292243)scale(0.12 -0.12)\">\n     <use xlink:href=\"#DejaVuSans-108\"/>\n     <use x=\"27.783203\" xlink:href=\"#DejaVuSans-97\"/>\n     <use x=\"89.0625\" xlink:href=\"#DejaVuSans-98\"/>\n     <use x=\"152.539062\" xlink:href=\"#DejaVuSans-101\"/>\n     <use x=\"214.0625\" xlink:href=\"#DejaVuSans-108\"/>\n     <use x=\"241.845703\" xlink:href=\"#DejaVuSans-32\"/>\n     <use x=\"273.632812\" xlink:href=\"#DejaVuSans-61\"/>\n     <use x=\"357.421875\" xlink:href=\"#DejaVuSans-32\"/>\n     <use x=\"389.208984\" xlink:href=\"#DejaVuSans-49\"/>\n    </g>\n   </g>\n  </g>\n  <g id=\"axes_9\">\n   <g id=\"patch_42\">\n    <path d=\"M 325.805882 457.198125 \nL 453.711765 457.198125 \nL 453.711765 329.292243 \nL 325.805882 329.292243 \nz\n\" style=\"fill:#ffffff;\"/>\n   </g>\n   <g clip-path=\"url(#pa5674703e7)\">\n    <image height=\"128\" id=\"image31102723a6\" transform=\"scale(1 -1)translate(0 -128)\" width=\"128\" x=\"325.805882\" xlink:href=\"data:image/png;base64,\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\" y=\"-329.198125\"/>\n   </g>\n   <g id=\"matplotlib.axis_17\"/>\n   <g id=\"matplotlib.axis_18\"/>\n   <g id=\"patch_43\">\n    <path d=\"M 325.805882 457.198125 \nL 325.805882 329.292243 \n\" style=\"fill:none;stroke:#000000;stroke-linecap:square;stroke-linejoin:miter;stroke-width:0.8;\"/>\n   </g>\n   <g id=\"patch_44\">\n    <path d=\"M 453.711765 457.198125 \nL 453.711765 329.292243 \n\" style=\"fill:none;stroke:#000000;stroke-linecap:square;stroke-linejoin:miter;stroke-width:0.8;\"/>\n   </g>\n   <g id=\"patch_45\">\n    <path d=\"M 325.805882 457.198125 \nL 453.711765 457.198125 \n\" style=\"fill:none;stroke:#000000;stroke-linecap:square;stroke-linejoin:miter;stroke-width:0.8;\"/>\n   </g>\n   <g id=\"patch_46\">\n    <path d=\"M 325.805882 329.292243 \nL 453.711765 329.292243 \n\" style=\"fill:none;stroke:#000000;stroke-linecap:square;stroke-linejoin:miter;stroke-width:0.8;\"/>\n   </g>\n   <g id=\"text_9\">\n    <!-- label = 1 -->\n    <g transform=\"translate(362.588199 323.292243)scale(0.12 -0.12)\">\n     <use xlink:href=\"#DejaVuSans-108\"/>\n     <use x=\"27.783203\" xlink:href=\"#DejaVuSans-97\"/>\n     <use x=\"89.0625\" xlink:href=\"#DejaVuSans-98\"/>\n     <use x=\"152.539062\" xlink:href=\"#DejaVuSans-101\"/>\n     <use x=\"214.0625\" xlink:href=\"#DejaVuSans-108\"/>\n     <use x=\"241.845703\" xlink:href=\"#DejaVuSans-32\"/>\n     <use x=\"273.632812\" xlink:href=\"#DejaVuSans-61\"/>\n     <use x=\"357.421875\" xlink:href=\"#DejaVuSans-32\"/>\n     <use x=\"389.208984\" xlink:href=\"#DejaVuSans-49\"/>\n    </g>\n   </g>\n  </g>\n </g>\n <defs>\n  <clipPath id=\"p9266d45299\">\n   <rect height=\"127.905882\" width=\"127.905882\" x=\"10.7\" y=\"22.318125\"/>\n  </clipPath>\n  <clipPath id=\"pba64160fb0\">\n   <rect height=\"127.905882\" width=\"127.905882\" x=\"168.252941\" y=\"22.318125\"/>\n  </clipPath>\n  <clipPath id=\"p1ad17abb8c\">\n   <rect height=\"127.905882\" width=\"127.905882\" x=\"325.805882\" y=\"22.318125\"/>\n  </clipPath>\n  <clipPath id=\"p9a5afcd5b2\">\n   <rect height=\"127.905882\" width=\"127.905882\" x=\"10.7\" y=\"175.805184\"/>\n  </clipPath>\n  <clipPath id=\"p814344aa94\">\n   <rect height=\"127.905882\" width=\"127.905882\" x=\"168.252941\" y=\"175.805184\"/>\n  </clipPath>\n  <clipPath id=\"p1aad1ba461\">\n   <rect height=\"127.905882\" width=\"127.905882\" x=\"325.805882\" y=\"175.805184\"/>\n  </clipPath>\n  <clipPath id=\"pcd92fa44bb\">\n   <rect height=\"127.905882\" width=\"127.905882\" x=\"10.7\" y=\"329.292243\"/>\n  </clipPath>\n  <clipPath id=\"p7ad8aae99a\">\n   <rect height=\"127.905882\" width=\"127.905882\" x=\"168.252941\" y=\"329.292243\"/>\n  </clipPath>\n  <clipPath id=\"pa5674703e7\">\n   <rect height=\"127.905882\" width=\"127.905882\" x=\"325.805882\" y=\"329.292243\"/>\n  </clipPath>\n </defs>\n</svg>\n"
     },
     "metadata": {}
    }
   ],
   "source": [
    "%matplotlib inline\n",
    "%config InlineBackend.figure_format = 'svg'\n",
    "\n",
    "from matplotlib import pyplot as plt\n",
    "import random\n",
    "\n",
    "plt.figure(figsize=(8,8))\n",
    "for i in range(9):\n",
    "    index = random.randint(0,9999)\n",
    "    img, label = ds_train[index]\n",
    "    img = img.permute(1, 2, 0)\n",
    "    ax = plt.subplot(3, 3, i+1)\n",
    "    ax.imshow(img.numpy())\n",
    "    ax.set_title(\"label = %d\"%label.item())\n",
    "    ax.set_xticks([])\n",
    "    ax.set_yticks([])\n",
    "plt.show()"
   ]
  },
  {
   "cell_type": "code",
   "execution_count": 8,
   "metadata": {
    "ExecuteTime": {
     "end_time": "2021-01-27T09:22:50.406015Z",
     "start_time": "2021-01-27T09:22:50.272070Z"
    }
   },
   "outputs": [
    {
     "output_type": "stream",
     "name": "stdout",
     "text": [
      "torch.Size([50, 3, 32, 32]) torch.Size([50, 1])\n"
     ]
    }
   ],
   "source": [
    "# Pytorch的图片默认顺序是 Batch,Channel,Width,Height\n",
    "for x,y in dl_train:\n",
    "    print(x.shape,y.shape) \n",
    "    break"
   ]
  },
  {
   "cell_type": "markdown",
   "metadata": {},
   "source": [
    "## 二、定义模型"
   ]
  },
  {
   "cell_type": "markdown",
   "metadata": {},
   "source": [
    "使用Pytorch通常有三种方式构建模型：\n",
    "- 使用nn.Sequential按层顺序构建模型;\n",
    "- 继承nn.Module基类构建自定义模型;\n",
    "- 继承nn.Module基类构建模型并辅助应用模型容器(nn.Sequential,nn.ModuleList,nn.ModuleDict)进行封装。\n",
    "\n",
    "此处选择通过继承nn.Module基类构建自定义模型。"
   ]
  },
  {
   "cell_type": "code",
   "execution_count": 9,
   "metadata": {
    "ExecuteTime": {
     "end_time": "2021-01-27T09:22:50.412970Z",
     "start_time": "2021-01-27T09:22:50.407370Z"
    }
   },
   "outputs": [
    {
     "output_type": "execute_result",
     "data": {
      "text/plain": [
       "torch.Size([10, 8, 1, 1])"
      ]
     },
     "metadata": {},
     "execution_count": 9
    }
   ],
   "source": [
    "#测试AdaptiveMaxPool2d的效果\n",
    "pool = nn.AdaptiveMaxPool2d((1,1))\n",
    "t = torch.randn(10,8,32,32)\n",
    "pool(t).shape "
   ]
  },
  {
   "cell_type": "code",
   "execution_count": 10,
   "metadata": {
    "ExecuteTime": {
     "end_time": "2021-01-27T09:22:50.421542Z",
     "start_time": "2021-01-27T09:22:50.414103Z"
    }
   },
   "outputs": [
    {
     "output_type": "stream",
     "name": "stdout",
     "text": [
      "Net(\n  (conv1): Conv2d(3, 32, kernel_size=(3, 3), stride=(1, 1))\n  (pool): MaxPool2d(kernel_size=2, stride=2, padding=0, dilation=1, ceil_mode=False)\n  (conv2): Conv2d(32, 64, kernel_size=(5, 5), stride=(1, 1))\n  (dropout): Dropout2d(p=0.1, inplace=False)\n  (adaptive_pool): AdaptiveMaxPool2d(output_size=(1, 1))\n  (flatten): Flatten()\n  (linear1): Linear(in_features=64, out_features=32, bias=True)\n  (relu): ReLU()\n  (linear2): Linear(in_features=32, out_features=1, bias=True)\n  (sigmoid): Sigmoid()\n)\n"
     ]
    }
   ],
   "source": [
    "class Net(nn.Module):\n",
    "    \n",
    "    def __init__(self):\n",
    "        super(Net, self).__init__()\n",
    "        self.conv1 = nn.Conv2d(in_channels=3,out_channels=32,kernel_size = 3)\n",
    "        self.pool = nn.MaxPool2d(kernel_size = 2,stride = 2)\n",
    "        self.conv2 = nn.Conv2d(in_channels=32,out_channels=64,kernel_size = 5)\n",
    "        self.dropout = nn.Dropout2d(p = 0.1)\n",
    "        self.adaptive_pool = nn.AdaptiveMaxPool2d((1,1))\n",
    "        self.flatten = nn.Flatten()\n",
    "        self.linear1 = nn.Linear(64,32)\n",
    "        self.relu = nn.ReLU()\n",
    "        self.linear2 = nn.Linear(32,1)\n",
    "        self.sigmoid = nn.Sigmoid()\n",
    "        \n",
    "    def forward(self,x):\n",
    "        x = self.conv1(x)\n",
    "        x = self.pool(x)\n",
    "        x = self.conv2(x)\n",
    "        x = self.pool(x)\n",
    "        x = self.dropout(x)\n",
    "        x = self.adaptive_pool(x)\n",
    "        x = self.flatten(x)\n",
    "        x = self.linear1(x)\n",
    "        x = self.relu(x)\n",
    "        x = self.linear2(x)\n",
    "        y = self.sigmoid(x)\n",
    "        return y\n",
    "        \n",
    "net = Net()\n",
    "print(net)"
   ]
  },
  {
   "cell_type": "code",
   "execution_count": 11,
   "metadata": {
    "ExecuteTime": {
     "end_time": "2021-01-27T09:22:50.595583Z",
     "start_time": "2021-01-27T09:22:50.422443Z"
    }
   },
   "outputs": [
    {
     "output_type": "stream",
     "name": "stdout",
     "text": [
      "----------------------------------------------------------------\n        Layer (type)               Output Shape         Param #\n================================================================\n            Conv2d-1           [-1, 32, 30, 30]             896\n         MaxPool2d-2           [-1, 32, 15, 15]               0\n            Conv2d-3           [-1, 64, 11, 11]          51,264\n         MaxPool2d-4             [-1, 64, 5, 5]               0\n         Dropout2d-5             [-1, 64, 5, 5]               0\n AdaptiveMaxPool2d-6             [-1, 64, 1, 1]               0\n           Flatten-7                   [-1, 64]               0\n            Linear-8                   [-1, 32]           2,080\n              ReLU-9                   [-1, 32]               0\n           Linear-10                    [-1, 1]              33\n          Sigmoid-11                    [-1, 1]               0\n================================================================\nTotal params: 54,273\nTrainable params: 54,273\nNon-trainable params: 0\n----------------------------------------------------------------\nInput size (MB): 0.011719\nForward/backward pass size (MB): 0.359634\nParams size (MB): 0.207035\nEstimated Total Size (MB): 0.578388\n----------------------------------------------------------------\n"
     ]
    }
   ],
   "source": [
    "import torchkeras\n",
    "torchkeras.summary(net,input_shape= (3,32,32))"
   ]
  },
  {
   "cell_type": "markdown",
   "metadata": {},
   "source": [
    "## 三、训练模型\n",
    "\n",
    "Pytorch通常需要用户编写自定义训练循环，训练循环的代码风格因人而异。\n",
    "\n",
    "有3类典型的训练循环代码风格：脚本形式训练循环，函数形式训练循环，类形式训练循环。\n",
    "\n",
    "此处用一种较通用的函数形式训练循环。"
   ]
  },
  {
   "cell_type": "code",
   "execution_count": 12,
   "metadata": {
    "ExecuteTime": {
     "end_time": "2021-01-27T09:22:50.778825Z",
     "start_time": "2021-01-27T09:22:50.596539Z"
    }
   },
   "outputs": [],
   "source": [
    "import pandas as pd\n",
    "from sklearn.metrics import roc_auc_score\n",
    "\n",
    "model = net\n",
    "model.optimizer = torch.optim.SGD(model.parameters(), lr=0.01)\n",
    "model.loss_func = torch.nn.BCELoss()\n",
    "model.metric_func = lambda y_pred,y_true: roc_auc_score(y_true.data.numpy(), y_pred.data.numpy())\n",
    "model.metric_name = \"auc\""
   ]
  },
  {
   "cell_type": "code",
   "execution_count": 13,
   "metadata": {},
   "outputs": [],
   "source": [
    "def train_step(model,features,labels):\n",
    "\n",
    "    # 训练模式，dropout发生作用\n",
    "    model.train()\n",
    "\n",
    "    # 梯度清零\n",
    "    model.optimizer.zero_grad()\n",
    "\n",
    "    # 正向传播求损失\n",
    "    predictions = model(features)\n",
    "    loss = model.loss_func(predictions, labels)\n",
    "    metric = model.metric_func(predictions,labels)\n",
    "\n",
    "    # 反向传播\n",
    "    loss.backward()\n",
    "    model.optimizer.step()\n",
    "\n",
    "    #损失函数\n",
    "    return loss.item(), metric.item()\n",
    "\n",
    "def valid_step(model,features,labels):\n",
    "\n",
    "    # 测试模式\n",
    "    model.eval()\n",
    "\n",
    "    # 关闭梯度计算\n",
    "    with torch.no_grad():\n",
    "        predictions = model(features)\n",
    "        loss = model.loss_func(predictions, labels)\n",
    "        metric = model.metric_func(predictions, labels)\n",
    "    \n",
    "    return loss.item(), metric.item()"
   ]
  },
  {
   "cell_type": "code",
   "execution_count": 14,
   "metadata": {},
   "outputs": [
    {
     "output_type": "execute_result",
     "data": {
      "text/plain": [
       "(0.7032064199447632, 0.4711538461538462)"
      ]
     },
     "metadata": {},
     "execution_count": 14
    }
   ],
   "source": [
    "features_and_labels = next(iter(dl_train))\n",
    "train_step(model, features_and_labels[0], features_and_labels[1])"
   ]
  },
  {
   "cell_type": "code",
   "execution_count": 15,
   "metadata": {},
   "outputs": [
    {
     "output_type": "execute_result",
     "data": {
      "text/plain": [
       "<enumerate at 0x7f3fa55bae80>"
      ]
     },
     "metadata": {},
     "execution_count": 15
    }
   ],
   "source": [
    "enumerate(dl_train, 1)"
   ]
  },
  {
   "cell_type": "code",
   "execution_count": 30,
   "metadata": {},
   "outputs": [],
   "source": [
    "def train_model(model, epochs, dl_train, dl_valid, log_step_freq):\n",
    "    \n",
    "    metric_name = model.metric_name\n",
    "    dfhistory = pd.DataFrame(columns=[\"epoch\", \"loss\", metric_name, \"val_loss\", \"val_\" + metric_name])\n",
    "    print(\"Start Training...\")\n",
    "    nowtime = datetime.datetime.now().strftime('%Y-%m-%d %H:%M:%S')\n",
    "    print(\"========\"*8 + \"%s\"%nowtime)\n",
    "\n",
    "    for epoch in range(1, epochs+1):\n",
    "\n",
    "        # 1.训练循环                \n",
    "        loss_sum = 0.0\n",
    "        metric_sum = 0.0\n",
    "        step = 1\n",
    "\n",
    "        for step, (features, labels) in enumerate(dl_train, 1):\n",
    "\n",
    "            loss, metric = train_step(model, features, labels)\n",
    "\n",
    "            # 打印batch级别日志\n",
    "            loss_sum += loss\n",
    "            metric_sum += metric\n",
    "            if step%log_step_freq == 0:\n",
    "                print( (\"[step = %d] loss:%.3f, \" + metric_name + \":%.3f\")%(step, loss_sum/step, metric_sum/step))\n",
    "        \n",
    "        # 2.验证循环\n",
    "        val_loss_sum = 0.0\n",
    "        val_metric_sum = 0.0\n",
    "        val_step = 1\n",
    "\n",
    "        for val_step, (features,labels) in enumerate(dl_valid, 1):\n",
    "            \n",
    "            val_loss,val_metric = valid_step(model, features, labels)\n",
    "            val_loss_sum += val_loss\n",
    "            val_metric_sum += val_metric\n",
    "\n",
    "        # 3.记录日志\n",
    "        info = (epoch, loss_sum/step, metric_sum/step, \n",
    "                val_loss_sum/val_step, val_metric_sum/val_step)\n",
    "        dfhistory.loc[epoch-1] = info\n",
    "\n",
    "        # 打印epoch级别的日志\n",
    "        print((\"\\nEPOCH = %d, loss = %.3f,\"+ metric_name + \\\n",
    "               \" = %.3f, val_loss = %.3f, \" + \"val_\" + metric_name + \" = %.3f\")%info)\n",
    "        nowtime = datetime.datetime.now().strftime('%Y-%m-%d %H:%M:%S')\n",
    "        print(\"========\"*8 + \"%s\"%nowtime)\n",
    "    \n",
    "    print(\"Finish Training...\")\n",
    "\n",
    "    return dfhistory"
   ]
  },
  {
   "cell_type": "code",
   "execution_count": 31,
   "metadata": {},
   "outputs": [
    {
     "output_type": "stream",
     "name": "stdout",
     "text": [
      "Start Training...\n",
      "================================================================2021-01-28 10:40:32\n",
      "[step = 50] loss:0.422, auc:0.900\n",
      "[step = 100] loss:0.432, auc:0.899\n",
      "[step = 150] loss:0.426, auc:0.901\n",
      "[step = 200] loss:0.427, auc:0.901\n",
      "\n",
      "EPOCH = 1, loss = 0.427,auc = 0.901, val_loss = 0.397, val_auc = 0.916\n",
      "================================================================2021-01-28 10:40:35\n",
      "[step = 50] loss:0.424, auc:0.905\n",
      "[step = 100] loss:0.416, auc:0.907\n",
      "[step = 150] loss:0.413, auc:0.910\n",
      "[step = 200] loss:0.413, auc:0.909\n",
      "\n",
      "EPOCH = 2, loss = 0.413,auc = 0.909, val_loss = 0.361, val_auc = 0.925\n",
      "================================================================2021-01-28 10:40:38\n",
      "[step = 50] loss:0.408, auc:0.906\n",
      "[step = 100] loss:0.405, auc:0.910\n",
      "[step = 150] loss:0.408, auc:0.909\n",
      "[step = 200] loss:0.406, auc:0.913\n",
      "\n",
      "EPOCH = 3, loss = 0.406,auc = 0.913, val_loss = 0.413, val_auc = 0.924\n",
      "================================================================2021-01-28 10:40:40\n",
      "[step = 50] loss:0.413, auc:0.911\n",
      "[step = 100] loss:0.411, auc:0.911\n",
      "[step = 150] loss:0.400, auc:0.917\n",
      "[step = 200] loss:0.391, auc:0.920\n",
      "\n",
      "EPOCH = 4, loss = 0.391,auc = 0.920, val_loss = 0.359, val_auc = 0.930\n",
      "================================================================2021-01-28 10:40:43\n",
      "[step = 50] loss:0.409, auc:0.918\n",
      "[step = 100] loss:0.396, auc:0.921\n",
      "[step = 150] loss:0.389, auc:0.922\n",
      "[step = 200] loss:0.396, auc:0.921\n",
      "\n",
      "EPOCH = 5, loss = 0.396,auc = 0.921, val_loss = 0.337, val_auc = 0.938\n",
      "================================================================2021-01-28 10:40:46\n",
      "[step = 50] loss:0.378, auc:0.925\n",
      "[step = 100] loss:0.382, auc:0.925\n",
      "[step = 150] loss:0.381, auc:0.927\n",
      "[step = 200] loss:0.381, auc:0.927\n",
      "\n",
      "EPOCH = 6, loss = 0.381,auc = 0.927, val_loss = 0.343, val_auc = 0.936\n",
      "================================================================2021-01-28 10:40:49\n",
      "[step = 50] loss:0.368, auc:0.930\n",
      "[step = 100] loss:0.368, auc:0.934\n",
      "[step = 150] loss:0.367, auc:0.933\n",
      "[step = 200] loss:0.373, auc:0.931\n",
      "\n",
      "EPOCH = 7, loss = 0.373,auc = 0.931, val_loss = 0.353, val_auc = 0.941\n",
      "================================================================2021-01-28 10:40:52\n",
      "[step = 50] loss:0.360, auc:0.938\n",
      "[step = 100] loss:0.353, auc:0.936\n",
      "[step = 150] loss:0.358, auc:0.937\n",
      "[step = 200] loss:0.358, auc:0.935\n",
      "\n",
      "EPOCH = 8, loss = 0.358,auc = 0.935, val_loss = 0.318, val_auc = 0.947\n",
      "================================================================2021-01-28 10:40:55\n",
      "[step = 50] loss:0.353, auc:0.930\n",
      "[step = 100] loss:0.346, auc:0.934\n",
      "[step = 150] loss:0.345, auc:0.936\n",
      "[step = 200] loss:0.348, auc:0.936\n",
      "\n",
      "EPOCH = 9, loss = 0.348,auc = 0.936, val_loss = 0.302, val_auc = 0.948\n",
      "================================================================2021-01-28 10:40:58\n",
      "[step = 50] loss:0.344, auc:0.938\n",
      "[step = 100] loss:0.353, auc:0.937\n",
      "[step = 150] loss:0.349, auc:0.938\n",
      "[step = 200] loss:0.345, auc:0.939\n",
      "\n",
      "EPOCH = 10, loss = 0.345,auc = 0.939, val_loss = 0.319, val_auc = 0.949\n",
      "================================================================2021-01-28 10:41:01\n",
      "[step = 50] loss:0.352, auc:0.936\n",
      "[step = 100] loss:0.345, auc:0.936\n",
      "[step = 150] loss:0.342, auc:0.938\n",
      "[step = 200] loss:0.337, auc:0.941\n",
      "\n",
      "EPOCH = 11, loss = 0.337,auc = 0.941, val_loss = 0.327, val_auc = 0.950\n",
      "================================================================2021-01-28 10:41:04\n",
      "[step = 50] loss:0.321, auc:0.943\n",
      "[step = 100] loss:0.325, auc:0.943\n",
      "[step = 150] loss:0.327, auc:0.943\n",
      "[step = 200] loss:0.325, auc:0.944\n",
      "\n",
      "EPOCH = 12, loss = 0.325,auc = 0.944, val_loss = 0.286, val_auc = 0.954\n",
      "================================================================2021-01-28 10:41:07\n",
      "[step = 50] loss:0.324, auc:0.943\n",
      "[step = 100] loss:0.317, auc:0.945\n",
      "[step = 150] loss:0.321, auc:0.945\n",
      "[step = 200] loss:0.315, auc:0.946\n",
      "\n",
      "EPOCH = 13, loss = 0.315,auc = 0.946, val_loss = 0.299, val_auc = 0.955\n",
      "================================================================2021-01-28 10:41:10\n",
      "[step = 50] loss:0.319, auc:0.948\n",
      "[step = 100] loss:0.328, auc:0.943\n",
      "[step = 150] loss:0.312, auc:0.948\n",
      "[step = 200] loss:0.316, auc:0.948\n",
      "\n",
      "EPOCH = 14, loss = 0.316,auc = 0.948, val_loss = 0.285, val_auc = 0.956\n",
      "================================================================2021-01-28 10:41:13\n",
      "[step = 50] loss:0.319, auc:0.947\n",
      "[step = 100] loss:0.299, auc:0.953\n",
      "[step = 150] loss:0.296, auc:0.953\n",
      "[step = 200] loss:0.299, auc:0.952\n",
      "\n",
      "EPOCH = 15, loss = 0.299,auc = 0.952, val_loss = 0.273, val_auc = 0.955\n",
      "================================================================2021-01-28 10:41:16\n",
      "[step = 50] loss:0.302, auc:0.951\n",
      "[step = 100] loss:0.297, auc:0.953\n",
      "[step = 150] loss:0.296, auc:0.953\n",
      "[step = 200] loss:0.296, auc:0.953\n",
      "\n",
      "EPOCH = 16, loss = 0.296,auc = 0.953, val_loss = 0.267, val_auc = 0.956\n",
      "================================================================2021-01-28 10:41:19\n",
      "[step = 50] loss:0.290, auc:0.957\n",
      "[step = 100] loss:0.286, auc:0.958\n",
      "[step = 150] loss:0.291, auc:0.955\n",
      "[step = 200] loss:0.289, auc:0.955\n",
      "\n",
      "EPOCH = 17, loss = 0.289,auc = 0.955, val_loss = 0.321, val_auc = 0.958\n",
      "================================================================2021-01-28 10:41:22\n",
      "[step = 50] loss:0.269, auc:0.962\n",
      "[step = 100] loss:0.282, auc:0.956\n",
      "[step = 150] loss:0.285, auc:0.956\n",
      "[step = 200] loss:0.284, auc:0.957\n",
      "\n",
      "EPOCH = 18, loss = 0.284,auc = 0.957, val_loss = 0.257, val_auc = 0.960\n",
      "================================================================2021-01-28 10:41:25\n",
      "[step = 50] loss:0.264, auc:0.960\n",
      "[step = 100] loss:0.273, auc:0.958\n",
      "[step = 150] loss:0.280, auc:0.957\n",
      "[step = 200] loss:0.277, auc:0.959\n",
      "\n",
      "EPOCH = 19, loss = 0.277,auc = 0.959, val_loss = 0.252, val_auc = 0.963\n",
      "================================================================2021-01-28 10:41:28\n",
      "[step = 50] loss:0.258, auc:0.962\n",
      "[step = 100] loss:0.265, auc:0.960\n",
      "[step = 150] loss:0.267, auc:0.961\n",
      "[step = 200] loss:0.269, auc:0.961\n",
      "\n",
      "EPOCH = 20, loss = 0.269,auc = 0.961, val_loss = 0.250, val_auc = 0.964\n",
      "================================================================2021-01-28 10:41:31\n",
      "Finish Training...\n"
     ]
    }
   ],
   "source": [
    "dfhistory = train_model(model, 20, dl_train, dl_valid, log_step_freq=50)"
   ]
  },
  {
   "cell_type": "code",
   "execution_count": 32,
   "metadata": {},
   "outputs": [
    {
     "output_type": "execute_result",
     "data": {
      "text/plain": [
       "    epoch      loss       auc  val_loss   val_auc\n",
       "0     1.0  0.427270  0.901065  0.396637  0.916155\n",
       "1     2.0  0.413481  0.908525  0.360631  0.925439\n",
       "2     3.0  0.405559  0.912730  0.413005  0.924204\n",
       "3     4.0  0.390779  0.919932  0.359264  0.929713\n",
       "4     5.0  0.395921  0.921141  0.336533  0.938046\n",
       "5     6.0  0.380966  0.926505  0.342837  0.936269\n",
       "6     7.0  0.372515  0.930928  0.352628  0.940711\n",
       "7     8.0  0.357909  0.934557  0.317795  0.946837\n",
       "8     9.0  0.347717  0.935749  0.302237  0.948326\n",
       "9    10.0  0.344975  0.939098  0.318928  0.948914\n",
       "10   11.0  0.336962  0.940673  0.326818  0.949660\n",
       "11   12.0  0.325472  0.944298  0.285924  0.954088\n",
       "12   13.0  0.314616  0.946490  0.299077  0.954695\n",
       "13   14.0  0.316007  0.948256  0.284708  0.956224\n",
       "14   15.0  0.299348  0.951870  0.272560  0.954824\n",
       "15   16.0  0.296223  0.952562  0.267462  0.956096\n",
       "16   17.0  0.288893  0.955303  0.320594  0.957573\n",
       "17   18.0  0.283568  0.956769  0.257376  0.960000\n",
       "18   19.0  0.277493  0.959152  0.252346  0.963020\n",
       "19   20.0  0.269240  0.960976  0.249676  0.963719"
      ],
      "text/html": "<div>\n<style scoped>\n    .dataframe tbody tr th:only-of-type {\n        vertical-align: middle;\n    }\n\n    .dataframe tbody tr th {\n        vertical-align: top;\n    }\n\n    .dataframe thead th {\n        text-align: right;\n    }\n</style>\n<table border=\"1\" class=\"dataframe\">\n  <thead>\n    <tr style=\"text-align: right;\">\n      <th></th>\n      <th>epoch</th>\n      <th>loss</th>\n      <th>auc</th>\n      <th>val_loss</th>\n      <th>val_auc</th>\n    </tr>\n  </thead>\n  <tbody>\n    <tr>\n      <th>0</th>\n      <td>1.0</td>\n      <td>0.427270</td>\n      <td>0.901065</td>\n      <td>0.396637</td>\n      <td>0.916155</td>\n    </tr>\n    <tr>\n      <th>1</th>\n      <td>2.0</td>\n      <td>0.413481</td>\n      <td>0.908525</td>\n      <td>0.360631</td>\n      <td>0.925439</td>\n    </tr>\n    <tr>\n      <th>2</th>\n      <td>3.0</td>\n      <td>0.405559</td>\n      <td>0.912730</td>\n      <td>0.413005</td>\n      <td>0.924204</td>\n    </tr>\n    <tr>\n      <th>3</th>\n      <td>4.0</td>\n      <td>0.390779</td>\n      <td>0.919932</td>\n      <td>0.359264</td>\n      <td>0.929713</td>\n    </tr>\n    <tr>\n      <th>4</th>\n      <td>5.0</td>\n      <td>0.395921</td>\n      <td>0.921141</td>\n      <td>0.336533</td>\n      <td>0.938046</td>\n    </tr>\n    <tr>\n      <th>5</th>\n      <td>6.0</td>\n      <td>0.380966</td>\n      <td>0.926505</td>\n      <td>0.342837</td>\n      <td>0.936269</td>\n    </tr>\n    <tr>\n      <th>6</th>\n      <td>7.0</td>\n      <td>0.372515</td>\n      <td>0.930928</td>\n      <td>0.352628</td>\n      <td>0.940711</td>\n    </tr>\n    <tr>\n      <th>7</th>\n      <td>8.0</td>\n      <td>0.357909</td>\n      <td>0.934557</td>\n      <td>0.317795</td>\n      <td>0.946837</td>\n    </tr>\n    <tr>\n      <th>8</th>\n      <td>9.0</td>\n      <td>0.347717</td>\n      <td>0.935749</td>\n      <td>0.302237</td>\n      <td>0.948326</td>\n    </tr>\n    <tr>\n      <th>9</th>\n      <td>10.0</td>\n      <td>0.344975</td>\n      <td>0.939098</td>\n      <td>0.318928</td>\n      <td>0.948914</td>\n    </tr>\n    <tr>\n      <th>10</th>\n      <td>11.0</td>\n      <td>0.336962</td>\n      <td>0.940673</td>\n      <td>0.326818</td>\n      <td>0.949660</td>\n    </tr>\n    <tr>\n      <th>11</th>\n      <td>12.0</td>\n      <td>0.325472</td>\n      <td>0.944298</td>\n      <td>0.285924</td>\n      <td>0.954088</td>\n    </tr>\n    <tr>\n      <th>12</th>\n      <td>13.0</td>\n      <td>0.314616</td>\n      <td>0.946490</td>\n      <td>0.299077</td>\n      <td>0.954695</td>\n    </tr>\n    <tr>\n      <th>13</th>\n      <td>14.0</td>\n      <td>0.316007</td>\n      <td>0.948256</td>\n      <td>0.284708</td>\n      <td>0.956224</td>\n    </tr>\n    <tr>\n      <th>14</th>\n      <td>15.0</td>\n      <td>0.299348</td>\n      <td>0.951870</td>\n      <td>0.272560</td>\n      <td>0.954824</td>\n    </tr>\n    <tr>\n      <th>15</th>\n      <td>16.0</td>\n      <td>0.296223</td>\n      <td>0.952562</td>\n      <td>0.267462</td>\n      <td>0.956096</td>\n    </tr>\n    <tr>\n      <th>16</th>\n      <td>17.0</td>\n      <td>0.288893</td>\n      <td>0.955303</td>\n      <td>0.320594</td>\n      <td>0.957573</td>\n    </tr>\n    <tr>\n      <th>17</th>\n      <td>18.0</td>\n      <td>0.283568</td>\n      <td>0.956769</td>\n      <td>0.257376</td>\n      <td>0.960000</td>\n    </tr>\n    <tr>\n      <th>18</th>\n      <td>19.0</td>\n      <td>0.277493</td>\n      <td>0.959152</td>\n      <td>0.252346</td>\n      <td>0.963020</td>\n    </tr>\n    <tr>\n      <th>19</th>\n      <td>20.0</td>\n      <td>0.269240</td>\n      <td>0.960976</td>\n      <td>0.249676</td>\n      <td>0.963719</td>\n    </tr>\n  </tbody>\n</table>\n</div>"
     },
     "metadata": {},
     "execution_count": 32
    }
   ],
   "source": [
    "dfhistory"
   ]
  },
  {
   "cell_type": "code",
   "execution_count": 33,
   "metadata": {},
   "outputs": [],
   "source": [
    "%matplotlib inline\n",
    "%config InlineBackend.figure_format = \"svg\"\n",
    "\n",
    "import matplotlib.pyplot as plt\n",
    "\n",
    "def plot_metric(dfhistory, metric):\n",
    "    train_metric = dfhistory[metric]\n",
    "    val_metric = dfhistory['val_' + metric]\n",
    "    epochs = range(1, len(train_metric)+1)\n",
    "    plt.plot(epochs, train_metric, 'bo--')\n",
    "    plt.plot(epochs, val_metric, 'ro--')\n",
    "    plt.title('Training and validation' + metric)\n",
    "    plt.xlabel(\"Epochs\")\n",
    "    plt.ylabel(metric)\n",
    "    plt.legend([\"train_\" + metric,'val_' + metric])\n",
    "    plt.show()"
   ]
  },
  {
   "cell_type": "code",
   "execution_count": 35,
   "metadata": {},
   "outputs": [
    {
     "output_type": "display_data",
     "data": {
      "text/plain": "<Figure size 432x288 with 1 Axes>",
      "image/svg+xml": "<?xml version=\"1.0\" encoding=\"utf-8\" standalone=\"no\"?>\n<!DOCTYPE svg PUBLIC \"-//W3C//DTD SVG 1.1//EN\"\n  \"http://www.w3.org/Graphics/SVG/1.1/DTD/svg11.dtd\">\n<!-- Created with matplotlib (https://matplotlib.org/) -->\n<svg height=\"277.314375pt\" version=\"1.1\" viewBox=\"0 0 398.50625 277.314375\" width=\"398.50625pt\" xmlns=\"http://www.w3.org/2000/svg\" xmlns:xlink=\"http://www.w3.org/1999/xlink\">\n <metadata>\n  <rdf:RDF xmlns:cc=\"http://creativecommons.org/ns#\" xmlns:dc=\"http://purl.org/dc/elements/1.1/\" xmlns:rdf=\"http://www.w3.org/1999/02/22-rdf-syntax-ns#\">\n   <cc:Work>\n    <dc:type rdf:resource=\"http://purl.org/dc/dcmitype/StillImage\"/>\n    <dc:date>2021-01-28T10:52:09.090990</dc:date>\n    <dc:format>image/svg+xml</dc:format>\n    <dc:creator>\n     <cc:Agent>\n      <dc:title>Matplotlib v3.3.2, https://matplotlib.org/</dc:title>\n     </cc:Agent>\n    </dc:creator>\n   </cc:Work>\n  </rdf:RDF>\n </metadata>\n <defs>\n  <style type=\"text/css\">*{stroke-linecap:butt;stroke-linejoin:round;}</style>\n </defs>\n <g id=\"figure_1\">\n  <g id=\"patch_1\">\n   <path d=\"M 0 277.314375 \nL 398.50625 277.314375 \nL 398.50625 0 \nL 0 0 \nz\n\" style=\"fill:none;\"/>\n  </g>\n  <g id=\"axes_1\">\n   <g id=\"patch_2\">\n    <path d=\"M 56.50625 239.758125 \nL 391.30625 239.758125 \nL 391.30625 22.318125 \nL 56.50625 22.318125 \nz\n\" style=\"fill:#ffffff;\"/>\n   </g>\n   <g id=\"matplotlib.axis_1\">\n    <g id=\"xtick_1\">\n     <g id=\"line2d_1\">\n      <defs>\n       <path d=\"M 0 0 \nL 0 3.5 \n\" id=\"m87c902c461\" style=\"stroke:#000000;stroke-width:0.8;\"/>\n      </defs>\n      <g>\n       <use style=\"stroke:#000000;stroke-width:0.8;\" x=\"95.75314\" xlink:href=\"#m87c902c461\" y=\"239.758125\"/>\n      </g>\n     </g>\n     <g id=\"text_1\">\n      <!-- 2.5 -->\n      <g transform=\"translate(87.801577 254.356562)scale(0.1 -0.1)\">\n       <defs>\n        <path d=\"M 19.1875 8.296875 \nL 53.609375 8.296875 \nL 53.609375 0 \nL 7.328125 0 \nL 7.328125 8.296875 \nQ 12.9375 14.109375 22.625 23.890625 \nQ 32.328125 33.6875 34.8125 36.53125 \nQ 39.546875 41.84375 41.421875 45.53125 \nQ 43.3125 49.21875 43.3125 52.78125 \nQ 43.3125 58.59375 39.234375 62.25 \nQ 35.15625 65.921875 28.609375 65.921875 \nQ 23.96875 65.921875 18.8125 64.3125 \nQ 13.671875 62.703125 7.8125 59.421875 \nL 7.8125 69.390625 \nQ 13.765625 71.78125 18.9375 73 \nQ 24.125 74.21875 28.421875 74.21875 \nQ 39.75 74.21875 46.484375 68.546875 \nQ 53.21875 62.890625 53.21875 53.421875 \nQ 53.21875 48.921875 51.53125 44.890625 \nQ 49.859375 40.875 45.40625 35.40625 \nQ 44.1875 33.984375 37.640625 27.21875 \nQ 31.109375 20.453125 19.1875 8.296875 \nz\n\" id=\"DejaVuSans-50\"/>\n        <path d=\"M 10.6875 12.40625 \nL 21 12.40625 \nL 21 0 \nL 10.6875 0 \nz\n\" id=\"DejaVuSans-46\"/>\n        <path d=\"M 10.796875 72.90625 \nL 49.515625 72.90625 \nL 49.515625 64.59375 \nL 19.828125 64.59375 \nL 19.828125 46.734375 \nQ 21.96875 47.46875 24.109375 47.828125 \nQ 26.265625 48.1875 28.421875 48.1875 \nQ 40.625 48.1875 47.75 41.5 \nQ 54.890625 34.8125 54.890625 23.390625 \nQ 54.890625 11.625 47.5625 5.09375 \nQ 40.234375 -1.421875 26.90625 -1.421875 \nQ 22.3125 -1.421875 17.546875 -0.640625 \nQ 12.796875 0.140625 7.71875 1.703125 \nL 7.71875 11.625 \nQ 12.109375 9.234375 16.796875 8.0625 \nQ 21.484375 6.890625 26.703125 6.890625 \nQ 35.15625 6.890625 40.078125 11.328125 \nQ 45.015625 15.765625 45.015625 23.390625 \nQ 45.015625 31 40.078125 35.4375 \nQ 35.15625 39.890625 26.703125 39.890625 \nQ 22.75 39.890625 18.8125 39.015625 \nQ 14.890625 38.140625 10.796875 36.28125 \nz\n\" id=\"DejaVuSans-53\"/>\n       </defs>\n       <use xlink:href=\"#DejaVuSans-50\"/>\n       <use x=\"63.623047\" xlink:href=\"#DejaVuSans-46\"/>\n       <use x=\"95.410156\" xlink:href=\"#DejaVuSans-53\"/>\n      </g>\n     </g>\n    </g>\n    <g id=\"xtick_2\">\n     <g id=\"line2d_2\">\n      <g>\n       <use style=\"stroke:#000000;stroke-width:0.8;\" x=\"135.800987\" xlink:href=\"#m87c902c461\" y=\"239.758125\"/>\n      </g>\n     </g>\n     <g id=\"text_2\">\n      <!-- 5.0 -->\n      <g transform=\"translate(127.849424 254.356562)scale(0.1 -0.1)\">\n       <defs>\n        <path d=\"M 31.78125 66.40625 \nQ 24.171875 66.40625 20.328125 58.90625 \nQ 16.5 51.421875 16.5 36.375 \nQ 16.5 21.390625 20.328125 13.890625 \nQ 24.171875 6.390625 31.78125 6.390625 \nQ 39.453125 6.390625 43.28125 13.890625 \nQ 47.125 21.390625 47.125 36.375 \nQ 47.125 51.421875 43.28125 58.90625 \nQ 39.453125 66.40625 31.78125 66.40625 \nz\nM 31.78125 74.21875 \nQ 44.046875 74.21875 50.515625 64.515625 \nQ 56.984375 54.828125 56.984375 36.375 \nQ 56.984375 17.96875 50.515625 8.265625 \nQ 44.046875 -1.421875 31.78125 -1.421875 \nQ 19.53125 -1.421875 13.0625 8.265625 \nQ 6.59375 17.96875 6.59375 36.375 \nQ 6.59375 54.828125 13.0625 64.515625 \nQ 19.53125 74.21875 31.78125 74.21875 \nz\n\" id=\"DejaVuSans-48\"/>\n       </defs>\n       <use xlink:href=\"#DejaVuSans-53\"/>\n       <use x=\"63.623047\" xlink:href=\"#DejaVuSans-46\"/>\n       <use x=\"95.410156\" xlink:href=\"#DejaVuSans-48\"/>\n      </g>\n     </g>\n    </g>\n    <g id=\"xtick_3\">\n     <g id=\"line2d_3\">\n      <g>\n       <use style=\"stroke:#000000;stroke-width:0.8;\" x=\"175.848834\" xlink:href=\"#m87c902c461\" y=\"239.758125\"/>\n      </g>\n     </g>\n     <g id=\"text_3\">\n      <!-- 7.5 -->\n      <g transform=\"translate(167.897271 254.356562)scale(0.1 -0.1)\">\n       <defs>\n        <path d=\"M 8.203125 72.90625 \nL 55.078125 72.90625 \nL 55.078125 68.703125 \nL 28.609375 0 \nL 18.3125 0 \nL 43.21875 64.59375 \nL 8.203125 64.59375 \nz\n\" id=\"DejaVuSans-55\"/>\n       </defs>\n       <use xlink:href=\"#DejaVuSans-55\"/>\n       <use x=\"63.623047\" xlink:href=\"#DejaVuSans-46\"/>\n       <use x=\"95.410156\" xlink:href=\"#DejaVuSans-53\"/>\n      </g>\n     </g>\n    </g>\n    <g id=\"xtick_4\">\n     <g id=\"line2d_4\">\n      <g>\n       <use style=\"stroke:#000000;stroke-width:0.8;\" x=\"215.896681\" xlink:href=\"#m87c902c461\" y=\"239.758125\"/>\n      </g>\n     </g>\n     <g id=\"text_4\">\n      <!-- 10.0 -->\n      <g transform=\"translate(204.763868 254.356562)scale(0.1 -0.1)\">\n       <defs>\n        <path d=\"M 12.40625 8.296875 \nL 28.515625 8.296875 \nL 28.515625 63.921875 \nL 10.984375 60.40625 \nL 10.984375 69.390625 \nL 28.421875 72.90625 \nL 38.28125 72.90625 \nL 38.28125 8.296875 \nL 54.390625 8.296875 \nL 54.390625 0 \nL 12.40625 0 \nz\n\" id=\"DejaVuSans-49\"/>\n       </defs>\n       <use xlink:href=\"#DejaVuSans-49\"/>\n       <use x=\"63.623047\" xlink:href=\"#DejaVuSans-48\"/>\n       <use x=\"127.246094\" xlink:href=\"#DejaVuSans-46\"/>\n       <use x=\"159.033203\" xlink:href=\"#DejaVuSans-48\"/>\n      </g>\n     </g>\n    </g>\n    <g id=\"xtick_5\">\n     <g id=\"line2d_5\">\n      <g>\n       <use style=\"stroke:#000000;stroke-width:0.8;\" x=\"255.944528\" xlink:href=\"#m87c902c461\" y=\"239.758125\"/>\n      </g>\n     </g>\n     <g id=\"text_5\">\n      <!-- 12.5 -->\n      <g transform=\"translate(244.811715 254.356562)scale(0.1 -0.1)\">\n       <use xlink:href=\"#DejaVuSans-49\"/>\n       <use x=\"63.623047\" xlink:href=\"#DejaVuSans-50\"/>\n       <use x=\"127.246094\" xlink:href=\"#DejaVuSans-46\"/>\n       <use x=\"159.033203\" xlink:href=\"#DejaVuSans-53\"/>\n      </g>\n     </g>\n    </g>\n    <g id=\"xtick_6\">\n     <g id=\"line2d_6\">\n      <g>\n       <use style=\"stroke:#000000;stroke-width:0.8;\" x=\"295.992374\" xlink:href=\"#m87c902c461\" y=\"239.758125\"/>\n      </g>\n     </g>\n     <g id=\"text_6\">\n      <!-- 15.0 -->\n      <g transform=\"translate(284.859562 254.356562)scale(0.1 -0.1)\">\n       <use xlink:href=\"#DejaVuSans-49\"/>\n       <use x=\"63.623047\" xlink:href=\"#DejaVuSans-53\"/>\n       <use x=\"127.246094\" xlink:href=\"#DejaVuSans-46\"/>\n       <use x=\"159.033203\" xlink:href=\"#DejaVuSans-48\"/>\n      </g>\n     </g>\n    </g>\n    <g id=\"xtick_7\">\n     <g id=\"line2d_7\">\n      <g>\n       <use style=\"stroke:#000000;stroke-width:0.8;\" x=\"336.040221\" xlink:href=\"#m87c902c461\" y=\"239.758125\"/>\n      </g>\n     </g>\n     <g id=\"text_7\">\n      <!-- 17.5 -->\n      <g transform=\"translate(324.907409 254.356562)scale(0.1 -0.1)\">\n       <use xlink:href=\"#DejaVuSans-49\"/>\n       <use x=\"63.623047\" xlink:href=\"#DejaVuSans-55\"/>\n       <use x=\"127.246094\" xlink:href=\"#DejaVuSans-46\"/>\n       <use x=\"159.033203\" xlink:href=\"#DejaVuSans-53\"/>\n      </g>\n     </g>\n    </g>\n    <g id=\"xtick_8\">\n     <g id=\"line2d_8\">\n      <g>\n       <use style=\"stroke:#000000;stroke-width:0.8;\" x=\"376.088068\" xlink:href=\"#m87c902c461\" y=\"239.758125\"/>\n      </g>\n     </g>\n     <g id=\"text_8\">\n      <!-- 20.0 -->\n      <g transform=\"translate(364.955256 254.356562)scale(0.1 -0.1)\">\n       <use xlink:href=\"#DejaVuSans-50\"/>\n       <use x=\"63.623047\" xlink:href=\"#DejaVuSans-48\"/>\n       <use x=\"127.246094\" xlink:href=\"#DejaVuSans-46\"/>\n       <use x=\"159.033203\" xlink:href=\"#DejaVuSans-48\"/>\n      </g>\n     </g>\n    </g>\n    <g id=\"text_9\">\n     <!-- Epochs -->\n     <g transform=\"translate(205.990625 268.034687)scale(0.1 -0.1)\">\n      <defs>\n       <path d=\"M 9.8125 72.90625 \nL 55.90625 72.90625 \nL 55.90625 64.59375 \nL 19.671875 64.59375 \nL 19.671875 43.015625 \nL 54.390625 43.015625 \nL 54.390625 34.71875 \nL 19.671875 34.71875 \nL 19.671875 8.296875 \nL 56.78125 8.296875 \nL 56.78125 0 \nL 9.8125 0 \nz\n\" id=\"DejaVuSans-69\"/>\n       <path d=\"M 18.109375 8.203125 \nL 18.109375 -20.796875 \nL 9.078125 -20.796875 \nL 9.078125 54.6875 \nL 18.109375 54.6875 \nL 18.109375 46.390625 \nQ 20.953125 51.265625 25.265625 53.625 \nQ 29.59375 56 35.59375 56 \nQ 45.5625 56 51.78125 48.09375 \nQ 58.015625 40.1875 58.015625 27.296875 \nQ 58.015625 14.40625 51.78125 6.484375 \nQ 45.5625 -1.421875 35.59375 -1.421875 \nQ 29.59375 -1.421875 25.265625 0.953125 \nQ 20.953125 3.328125 18.109375 8.203125 \nz\nM 48.6875 27.296875 \nQ 48.6875 37.203125 44.609375 42.84375 \nQ 40.53125 48.484375 33.40625 48.484375 \nQ 26.265625 48.484375 22.1875 42.84375 \nQ 18.109375 37.203125 18.109375 27.296875 \nQ 18.109375 17.390625 22.1875 11.75 \nQ 26.265625 6.109375 33.40625 6.109375 \nQ 40.53125 6.109375 44.609375 11.75 \nQ 48.6875 17.390625 48.6875 27.296875 \nz\n\" id=\"DejaVuSans-112\"/>\n       <path d=\"M 30.609375 48.390625 \nQ 23.390625 48.390625 19.1875 42.75 \nQ 14.984375 37.109375 14.984375 27.296875 \nQ 14.984375 17.484375 19.15625 11.84375 \nQ 23.34375 6.203125 30.609375 6.203125 \nQ 37.796875 6.203125 41.984375 11.859375 \nQ 46.1875 17.53125 46.1875 27.296875 \nQ 46.1875 37.015625 41.984375 42.703125 \nQ 37.796875 48.390625 30.609375 48.390625 \nz\nM 30.609375 56 \nQ 42.328125 56 49.015625 48.375 \nQ 55.71875 40.765625 55.71875 27.296875 \nQ 55.71875 13.875 49.015625 6.21875 \nQ 42.328125 -1.421875 30.609375 -1.421875 \nQ 18.84375 -1.421875 12.171875 6.21875 \nQ 5.515625 13.875 5.515625 27.296875 \nQ 5.515625 40.765625 12.171875 48.375 \nQ 18.84375 56 30.609375 56 \nz\n\" id=\"DejaVuSans-111\"/>\n       <path d=\"M 48.78125 52.59375 \nL 48.78125 44.1875 \nQ 44.96875 46.296875 41.140625 47.34375 \nQ 37.3125 48.390625 33.40625 48.390625 \nQ 24.65625 48.390625 19.8125 42.84375 \nQ 14.984375 37.3125 14.984375 27.296875 \nQ 14.984375 17.28125 19.8125 11.734375 \nQ 24.65625 6.203125 33.40625 6.203125 \nQ 37.3125 6.203125 41.140625 7.25 \nQ 44.96875 8.296875 48.78125 10.40625 \nL 48.78125 2.09375 \nQ 45.015625 0.34375 40.984375 -0.53125 \nQ 36.96875 -1.421875 32.421875 -1.421875 \nQ 20.0625 -1.421875 12.78125 6.34375 \nQ 5.515625 14.109375 5.515625 27.296875 \nQ 5.515625 40.671875 12.859375 48.328125 \nQ 20.21875 56 33.015625 56 \nQ 37.15625 56 41.109375 55.140625 \nQ 45.0625 54.296875 48.78125 52.59375 \nz\n\" id=\"DejaVuSans-99\"/>\n       <path d=\"M 54.890625 33.015625 \nL 54.890625 0 \nL 45.90625 0 \nL 45.90625 32.71875 \nQ 45.90625 40.484375 42.875 44.328125 \nQ 39.84375 48.1875 33.796875 48.1875 \nQ 26.515625 48.1875 22.3125 43.546875 \nQ 18.109375 38.921875 18.109375 30.90625 \nL 18.109375 0 \nL 9.078125 0 \nL 9.078125 75.984375 \nL 18.109375 75.984375 \nL 18.109375 46.1875 \nQ 21.34375 51.125 25.703125 53.5625 \nQ 30.078125 56 35.796875 56 \nQ 45.21875 56 50.046875 50.171875 \nQ 54.890625 44.34375 54.890625 33.015625 \nz\n\" id=\"DejaVuSans-104\"/>\n       <path d=\"M 44.28125 53.078125 \nL 44.28125 44.578125 \nQ 40.484375 46.53125 36.375 47.5 \nQ 32.28125 48.484375 27.875 48.484375 \nQ 21.1875 48.484375 17.84375 46.4375 \nQ 14.5 44.390625 14.5 40.28125 \nQ 14.5 37.15625 16.890625 35.375 \nQ 19.28125 33.59375 26.515625 31.984375 \nL 29.59375 31.296875 \nQ 39.15625 29.25 43.1875 25.515625 \nQ 47.21875 21.78125 47.21875 15.09375 \nQ 47.21875 7.46875 41.1875 3.015625 \nQ 35.15625 -1.421875 24.609375 -1.421875 \nQ 20.21875 -1.421875 15.453125 -0.5625 \nQ 10.6875 0.296875 5.421875 2 \nL 5.421875 11.28125 \nQ 10.40625 8.6875 15.234375 7.390625 \nQ 20.0625 6.109375 24.8125 6.109375 \nQ 31.15625 6.109375 34.5625 8.28125 \nQ 37.984375 10.453125 37.984375 14.40625 \nQ 37.984375 18.0625 35.515625 20.015625 \nQ 33.0625 21.96875 24.703125 23.78125 \nL 21.578125 24.515625 \nQ 13.234375 26.265625 9.515625 29.90625 \nQ 5.8125 33.546875 5.8125 39.890625 \nQ 5.8125 47.609375 11.28125 51.796875 \nQ 16.75 56 26.8125 56 \nQ 31.78125 56 36.171875 55.265625 \nQ 40.578125 54.546875 44.28125 53.078125 \nz\n\" id=\"DejaVuSans-115\"/>\n      </defs>\n      <use xlink:href=\"#DejaVuSans-69\"/>\n      <use x=\"63.183594\" xlink:href=\"#DejaVuSans-112\"/>\n      <use x=\"126.660156\" xlink:href=\"#DejaVuSans-111\"/>\n      <use x=\"187.841797\" xlink:href=\"#DejaVuSans-99\"/>\n      <use x=\"242.822266\" xlink:href=\"#DejaVuSans-104\"/>\n      <use x=\"306.201172\" xlink:href=\"#DejaVuSans-115\"/>\n     </g>\n    </g>\n   </g>\n   <g id=\"matplotlib.axis_2\">\n    <g id=\"ytick_1\">\n     <g id=\"line2d_9\">\n      <defs>\n       <path d=\"M 0 0 \nL -3.5 0 \n\" id=\"m40abb75baa\" style=\"stroke:#000000;stroke-width:0.8;\"/>\n      </defs>\n      <g>\n       <use style=\"stroke:#000000;stroke-width:0.8;\" x=\"56.50625\" xlink:href=\"#m40abb75baa\" y=\"229.513737\"/>\n      </g>\n     </g>\n     <g id=\"text_10\">\n      <!-- 0.250 -->\n      <g transform=\"translate(20.878125 233.312955)scale(0.1 -0.1)\">\n       <use xlink:href=\"#DejaVuSans-48\"/>\n       <use x=\"63.623047\" xlink:href=\"#DejaVuSans-46\"/>\n       <use x=\"95.410156\" xlink:href=\"#DejaVuSans-50\"/>\n       <use x=\"159.033203\" xlink:href=\"#DejaVuSans-53\"/>\n       <use x=\"222.65625\" xlink:href=\"#DejaVuSans-48\"/>\n      </g>\n     </g>\n    </g>\n    <g id=\"ytick_2\">\n     <g id=\"line2d_10\">\n      <g>\n       <use style=\"stroke:#000000;stroke-width:0.8;\" x=\"56.50625\" xlink:href=\"#m40abb75baa\" y=\"201.687214\"/>\n      </g>\n     </g>\n     <g id=\"text_11\">\n      <!-- 0.275 -->\n      <g transform=\"translate(20.878125 205.486433)scale(0.1 -0.1)\">\n       <use xlink:href=\"#DejaVuSans-48\"/>\n       <use x=\"63.623047\" xlink:href=\"#DejaVuSans-46\"/>\n       <use x=\"95.410156\" xlink:href=\"#DejaVuSans-50\"/>\n       <use x=\"159.033203\" xlink:href=\"#DejaVuSans-55\"/>\n       <use x=\"222.65625\" xlink:href=\"#DejaVuSans-53\"/>\n      </g>\n     </g>\n    </g>\n    <g id=\"ytick_3\">\n     <g id=\"line2d_11\">\n      <g>\n       <use style=\"stroke:#000000;stroke-width:0.8;\" x=\"56.50625\" xlink:href=\"#m40abb75baa\" y=\"173.860691\"/>\n      </g>\n     </g>\n     <g id=\"text_12\">\n      <!-- 0.300 -->\n      <g transform=\"translate(20.878125 177.65991)scale(0.1 -0.1)\">\n       <defs>\n        <path d=\"M 40.578125 39.3125 \nQ 47.65625 37.796875 51.625 33 \nQ 55.609375 28.21875 55.609375 21.1875 \nQ 55.609375 10.40625 48.1875 4.484375 \nQ 40.765625 -1.421875 27.09375 -1.421875 \nQ 22.515625 -1.421875 17.65625 -0.515625 \nQ 12.796875 0.390625 7.625 2.203125 \nL 7.625 11.71875 \nQ 11.71875 9.328125 16.59375 8.109375 \nQ 21.484375 6.890625 26.8125 6.890625 \nQ 36.078125 6.890625 40.9375 10.546875 \nQ 45.796875 14.203125 45.796875 21.1875 \nQ 45.796875 27.640625 41.28125 31.265625 \nQ 36.765625 34.90625 28.71875 34.90625 \nL 20.21875 34.90625 \nL 20.21875 43.015625 \nL 29.109375 43.015625 \nQ 36.375 43.015625 40.234375 45.921875 \nQ 44.09375 48.828125 44.09375 54.296875 \nQ 44.09375 59.90625 40.109375 62.90625 \nQ 36.140625 65.921875 28.71875 65.921875 \nQ 24.65625 65.921875 20.015625 65.03125 \nQ 15.375 64.15625 9.8125 62.3125 \nL 9.8125 71.09375 \nQ 15.4375 72.65625 20.34375 73.4375 \nQ 25.25 74.21875 29.59375 74.21875 \nQ 40.828125 74.21875 47.359375 69.109375 \nQ 53.90625 64.015625 53.90625 55.328125 \nQ 53.90625 49.265625 50.4375 45.09375 \nQ 46.96875 40.921875 40.578125 39.3125 \nz\n\" id=\"DejaVuSans-51\"/>\n       </defs>\n       <use xlink:href=\"#DejaVuSans-48\"/>\n       <use x=\"63.623047\" xlink:href=\"#DejaVuSans-46\"/>\n       <use x=\"95.410156\" xlink:href=\"#DejaVuSans-51\"/>\n       <use x=\"159.033203\" xlink:href=\"#DejaVuSans-48\"/>\n       <use x=\"222.65625\" xlink:href=\"#DejaVuSans-48\"/>\n      </g>\n     </g>\n    </g>\n    <g id=\"ytick_4\">\n     <g id=\"line2d_12\">\n      <g>\n       <use style=\"stroke:#000000;stroke-width:0.8;\" x=\"56.50625\" xlink:href=\"#m40abb75baa\" y=\"146.034169\"/>\n      </g>\n     </g>\n     <g id=\"text_13\">\n      <!-- 0.325 -->\n      <g transform=\"translate(20.878125 149.833387)scale(0.1 -0.1)\">\n       <use xlink:href=\"#DejaVuSans-48\"/>\n       <use x=\"63.623047\" xlink:href=\"#DejaVuSans-46\"/>\n       <use x=\"95.410156\" xlink:href=\"#DejaVuSans-51\"/>\n       <use x=\"159.033203\" xlink:href=\"#DejaVuSans-50\"/>\n       <use x=\"222.65625\" xlink:href=\"#DejaVuSans-53\"/>\n      </g>\n     </g>\n    </g>\n    <g id=\"ytick_5\">\n     <g id=\"line2d_13\">\n      <g>\n       <use style=\"stroke:#000000;stroke-width:0.8;\" x=\"56.50625\" xlink:href=\"#m40abb75baa\" y=\"118.207646\"/>\n      </g>\n     </g>\n     <g id=\"text_14\">\n      <!-- 0.350 -->\n      <g transform=\"translate(20.878125 122.006865)scale(0.1 -0.1)\">\n       <use xlink:href=\"#DejaVuSans-48\"/>\n       <use x=\"63.623047\" xlink:href=\"#DejaVuSans-46\"/>\n       <use x=\"95.410156\" xlink:href=\"#DejaVuSans-51\"/>\n       <use x=\"159.033203\" xlink:href=\"#DejaVuSans-53\"/>\n       <use x=\"222.65625\" xlink:href=\"#DejaVuSans-48\"/>\n      </g>\n     </g>\n    </g>\n    <g id=\"ytick_6\">\n     <g id=\"line2d_14\">\n      <g>\n       <use style=\"stroke:#000000;stroke-width:0.8;\" x=\"56.50625\" xlink:href=\"#m40abb75baa\" y=\"90.381123\"/>\n      </g>\n     </g>\n     <g id=\"text_15\">\n      <!-- 0.375 -->\n      <g transform=\"translate(20.878125 94.180342)scale(0.1 -0.1)\">\n       <use xlink:href=\"#DejaVuSans-48\"/>\n       <use x=\"63.623047\" xlink:href=\"#DejaVuSans-46\"/>\n       <use x=\"95.410156\" xlink:href=\"#DejaVuSans-51\"/>\n       <use x=\"159.033203\" xlink:href=\"#DejaVuSans-55\"/>\n       <use x=\"222.65625\" xlink:href=\"#DejaVuSans-53\"/>\n      </g>\n     </g>\n    </g>\n    <g id=\"ytick_7\">\n     <g id=\"line2d_15\">\n      <g>\n       <use style=\"stroke:#000000;stroke-width:0.8;\" x=\"56.50625\" xlink:href=\"#m40abb75baa\" y=\"62.554601\"/>\n      </g>\n     </g>\n     <g id=\"text_16\">\n      <!-- 0.400 -->\n      <g transform=\"translate(20.878125 66.353819)scale(0.1 -0.1)\">\n       <defs>\n        <path d=\"M 37.796875 64.3125 \nL 12.890625 25.390625 \nL 37.796875 25.390625 \nz\nM 35.203125 72.90625 \nL 47.609375 72.90625 \nL 47.609375 25.390625 \nL 58.015625 25.390625 \nL 58.015625 17.1875 \nL 47.609375 17.1875 \nL 47.609375 0 \nL 37.796875 0 \nL 37.796875 17.1875 \nL 4.890625 17.1875 \nL 4.890625 26.703125 \nz\n\" id=\"DejaVuSans-52\"/>\n       </defs>\n       <use xlink:href=\"#DejaVuSans-48\"/>\n       <use x=\"63.623047\" xlink:href=\"#DejaVuSans-46\"/>\n       <use x=\"95.410156\" xlink:href=\"#DejaVuSans-52\"/>\n       <use x=\"159.033203\" xlink:href=\"#DejaVuSans-48\"/>\n       <use x=\"222.65625\" xlink:href=\"#DejaVuSans-48\"/>\n      </g>\n     </g>\n    </g>\n    <g id=\"ytick_8\">\n     <g id=\"line2d_16\">\n      <g>\n       <use style=\"stroke:#000000;stroke-width:0.8;\" x=\"56.50625\" xlink:href=\"#m40abb75baa\" y=\"34.728078\"/>\n      </g>\n     </g>\n     <g id=\"text_17\">\n      <!-- 0.425 -->\n      <g transform=\"translate(20.878125 38.527297)scale(0.1 -0.1)\">\n       <use xlink:href=\"#DejaVuSans-48\"/>\n       <use x=\"63.623047\" xlink:href=\"#DejaVuSans-46\"/>\n       <use x=\"95.410156\" xlink:href=\"#DejaVuSans-52\"/>\n       <use x=\"159.033203\" xlink:href=\"#DejaVuSans-50\"/>\n       <use x=\"222.65625\" xlink:href=\"#DejaVuSans-53\"/>\n      </g>\n     </g>\n    </g>\n    <g id=\"text_18\">\n     <!-- loss -->\n     <g transform=\"translate(14.798438 140.695937)rotate(-90)scale(0.1 -0.1)\">\n      <defs>\n       <path d=\"M 9.421875 75.984375 \nL 18.40625 75.984375 \nL 18.40625 0 \nL 9.421875 0 \nz\n\" id=\"DejaVuSans-108\"/>\n      </defs>\n      <use xlink:href=\"#DejaVuSans-108\"/>\n      <use x=\"27.783203\" xlink:href=\"#DejaVuSans-111\"/>\n      <use x=\"88.964844\" xlink:href=\"#DejaVuSans-115\"/>\n      <use x=\"141.064453\" xlink:href=\"#DejaVuSans-115\"/>\n     </g>\n    </g>\n   </g>\n   <g id=\"line2d_17\">\n    <path clip-path=\"url(#p1d4ccd6beb)\" d=\"M 71.724432 32.201761 \nL 87.743571 47.549017 \nL 103.762709 56.366977 \nL 119.781848 72.818403 \nL 135.800987 67.094753 \nL 151.820126 83.740418 \nL 167.839264 93.147177 \nL 183.858403 109.404618 \nL 199.877542 120.748968 \nL 215.896681 123.800565 \nL 231.915819 132.719695 \nL 247.934958 145.508653 \nL 263.954097 157.591881 \nL 279.973236 156.044187 \nL 295.992374 174.586665 \nL 312.011513 178.064976 \nL 328.030652 186.222952 \nL 344.049791 192.150631 \nL 360.068929 198.912374 \nL 376.088068 208.098761 \n\" style=\"fill:none;stroke:#0000ff;stroke-dasharray:5.55,2.4;stroke-dashoffset:0;stroke-width:1.5;\"/>\n    <defs>\n     <path d=\"M 0 3 \nC 0.795609 3 1.55874 2.683901 2.12132 2.12132 \nC 2.683901 1.55874 3 0.795609 3 0 \nC 3 -0.795609 2.683901 -1.55874 2.12132 -2.12132 \nC 1.55874 -2.683901 0.795609 -3 0 -3 \nC -0.795609 -3 -1.55874 -2.683901 -2.12132 -2.12132 \nC -2.683901 -1.55874 -3 -0.795609 -3 0 \nC -3 0.795609 -2.683901 1.55874 -2.12132 2.12132 \nC -1.55874 2.683901 -0.795609 3 0 3 \nz\n\" id=\"m3c39766260\" style=\"stroke:#0000ff;\"/>\n    </defs>\n    <g clip-path=\"url(#p1d4ccd6beb)\">\n     <use style=\"fill:#0000ff;stroke:#0000ff;\" x=\"71.724432\" xlink:href=\"#m3c39766260\" y=\"32.201761\"/>\n     <use style=\"fill:#0000ff;stroke:#0000ff;\" x=\"87.743571\" xlink:href=\"#m3c39766260\" y=\"47.549017\"/>\n     <use style=\"fill:#0000ff;stroke:#0000ff;\" x=\"103.762709\" xlink:href=\"#m3c39766260\" y=\"56.366977\"/>\n     <use style=\"fill:#0000ff;stroke:#0000ff;\" x=\"119.781848\" xlink:href=\"#m3c39766260\" y=\"72.818403\"/>\n     <use style=\"fill:#0000ff;stroke:#0000ff;\" x=\"135.800987\" xlink:href=\"#m3c39766260\" y=\"67.094753\"/>\n     <use style=\"fill:#0000ff;stroke:#0000ff;\" x=\"151.820126\" xlink:href=\"#m3c39766260\" y=\"83.740418\"/>\n     <use style=\"fill:#0000ff;stroke:#0000ff;\" x=\"167.839264\" xlink:href=\"#m3c39766260\" y=\"93.147177\"/>\n     <use style=\"fill:#0000ff;stroke:#0000ff;\" x=\"183.858403\" xlink:href=\"#m3c39766260\" y=\"109.404618\"/>\n     <use style=\"fill:#0000ff;stroke:#0000ff;\" x=\"199.877542\" xlink:href=\"#m3c39766260\" y=\"120.748968\"/>\n     <use style=\"fill:#0000ff;stroke:#0000ff;\" x=\"215.896681\" xlink:href=\"#m3c39766260\" y=\"123.800565\"/>\n     <use style=\"fill:#0000ff;stroke:#0000ff;\" x=\"231.915819\" xlink:href=\"#m3c39766260\" y=\"132.719695\"/>\n     <use style=\"fill:#0000ff;stroke:#0000ff;\" x=\"247.934958\" xlink:href=\"#m3c39766260\" y=\"145.508653\"/>\n     <use style=\"fill:#0000ff;stroke:#0000ff;\" x=\"263.954097\" xlink:href=\"#m3c39766260\" y=\"157.591881\"/>\n     <use style=\"fill:#0000ff;stroke:#0000ff;\" x=\"279.973236\" xlink:href=\"#m3c39766260\" y=\"156.044187\"/>\n     <use style=\"fill:#0000ff;stroke:#0000ff;\" x=\"295.992374\" xlink:href=\"#m3c39766260\" y=\"174.586665\"/>\n     <use style=\"fill:#0000ff;stroke:#0000ff;\" x=\"312.011513\" xlink:href=\"#m3c39766260\" y=\"178.064976\"/>\n     <use style=\"fill:#0000ff;stroke:#0000ff;\" x=\"328.030652\" xlink:href=\"#m3c39766260\" y=\"186.222952\"/>\n     <use style=\"fill:#0000ff;stroke:#0000ff;\" x=\"344.049791\" xlink:href=\"#m3c39766260\" y=\"192.150631\"/>\n     <use style=\"fill:#0000ff;stroke:#0000ff;\" x=\"360.068929\" xlink:href=\"#m3c39766260\" y=\"198.912374\"/>\n     <use style=\"fill:#0000ff;stroke:#0000ff;\" x=\"376.088068\" xlink:href=\"#m3c39766260\" y=\"208.098761\"/>\n    </g>\n   </g>\n   <g id=\"line2d_18\">\n    <path clip-path=\"url(#p1d4ccd6beb)\" d=\"M 71.724432 66.297566 \nL 87.743571 106.375027 \nL 103.762709 48.079456 \nL 119.781848 107.896133 \nL 135.800987 133.196695 \nL 151.820126 126.180333 \nL 167.839264 115.282157 \nL 183.858403 154.053979 \nL 199.877542 171.370573 \nL 215.896681 152.792563 \nL 231.915819 144.010212 \nL 247.934958 189.528252 \nL 263.954097 174.888064 \nL 279.973236 190.881066 \nL 295.992374 204.402628 \nL 312.011513 210.077864 \nL 328.030652 150.938353 \nL 344.049791 221.304226 \nL 360.068929 226.901943 \nL 376.088068 229.874489 \n\" style=\"fill:none;stroke:#ff0000;stroke-dasharray:5.55,2.4;stroke-dashoffset:0;stroke-width:1.5;\"/>\n    <defs>\n     <path d=\"M 0 3 \nC 0.795609 3 1.55874 2.683901 2.12132 2.12132 \nC 2.683901 1.55874 3 0.795609 3 0 \nC 3 -0.795609 2.683901 -1.55874 2.12132 -2.12132 \nC 1.55874 -2.683901 0.795609 -3 0 -3 \nC -0.795609 -3 -1.55874 -2.683901 -2.12132 -2.12132 \nC -2.683901 -1.55874 -3 -0.795609 -3 0 \nC -3 0.795609 -2.683901 1.55874 -2.12132 2.12132 \nC -1.55874 2.683901 -0.795609 3 0 3 \nz\n\" id=\"m086630f2ea\" style=\"stroke:#ff0000;\"/>\n    </defs>\n    <g clip-path=\"url(#p1d4ccd6beb)\">\n     <use style=\"fill:#ff0000;stroke:#ff0000;\" x=\"71.724432\" xlink:href=\"#m086630f2ea\" y=\"66.297566\"/>\n     <use style=\"fill:#ff0000;stroke:#ff0000;\" x=\"87.743571\" xlink:href=\"#m086630f2ea\" y=\"106.375027\"/>\n     <use style=\"fill:#ff0000;stroke:#ff0000;\" x=\"103.762709\" xlink:href=\"#m086630f2ea\" y=\"48.079456\"/>\n     <use style=\"fill:#ff0000;stroke:#ff0000;\" x=\"119.781848\" xlink:href=\"#m086630f2ea\" y=\"107.896133\"/>\n     <use style=\"fill:#ff0000;stroke:#ff0000;\" x=\"135.800987\" xlink:href=\"#m086630f2ea\" y=\"133.196695\"/>\n     <use style=\"fill:#ff0000;stroke:#ff0000;\" x=\"151.820126\" xlink:href=\"#m086630f2ea\" y=\"126.180333\"/>\n     <use style=\"fill:#ff0000;stroke:#ff0000;\" x=\"167.839264\" xlink:href=\"#m086630f2ea\" y=\"115.282157\"/>\n     <use style=\"fill:#ff0000;stroke:#ff0000;\" x=\"183.858403\" xlink:href=\"#m086630f2ea\" y=\"154.053979\"/>\n     <use style=\"fill:#ff0000;stroke:#ff0000;\" x=\"199.877542\" xlink:href=\"#m086630f2ea\" y=\"171.370573\"/>\n     <use style=\"fill:#ff0000;stroke:#ff0000;\" x=\"215.896681\" xlink:href=\"#m086630f2ea\" y=\"152.792563\"/>\n     <use style=\"fill:#ff0000;stroke:#ff0000;\" x=\"231.915819\" xlink:href=\"#m086630f2ea\" y=\"144.010212\"/>\n     <use style=\"fill:#ff0000;stroke:#ff0000;\" x=\"247.934958\" xlink:href=\"#m086630f2ea\" y=\"189.528252\"/>\n     <use style=\"fill:#ff0000;stroke:#ff0000;\" x=\"263.954097\" xlink:href=\"#m086630f2ea\" y=\"174.888064\"/>\n     <use style=\"fill:#ff0000;stroke:#ff0000;\" x=\"279.973236\" xlink:href=\"#m086630f2ea\" y=\"190.881066\"/>\n     <use style=\"fill:#ff0000;stroke:#ff0000;\" x=\"295.992374\" xlink:href=\"#m086630f2ea\" y=\"204.402628\"/>\n     <use style=\"fill:#ff0000;stroke:#ff0000;\" x=\"312.011513\" xlink:href=\"#m086630f2ea\" y=\"210.077864\"/>\n     <use style=\"fill:#ff0000;stroke:#ff0000;\" x=\"328.030652\" xlink:href=\"#m086630f2ea\" y=\"150.938353\"/>\n     <use style=\"fill:#ff0000;stroke:#ff0000;\" x=\"344.049791\" xlink:href=\"#m086630f2ea\" y=\"221.304226\"/>\n     <use style=\"fill:#ff0000;stroke:#ff0000;\" x=\"360.068929\" xlink:href=\"#m086630f2ea\" y=\"226.901943\"/>\n     <use style=\"fill:#ff0000;stroke:#ff0000;\" x=\"376.088068\" xlink:href=\"#m086630f2ea\" y=\"229.874489\"/>\n    </g>\n   </g>\n   <g id=\"patch_3\">\n    <path d=\"M 56.50625 239.758125 \nL 56.50625 22.318125 \n\" style=\"fill:none;stroke:#000000;stroke-linecap:square;stroke-linejoin:miter;stroke-width:0.8;\"/>\n   </g>\n   <g id=\"patch_4\">\n    <path d=\"M 391.30625 239.758125 \nL 391.30625 22.318125 \n\" style=\"fill:none;stroke:#000000;stroke-linecap:square;stroke-linejoin:miter;stroke-width:0.8;\"/>\n   </g>\n   <g id=\"patch_5\">\n    <path d=\"M 56.50625 239.758125 \nL 391.30625 239.758125 \n\" style=\"fill:none;stroke:#000000;stroke-linecap:square;stroke-linejoin:miter;stroke-width:0.8;\"/>\n   </g>\n   <g id=\"patch_6\">\n    <path d=\"M 56.50625 22.318125 \nL 391.30625 22.318125 \n\" style=\"fill:none;stroke:#000000;stroke-linecap:square;stroke-linejoin:miter;stroke-width:0.8;\"/>\n   </g>\n   <g id=\"text_19\">\n    <!-- Training and validationloss -->\n    <g transform=\"translate(144.003125 16.318125)scale(0.12 -0.12)\">\n     <defs>\n      <path d=\"M -0.296875 72.90625 \nL 61.375 72.90625 \nL 61.375 64.59375 \nL 35.5 64.59375 \nL 35.5 0 \nL 25.59375 0 \nL 25.59375 64.59375 \nL -0.296875 64.59375 \nz\n\" id=\"DejaVuSans-84\"/>\n      <path d=\"M 41.109375 46.296875 \nQ 39.59375 47.171875 37.8125 47.578125 \nQ 36.03125 48 33.890625 48 \nQ 26.265625 48 22.1875 43.046875 \nQ 18.109375 38.09375 18.109375 28.8125 \nL 18.109375 0 \nL 9.078125 0 \nL 9.078125 54.6875 \nL 18.109375 54.6875 \nL 18.109375 46.1875 \nQ 20.953125 51.171875 25.484375 53.578125 \nQ 30.03125 56 36.53125 56 \nQ 37.453125 56 38.578125 55.875 \nQ 39.703125 55.765625 41.0625 55.515625 \nz\n\" id=\"DejaVuSans-114\"/>\n      <path d=\"M 34.28125 27.484375 \nQ 23.390625 27.484375 19.1875 25 \nQ 14.984375 22.515625 14.984375 16.5 \nQ 14.984375 11.71875 18.140625 8.90625 \nQ 21.296875 6.109375 26.703125 6.109375 \nQ 34.1875 6.109375 38.703125 11.40625 \nQ 43.21875 16.703125 43.21875 25.484375 \nL 43.21875 27.484375 \nz\nM 52.203125 31.203125 \nL 52.203125 0 \nL 43.21875 0 \nL 43.21875 8.296875 \nQ 40.140625 3.328125 35.546875 0.953125 \nQ 30.953125 -1.421875 24.3125 -1.421875 \nQ 15.921875 -1.421875 10.953125 3.296875 \nQ 6 8.015625 6 15.921875 \nQ 6 25.140625 12.171875 29.828125 \nQ 18.359375 34.515625 30.609375 34.515625 \nL 43.21875 34.515625 \nL 43.21875 35.40625 \nQ 43.21875 41.609375 39.140625 45 \nQ 35.0625 48.390625 27.6875 48.390625 \nQ 23 48.390625 18.546875 47.265625 \nQ 14.109375 46.140625 10.015625 43.890625 \nL 10.015625 52.203125 \nQ 14.9375 54.109375 19.578125 55.046875 \nQ 24.21875 56 28.609375 56 \nQ 40.484375 56 46.34375 49.84375 \nQ 52.203125 43.703125 52.203125 31.203125 \nz\n\" id=\"DejaVuSans-97\"/>\n      <path d=\"M 9.421875 54.6875 \nL 18.40625 54.6875 \nL 18.40625 0 \nL 9.421875 0 \nz\nM 9.421875 75.984375 \nL 18.40625 75.984375 \nL 18.40625 64.59375 \nL 9.421875 64.59375 \nz\n\" id=\"DejaVuSans-105\"/>\n      <path d=\"M 54.890625 33.015625 \nL 54.890625 0 \nL 45.90625 0 \nL 45.90625 32.71875 \nQ 45.90625 40.484375 42.875 44.328125 \nQ 39.84375 48.1875 33.796875 48.1875 \nQ 26.515625 48.1875 22.3125 43.546875 \nQ 18.109375 38.921875 18.109375 30.90625 \nL 18.109375 0 \nL 9.078125 0 \nL 9.078125 54.6875 \nL 18.109375 54.6875 \nL 18.109375 46.1875 \nQ 21.34375 51.125 25.703125 53.5625 \nQ 30.078125 56 35.796875 56 \nQ 45.21875 56 50.046875 50.171875 \nQ 54.890625 44.34375 54.890625 33.015625 \nz\n\" id=\"DejaVuSans-110\"/>\n      <path d=\"M 45.40625 27.984375 \nQ 45.40625 37.75 41.375 43.109375 \nQ 37.359375 48.484375 30.078125 48.484375 \nQ 22.859375 48.484375 18.828125 43.109375 \nQ 14.796875 37.75 14.796875 27.984375 \nQ 14.796875 18.265625 18.828125 12.890625 \nQ 22.859375 7.515625 30.078125 7.515625 \nQ 37.359375 7.515625 41.375 12.890625 \nQ 45.40625 18.265625 45.40625 27.984375 \nz\nM 54.390625 6.78125 \nQ 54.390625 -7.171875 48.1875 -13.984375 \nQ 42 -20.796875 29.203125 -20.796875 \nQ 24.46875 -20.796875 20.265625 -20.09375 \nQ 16.0625 -19.390625 12.109375 -17.921875 \nL 12.109375 -9.1875 \nQ 16.0625 -11.328125 19.921875 -12.34375 \nQ 23.78125 -13.375 27.78125 -13.375 \nQ 36.625 -13.375 41.015625 -8.765625 \nQ 45.40625 -4.15625 45.40625 5.171875 \nL 45.40625 9.625 \nQ 42.625 4.78125 38.28125 2.390625 \nQ 33.9375 0 27.875 0 \nQ 17.828125 0 11.671875 7.65625 \nQ 5.515625 15.328125 5.515625 27.984375 \nQ 5.515625 40.671875 11.671875 48.328125 \nQ 17.828125 56 27.875 56 \nQ 33.9375 56 38.28125 53.609375 \nQ 42.625 51.21875 45.40625 46.390625 \nL 45.40625 54.6875 \nL 54.390625 54.6875 \nz\n\" id=\"DejaVuSans-103\"/>\n      <path id=\"DejaVuSans-32\"/>\n      <path d=\"M 45.40625 46.390625 \nL 45.40625 75.984375 \nL 54.390625 75.984375 \nL 54.390625 0 \nL 45.40625 0 \nL 45.40625 8.203125 \nQ 42.578125 3.328125 38.25 0.953125 \nQ 33.9375 -1.421875 27.875 -1.421875 \nQ 17.96875 -1.421875 11.734375 6.484375 \nQ 5.515625 14.40625 5.515625 27.296875 \nQ 5.515625 40.1875 11.734375 48.09375 \nQ 17.96875 56 27.875 56 \nQ 33.9375 56 38.25 53.625 \nQ 42.578125 51.265625 45.40625 46.390625 \nz\nM 14.796875 27.296875 \nQ 14.796875 17.390625 18.875 11.75 \nQ 22.953125 6.109375 30.078125 6.109375 \nQ 37.203125 6.109375 41.296875 11.75 \nQ 45.40625 17.390625 45.40625 27.296875 \nQ 45.40625 37.203125 41.296875 42.84375 \nQ 37.203125 48.484375 30.078125 48.484375 \nQ 22.953125 48.484375 18.875 42.84375 \nQ 14.796875 37.203125 14.796875 27.296875 \nz\n\" id=\"DejaVuSans-100\"/>\n      <path d=\"M 2.984375 54.6875 \nL 12.5 54.6875 \nL 29.59375 8.796875 \nL 46.6875 54.6875 \nL 56.203125 54.6875 \nL 35.6875 0 \nL 23.484375 0 \nz\n\" id=\"DejaVuSans-118\"/>\n      <path d=\"M 18.3125 70.21875 \nL 18.3125 54.6875 \nL 36.8125 54.6875 \nL 36.8125 47.703125 \nL 18.3125 47.703125 \nL 18.3125 18.015625 \nQ 18.3125 11.328125 20.140625 9.421875 \nQ 21.96875 7.515625 27.59375 7.515625 \nL 36.8125 7.515625 \nL 36.8125 0 \nL 27.59375 0 \nQ 17.1875 0 13.234375 3.875 \nQ 9.28125 7.765625 9.28125 18.015625 \nL 9.28125 47.703125 \nL 2.6875 47.703125 \nL 2.6875 54.6875 \nL 9.28125 54.6875 \nL 9.28125 70.21875 \nz\n\" id=\"DejaVuSans-116\"/>\n     </defs>\n     <use xlink:href=\"#DejaVuSans-84\"/>\n     <use x=\"46.333984\" xlink:href=\"#DejaVuSans-114\"/>\n     <use x=\"87.447266\" xlink:href=\"#DejaVuSans-97\"/>\n     <use x=\"148.726562\" xlink:href=\"#DejaVuSans-105\"/>\n     <use x=\"176.509766\" xlink:href=\"#DejaVuSans-110\"/>\n     <use x=\"239.888672\" xlink:href=\"#DejaVuSans-105\"/>\n     <use x=\"267.671875\" xlink:href=\"#DejaVuSans-110\"/>\n     <use x=\"331.050781\" xlink:href=\"#DejaVuSans-103\"/>\n     <use x=\"394.527344\" xlink:href=\"#DejaVuSans-32\"/>\n     <use x=\"426.314453\" xlink:href=\"#DejaVuSans-97\"/>\n     <use x=\"487.59375\" xlink:href=\"#DejaVuSans-110\"/>\n     <use x=\"550.972656\" xlink:href=\"#DejaVuSans-100\"/>\n     <use x=\"614.449219\" xlink:href=\"#DejaVuSans-32\"/>\n     <use x=\"646.236328\" xlink:href=\"#DejaVuSans-118\"/>\n     <use x=\"705.416016\" xlink:href=\"#DejaVuSans-97\"/>\n     <use x=\"766.695312\" xlink:href=\"#DejaVuSans-108\"/>\n     <use x=\"794.478516\" xlink:href=\"#DejaVuSans-105\"/>\n     <use x=\"822.261719\" xlink:href=\"#DejaVuSans-100\"/>\n     <use x=\"885.738281\" xlink:href=\"#DejaVuSans-97\"/>\n     <use x=\"947.017578\" xlink:href=\"#DejaVuSans-116\"/>\n     <use x=\"986.226562\" xlink:href=\"#DejaVuSans-105\"/>\n     <use x=\"1014.009766\" xlink:href=\"#DejaVuSans-111\"/>\n     <use x=\"1075.191406\" xlink:href=\"#DejaVuSans-110\"/>\n     <use x=\"1138.570312\" xlink:href=\"#DejaVuSans-108\"/>\n     <use x=\"1166.353516\" xlink:href=\"#DejaVuSans-111\"/>\n     <use x=\"1227.535156\" xlink:href=\"#DejaVuSans-115\"/>\n     <use x=\"1279.634766\" xlink:href=\"#DejaVuSans-115\"/>\n    </g>\n   </g>\n   <g id=\"legend_1\">\n    <g id=\"patch_7\">\n     <path d=\"M 304.715625 60.230625 \nL 384.30625 60.230625 \nQ 386.30625 60.230625 386.30625 58.230625 \nL 386.30625 29.318125 \nQ 386.30625 27.318125 384.30625 27.318125 \nL 304.715625 27.318125 \nQ 302.715625 27.318125 302.715625 29.318125 \nL 302.715625 58.230625 \nQ 302.715625 60.230625 304.715625 60.230625 \nz\n\" style=\"fill:#ffffff;opacity:0.8;stroke:#cccccc;stroke-linejoin:miter;\"/>\n    </g>\n    <g id=\"line2d_19\">\n     <path d=\"M 306.715625 35.416562 \nL 326.715625 35.416562 \n\" style=\"fill:none;stroke:#0000ff;stroke-dasharray:5.55,2.4;stroke-dashoffset:0;stroke-width:1.5;\"/>\n    </g>\n    <g id=\"line2d_20\">\n     <g>\n      <use style=\"fill:#0000ff;stroke:#0000ff;\" x=\"316.715625\" xlink:href=\"#m3c39766260\" y=\"35.416562\"/>\n     </g>\n    </g>\n    <g id=\"text_20\">\n     <!-- train_loss -->\n     <g transform=\"translate(334.715625 38.916562)scale(0.1 -0.1)\">\n      <defs>\n       <path d=\"M 50.984375 -16.609375 \nL 50.984375 -23.578125 \nL -0.984375 -23.578125 \nL -0.984375 -16.609375 \nz\n\" id=\"DejaVuSans-95\"/>\n      </defs>\n      <use xlink:href=\"#DejaVuSans-116\"/>\n      <use x=\"39.208984\" xlink:href=\"#DejaVuSans-114\"/>\n      <use x=\"80.322266\" xlink:href=\"#DejaVuSans-97\"/>\n      <use x=\"141.601562\" xlink:href=\"#DejaVuSans-105\"/>\n      <use x=\"169.384766\" xlink:href=\"#DejaVuSans-110\"/>\n      <use x=\"232.763672\" xlink:href=\"#DejaVuSans-95\"/>\n      <use x=\"282.763672\" xlink:href=\"#DejaVuSans-108\"/>\n      <use x=\"310.546875\" xlink:href=\"#DejaVuSans-111\"/>\n      <use x=\"371.728516\" xlink:href=\"#DejaVuSans-115\"/>\n      <use x=\"423.828125\" xlink:href=\"#DejaVuSans-115\"/>\n     </g>\n    </g>\n    <g id=\"line2d_21\">\n     <path d=\"M 306.715625 50.372812 \nL 326.715625 50.372812 \n\" style=\"fill:none;stroke:#ff0000;stroke-dasharray:5.55,2.4;stroke-dashoffset:0;stroke-width:1.5;\"/>\n    </g>\n    <g id=\"line2d_22\">\n     <g>\n      <use style=\"fill:#ff0000;stroke:#ff0000;\" x=\"316.715625\" xlink:href=\"#m086630f2ea\" y=\"50.372812\"/>\n     </g>\n    </g>\n    <g id=\"text_21\">\n     <!-- val_loss -->\n     <g transform=\"translate(334.715625 53.872812)scale(0.1 -0.1)\">\n      <use xlink:href=\"#DejaVuSans-118\"/>\n      <use x=\"59.179688\" xlink:href=\"#DejaVuSans-97\"/>\n      <use x=\"120.458984\" xlink:href=\"#DejaVuSans-108\"/>\n      <use x=\"148.242188\" xlink:href=\"#DejaVuSans-95\"/>\n      <use x=\"198.242188\" xlink:href=\"#DejaVuSans-108\"/>\n      <use x=\"226.025391\" xlink:href=\"#DejaVuSans-111\"/>\n      <use x=\"287.207031\" xlink:href=\"#DejaVuSans-115\"/>\n      <use x=\"339.306641\" xlink:href=\"#DejaVuSans-115\"/>\n     </g>\n    </g>\n   </g>\n  </g>\n </g>\n <defs>\n  <clipPath id=\"p1d4ccd6beb\">\n   <rect height=\"217.44\" width=\"334.8\" x=\"56.50625\" y=\"22.318125\"/>\n  </clipPath>\n </defs>\n</svg>\n"
     },
     "metadata": {
      "needs_background": "light"
     }
    }
   ],
   "source": [
    "plot_metric(dfhistory, \"loss\")"
   ]
  },
  {
   "cell_type": "code",
   "execution_count": 36,
   "metadata": {},
   "outputs": [
    {
     "output_type": "display_data",
     "data": {
      "text/plain": "<Figure size 432x288 with 1 Axes>",
      "image/svg+xml": "<?xml version=\"1.0\" encoding=\"utf-8\" standalone=\"no\"?>\n<!DOCTYPE svg PUBLIC \"-//W3C//DTD SVG 1.1//EN\"\n  \"http://www.w3.org/Graphics/SVG/1.1/DTD/svg11.dtd\">\n<!-- Created with matplotlib (https://matplotlib.org/) -->\n<svg height=\"277.314375pt\" version=\"1.1\" viewBox=\"0 0 392.14375 277.314375\" width=\"392.14375pt\" xmlns=\"http://www.w3.org/2000/svg\" xmlns:xlink=\"http://www.w3.org/1999/xlink\">\n <metadata>\n  <rdf:RDF xmlns:cc=\"http://creativecommons.org/ns#\" xmlns:dc=\"http://purl.org/dc/elements/1.1/\" xmlns:rdf=\"http://www.w3.org/1999/02/22-rdf-syntax-ns#\">\n   <cc:Work>\n    <dc:type rdf:resource=\"http://purl.org/dc/dcmitype/StillImage\"/>\n    <dc:date>2021-01-28T10:52:47.392963</dc:date>\n    <dc:format>image/svg+xml</dc:format>\n    <dc:creator>\n     <cc:Agent>\n      <dc:title>Matplotlib v3.3.2, https://matplotlib.org/</dc:title>\n     </cc:Agent>\n    </dc:creator>\n   </cc:Work>\n  </rdf:RDF>\n </metadata>\n <defs>\n  <style type=\"text/css\">*{stroke-linecap:butt;stroke-linejoin:round;}</style>\n </defs>\n <g id=\"figure_1\">\n  <g id=\"patch_1\">\n   <path d=\"M 0 277.314375 \nL 392.14375 277.314375 \nL 392.14375 0 \nL 0 0 \nz\n\" style=\"fill:none;\"/>\n  </g>\n  <g id=\"axes_1\">\n   <g id=\"patch_2\">\n    <path d=\"M 50.14375 239.758125 \nL 384.94375 239.758125 \nL 384.94375 22.318125 \nL 50.14375 22.318125 \nz\n\" style=\"fill:#ffffff;\"/>\n   </g>\n   <g id=\"matplotlib.axis_1\">\n    <g id=\"xtick_1\">\n     <g id=\"line2d_1\">\n      <defs>\n       <path d=\"M 0 0 \nL 0 3.5 \n\" id=\"mdb019a68f8\" style=\"stroke:#000000;stroke-width:0.8;\"/>\n      </defs>\n      <g>\n       <use style=\"stroke:#000000;stroke-width:0.8;\" x=\"89.39064\" xlink:href=\"#mdb019a68f8\" y=\"239.758125\"/>\n      </g>\n     </g>\n     <g id=\"text_1\">\n      <!-- 2.5 -->\n      <g transform=\"translate(81.439077 254.356562)scale(0.1 -0.1)\">\n       <defs>\n        <path d=\"M 19.1875 8.296875 \nL 53.609375 8.296875 \nL 53.609375 0 \nL 7.328125 0 \nL 7.328125 8.296875 \nQ 12.9375 14.109375 22.625 23.890625 \nQ 32.328125 33.6875 34.8125 36.53125 \nQ 39.546875 41.84375 41.421875 45.53125 \nQ 43.3125 49.21875 43.3125 52.78125 \nQ 43.3125 58.59375 39.234375 62.25 \nQ 35.15625 65.921875 28.609375 65.921875 \nQ 23.96875 65.921875 18.8125 64.3125 \nQ 13.671875 62.703125 7.8125 59.421875 \nL 7.8125 69.390625 \nQ 13.765625 71.78125 18.9375 73 \nQ 24.125 74.21875 28.421875 74.21875 \nQ 39.75 74.21875 46.484375 68.546875 \nQ 53.21875 62.890625 53.21875 53.421875 \nQ 53.21875 48.921875 51.53125 44.890625 \nQ 49.859375 40.875 45.40625 35.40625 \nQ 44.1875 33.984375 37.640625 27.21875 \nQ 31.109375 20.453125 19.1875 8.296875 \nz\n\" id=\"DejaVuSans-50\"/>\n        <path d=\"M 10.6875 12.40625 \nL 21 12.40625 \nL 21 0 \nL 10.6875 0 \nz\n\" id=\"DejaVuSans-46\"/>\n        <path d=\"M 10.796875 72.90625 \nL 49.515625 72.90625 \nL 49.515625 64.59375 \nL 19.828125 64.59375 \nL 19.828125 46.734375 \nQ 21.96875 47.46875 24.109375 47.828125 \nQ 26.265625 48.1875 28.421875 48.1875 \nQ 40.625 48.1875 47.75 41.5 \nQ 54.890625 34.8125 54.890625 23.390625 \nQ 54.890625 11.625 47.5625 5.09375 \nQ 40.234375 -1.421875 26.90625 -1.421875 \nQ 22.3125 -1.421875 17.546875 -0.640625 \nQ 12.796875 0.140625 7.71875 1.703125 \nL 7.71875 11.625 \nQ 12.109375 9.234375 16.796875 8.0625 \nQ 21.484375 6.890625 26.703125 6.890625 \nQ 35.15625 6.890625 40.078125 11.328125 \nQ 45.015625 15.765625 45.015625 23.390625 \nQ 45.015625 31 40.078125 35.4375 \nQ 35.15625 39.890625 26.703125 39.890625 \nQ 22.75 39.890625 18.8125 39.015625 \nQ 14.890625 38.140625 10.796875 36.28125 \nz\n\" id=\"DejaVuSans-53\"/>\n       </defs>\n       <use xlink:href=\"#DejaVuSans-50\"/>\n       <use x=\"63.623047\" xlink:href=\"#DejaVuSans-46\"/>\n       <use x=\"95.410156\" xlink:href=\"#DejaVuSans-53\"/>\n      </g>\n     </g>\n    </g>\n    <g id=\"xtick_2\">\n     <g id=\"line2d_2\">\n      <g>\n       <use style=\"stroke:#000000;stroke-width:0.8;\" x=\"129.438487\" xlink:href=\"#mdb019a68f8\" y=\"239.758125\"/>\n      </g>\n     </g>\n     <g id=\"text_2\">\n      <!-- 5.0 -->\n      <g transform=\"translate(121.486924 254.356562)scale(0.1 -0.1)\">\n       <defs>\n        <path d=\"M 31.78125 66.40625 \nQ 24.171875 66.40625 20.328125 58.90625 \nQ 16.5 51.421875 16.5 36.375 \nQ 16.5 21.390625 20.328125 13.890625 \nQ 24.171875 6.390625 31.78125 6.390625 \nQ 39.453125 6.390625 43.28125 13.890625 \nQ 47.125 21.390625 47.125 36.375 \nQ 47.125 51.421875 43.28125 58.90625 \nQ 39.453125 66.40625 31.78125 66.40625 \nz\nM 31.78125 74.21875 \nQ 44.046875 74.21875 50.515625 64.515625 \nQ 56.984375 54.828125 56.984375 36.375 \nQ 56.984375 17.96875 50.515625 8.265625 \nQ 44.046875 -1.421875 31.78125 -1.421875 \nQ 19.53125 -1.421875 13.0625 8.265625 \nQ 6.59375 17.96875 6.59375 36.375 \nQ 6.59375 54.828125 13.0625 64.515625 \nQ 19.53125 74.21875 31.78125 74.21875 \nz\n\" id=\"DejaVuSans-48\"/>\n       </defs>\n       <use xlink:href=\"#DejaVuSans-53\"/>\n       <use x=\"63.623047\" xlink:href=\"#DejaVuSans-46\"/>\n       <use x=\"95.410156\" xlink:href=\"#DejaVuSans-48\"/>\n      </g>\n     </g>\n    </g>\n    <g id=\"xtick_3\">\n     <g id=\"line2d_3\">\n      <g>\n       <use style=\"stroke:#000000;stroke-width:0.8;\" x=\"169.486334\" xlink:href=\"#mdb019a68f8\" y=\"239.758125\"/>\n      </g>\n     </g>\n     <g id=\"text_3\">\n      <!-- 7.5 -->\n      <g transform=\"translate(161.534771 254.356562)scale(0.1 -0.1)\">\n       <defs>\n        <path d=\"M 8.203125 72.90625 \nL 55.078125 72.90625 \nL 55.078125 68.703125 \nL 28.609375 0 \nL 18.3125 0 \nL 43.21875 64.59375 \nL 8.203125 64.59375 \nz\n\" id=\"DejaVuSans-55\"/>\n       </defs>\n       <use xlink:href=\"#DejaVuSans-55\"/>\n       <use x=\"63.623047\" xlink:href=\"#DejaVuSans-46\"/>\n       <use x=\"95.410156\" xlink:href=\"#DejaVuSans-53\"/>\n      </g>\n     </g>\n    </g>\n    <g id=\"xtick_4\">\n     <g id=\"line2d_4\">\n      <g>\n       <use style=\"stroke:#000000;stroke-width:0.8;\" x=\"209.534181\" xlink:href=\"#mdb019a68f8\" y=\"239.758125\"/>\n      </g>\n     </g>\n     <g id=\"text_4\">\n      <!-- 10.0 -->\n      <g transform=\"translate(198.401368 254.356562)scale(0.1 -0.1)\">\n       <defs>\n        <path d=\"M 12.40625 8.296875 \nL 28.515625 8.296875 \nL 28.515625 63.921875 \nL 10.984375 60.40625 \nL 10.984375 69.390625 \nL 28.421875 72.90625 \nL 38.28125 72.90625 \nL 38.28125 8.296875 \nL 54.390625 8.296875 \nL 54.390625 0 \nL 12.40625 0 \nz\n\" id=\"DejaVuSans-49\"/>\n       </defs>\n       <use xlink:href=\"#DejaVuSans-49\"/>\n       <use x=\"63.623047\" xlink:href=\"#DejaVuSans-48\"/>\n       <use x=\"127.246094\" xlink:href=\"#DejaVuSans-46\"/>\n       <use x=\"159.033203\" xlink:href=\"#DejaVuSans-48\"/>\n      </g>\n     </g>\n    </g>\n    <g id=\"xtick_5\">\n     <g id=\"line2d_5\">\n      <g>\n       <use style=\"stroke:#000000;stroke-width:0.8;\" x=\"249.582028\" xlink:href=\"#mdb019a68f8\" y=\"239.758125\"/>\n      </g>\n     </g>\n     <g id=\"text_5\">\n      <!-- 12.5 -->\n      <g transform=\"translate(238.449215 254.356562)scale(0.1 -0.1)\">\n       <use xlink:href=\"#DejaVuSans-49\"/>\n       <use x=\"63.623047\" xlink:href=\"#DejaVuSans-50\"/>\n       <use x=\"127.246094\" xlink:href=\"#DejaVuSans-46\"/>\n       <use x=\"159.033203\" xlink:href=\"#DejaVuSans-53\"/>\n      </g>\n     </g>\n    </g>\n    <g id=\"xtick_6\">\n     <g id=\"line2d_6\">\n      <g>\n       <use style=\"stroke:#000000;stroke-width:0.8;\" x=\"289.629874\" xlink:href=\"#mdb019a68f8\" y=\"239.758125\"/>\n      </g>\n     </g>\n     <g id=\"text_6\">\n      <!-- 15.0 -->\n      <g transform=\"translate(278.497062 254.356562)scale(0.1 -0.1)\">\n       <use xlink:href=\"#DejaVuSans-49\"/>\n       <use x=\"63.623047\" xlink:href=\"#DejaVuSans-53\"/>\n       <use x=\"127.246094\" xlink:href=\"#DejaVuSans-46\"/>\n       <use x=\"159.033203\" xlink:href=\"#DejaVuSans-48\"/>\n      </g>\n     </g>\n    </g>\n    <g id=\"xtick_7\">\n     <g id=\"line2d_7\">\n      <g>\n       <use style=\"stroke:#000000;stroke-width:0.8;\" x=\"329.677721\" xlink:href=\"#mdb019a68f8\" y=\"239.758125\"/>\n      </g>\n     </g>\n     <g id=\"text_7\">\n      <!-- 17.5 -->\n      <g transform=\"translate(318.544909 254.356562)scale(0.1 -0.1)\">\n       <use xlink:href=\"#DejaVuSans-49\"/>\n       <use x=\"63.623047\" xlink:href=\"#DejaVuSans-55\"/>\n       <use x=\"127.246094\" xlink:href=\"#DejaVuSans-46\"/>\n       <use x=\"159.033203\" xlink:href=\"#DejaVuSans-53\"/>\n      </g>\n     </g>\n    </g>\n    <g id=\"xtick_8\">\n     <g id=\"line2d_8\">\n      <g>\n       <use style=\"stroke:#000000;stroke-width:0.8;\" x=\"369.725568\" xlink:href=\"#mdb019a68f8\" y=\"239.758125\"/>\n      </g>\n     </g>\n     <g id=\"text_8\">\n      <!-- 20.0 -->\n      <g transform=\"translate(358.592756 254.356562)scale(0.1 -0.1)\">\n       <use xlink:href=\"#DejaVuSans-50\"/>\n       <use x=\"63.623047\" xlink:href=\"#DejaVuSans-48\"/>\n       <use x=\"127.246094\" xlink:href=\"#DejaVuSans-46\"/>\n       <use x=\"159.033203\" xlink:href=\"#DejaVuSans-48\"/>\n      </g>\n     </g>\n    </g>\n    <g id=\"text_9\">\n     <!-- Epochs -->\n     <g transform=\"translate(199.628125 268.034687)scale(0.1 -0.1)\">\n      <defs>\n       <path d=\"M 9.8125 72.90625 \nL 55.90625 72.90625 \nL 55.90625 64.59375 \nL 19.671875 64.59375 \nL 19.671875 43.015625 \nL 54.390625 43.015625 \nL 54.390625 34.71875 \nL 19.671875 34.71875 \nL 19.671875 8.296875 \nL 56.78125 8.296875 \nL 56.78125 0 \nL 9.8125 0 \nz\n\" id=\"DejaVuSans-69\"/>\n       <path d=\"M 18.109375 8.203125 \nL 18.109375 -20.796875 \nL 9.078125 -20.796875 \nL 9.078125 54.6875 \nL 18.109375 54.6875 \nL 18.109375 46.390625 \nQ 20.953125 51.265625 25.265625 53.625 \nQ 29.59375 56 35.59375 56 \nQ 45.5625 56 51.78125 48.09375 \nQ 58.015625 40.1875 58.015625 27.296875 \nQ 58.015625 14.40625 51.78125 6.484375 \nQ 45.5625 -1.421875 35.59375 -1.421875 \nQ 29.59375 -1.421875 25.265625 0.953125 \nQ 20.953125 3.328125 18.109375 8.203125 \nz\nM 48.6875 27.296875 \nQ 48.6875 37.203125 44.609375 42.84375 \nQ 40.53125 48.484375 33.40625 48.484375 \nQ 26.265625 48.484375 22.1875 42.84375 \nQ 18.109375 37.203125 18.109375 27.296875 \nQ 18.109375 17.390625 22.1875 11.75 \nQ 26.265625 6.109375 33.40625 6.109375 \nQ 40.53125 6.109375 44.609375 11.75 \nQ 48.6875 17.390625 48.6875 27.296875 \nz\n\" id=\"DejaVuSans-112\"/>\n       <path d=\"M 30.609375 48.390625 \nQ 23.390625 48.390625 19.1875 42.75 \nQ 14.984375 37.109375 14.984375 27.296875 \nQ 14.984375 17.484375 19.15625 11.84375 \nQ 23.34375 6.203125 30.609375 6.203125 \nQ 37.796875 6.203125 41.984375 11.859375 \nQ 46.1875 17.53125 46.1875 27.296875 \nQ 46.1875 37.015625 41.984375 42.703125 \nQ 37.796875 48.390625 30.609375 48.390625 \nz\nM 30.609375 56 \nQ 42.328125 56 49.015625 48.375 \nQ 55.71875 40.765625 55.71875 27.296875 \nQ 55.71875 13.875 49.015625 6.21875 \nQ 42.328125 -1.421875 30.609375 -1.421875 \nQ 18.84375 -1.421875 12.171875 6.21875 \nQ 5.515625 13.875 5.515625 27.296875 \nQ 5.515625 40.765625 12.171875 48.375 \nQ 18.84375 56 30.609375 56 \nz\n\" id=\"DejaVuSans-111\"/>\n       <path d=\"M 48.78125 52.59375 \nL 48.78125 44.1875 \nQ 44.96875 46.296875 41.140625 47.34375 \nQ 37.3125 48.390625 33.40625 48.390625 \nQ 24.65625 48.390625 19.8125 42.84375 \nQ 14.984375 37.3125 14.984375 27.296875 \nQ 14.984375 17.28125 19.8125 11.734375 \nQ 24.65625 6.203125 33.40625 6.203125 \nQ 37.3125 6.203125 41.140625 7.25 \nQ 44.96875 8.296875 48.78125 10.40625 \nL 48.78125 2.09375 \nQ 45.015625 0.34375 40.984375 -0.53125 \nQ 36.96875 -1.421875 32.421875 -1.421875 \nQ 20.0625 -1.421875 12.78125 6.34375 \nQ 5.515625 14.109375 5.515625 27.296875 \nQ 5.515625 40.671875 12.859375 48.328125 \nQ 20.21875 56 33.015625 56 \nQ 37.15625 56 41.109375 55.140625 \nQ 45.0625 54.296875 48.78125 52.59375 \nz\n\" id=\"DejaVuSans-99\"/>\n       <path d=\"M 54.890625 33.015625 \nL 54.890625 0 \nL 45.90625 0 \nL 45.90625 32.71875 \nQ 45.90625 40.484375 42.875 44.328125 \nQ 39.84375 48.1875 33.796875 48.1875 \nQ 26.515625 48.1875 22.3125 43.546875 \nQ 18.109375 38.921875 18.109375 30.90625 \nL 18.109375 0 \nL 9.078125 0 \nL 9.078125 75.984375 \nL 18.109375 75.984375 \nL 18.109375 46.1875 \nQ 21.34375 51.125 25.703125 53.5625 \nQ 30.078125 56 35.796875 56 \nQ 45.21875 56 50.046875 50.171875 \nQ 54.890625 44.34375 54.890625 33.015625 \nz\n\" id=\"DejaVuSans-104\"/>\n       <path d=\"M 44.28125 53.078125 \nL 44.28125 44.578125 \nQ 40.484375 46.53125 36.375 47.5 \nQ 32.28125 48.484375 27.875 48.484375 \nQ 21.1875 48.484375 17.84375 46.4375 \nQ 14.5 44.390625 14.5 40.28125 \nQ 14.5 37.15625 16.890625 35.375 \nQ 19.28125 33.59375 26.515625 31.984375 \nL 29.59375 31.296875 \nQ 39.15625 29.25 43.1875 25.515625 \nQ 47.21875 21.78125 47.21875 15.09375 \nQ 47.21875 7.46875 41.1875 3.015625 \nQ 35.15625 -1.421875 24.609375 -1.421875 \nQ 20.21875 -1.421875 15.453125 -0.5625 \nQ 10.6875 0.296875 5.421875 2 \nL 5.421875 11.28125 \nQ 10.40625 8.6875 15.234375 7.390625 \nQ 20.0625 6.109375 24.8125 6.109375 \nQ 31.15625 6.109375 34.5625 8.28125 \nQ 37.984375 10.453125 37.984375 14.40625 \nQ 37.984375 18.0625 35.515625 20.015625 \nQ 33.0625 21.96875 24.703125 23.78125 \nL 21.578125 24.515625 \nQ 13.234375 26.265625 9.515625 29.90625 \nQ 5.8125 33.546875 5.8125 39.890625 \nQ 5.8125 47.609375 11.28125 51.796875 \nQ 16.75 56 26.8125 56 \nQ 31.78125 56 36.171875 55.265625 \nQ 40.578125 54.546875 44.28125 53.078125 \nz\n\" id=\"DejaVuSans-115\"/>\n      </defs>\n      <use xlink:href=\"#DejaVuSans-69\"/>\n      <use x=\"63.183594\" xlink:href=\"#DejaVuSans-112\"/>\n      <use x=\"126.660156\" xlink:href=\"#DejaVuSans-111\"/>\n      <use x=\"187.841797\" xlink:href=\"#DejaVuSans-99\"/>\n      <use x=\"242.822266\" xlink:href=\"#DejaVuSans-104\"/>\n      <use x=\"306.201172\" xlink:href=\"#DejaVuSans-115\"/>\n     </g>\n    </g>\n   </g>\n   <g id=\"matplotlib.axis_2\">\n    <g id=\"ytick_1\">\n     <g id=\"line2d_9\">\n      <defs>\n       <path d=\"M 0 0 \nL -3.5 0 \n\" id=\"m31d5d14160\" style=\"stroke:#000000;stroke-width:0.8;\"/>\n      </defs>\n      <g>\n       <use style=\"stroke:#000000;stroke-width:0.8;\" x=\"50.14375\" xlink:href=\"#m31d5d14160\" y=\"233.234187\"/>\n      </g>\n     </g>\n     <g id=\"text_10\">\n      <!-- 0.90 -->\n      <g transform=\"translate(20.878125 237.033405)scale(0.1 -0.1)\">\n       <defs>\n        <path d=\"M 10.984375 1.515625 \nL 10.984375 10.5 \nQ 14.703125 8.734375 18.5 7.8125 \nQ 22.3125 6.890625 25.984375 6.890625 \nQ 35.75 6.890625 40.890625 13.453125 \nQ 46.046875 20.015625 46.78125 33.40625 \nQ 43.953125 29.203125 39.59375 26.953125 \nQ 35.25 24.703125 29.984375 24.703125 \nQ 19.046875 24.703125 12.671875 31.3125 \nQ 6.296875 37.9375 6.296875 49.421875 \nQ 6.296875 60.640625 12.9375 67.421875 \nQ 19.578125 74.21875 30.609375 74.21875 \nQ 43.265625 74.21875 49.921875 64.515625 \nQ 56.59375 54.828125 56.59375 36.375 \nQ 56.59375 19.140625 48.40625 8.859375 \nQ 40.234375 -1.421875 26.421875 -1.421875 \nQ 22.703125 -1.421875 18.890625 -0.6875 \nQ 15.09375 0.046875 10.984375 1.515625 \nz\nM 30.609375 32.421875 \nQ 37.25 32.421875 41.125 36.953125 \nQ 45.015625 41.5 45.015625 49.421875 \nQ 45.015625 57.28125 41.125 61.84375 \nQ 37.25 66.40625 30.609375 66.40625 \nQ 23.96875 66.40625 20.09375 61.84375 \nQ 16.21875 57.28125 16.21875 49.421875 \nQ 16.21875 41.5 20.09375 36.953125 \nQ 23.96875 32.421875 30.609375 32.421875 \nz\n\" id=\"DejaVuSans-57\"/>\n       </defs>\n       <use xlink:href=\"#DejaVuSans-48\"/>\n       <use x=\"63.623047\" xlink:href=\"#DejaVuSans-46\"/>\n       <use x=\"95.410156\" xlink:href=\"#DejaVuSans-57\"/>\n       <use x=\"159.033203\" xlink:href=\"#DejaVuSans-48\"/>\n      </g>\n     </g>\n    </g>\n    <g id=\"ytick_2\">\n     <g id=\"line2d_10\">\n      <g>\n       <use style=\"stroke:#000000;stroke-width:0.8;\" x=\"50.14375\" xlink:href=\"#m31d5d14160\" y=\"201.684334\"/>\n      </g>\n     </g>\n     <g id=\"text_11\">\n      <!-- 0.91 -->\n      <g transform=\"translate(20.878125 205.483552)scale(0.1 -0.1)\">\n       <use xlink:href=\"#DejaVuSans-48\"/>\n       <use x=\"63.623047\" xlink:href=\"#DejaVuSans-46\"/>\n       <use x=\"95.410156\" xlink:href=\"#DejaVuSans-57\"/>\n       <use x=\"159.033203\" xlink:href=\"#DejaVuSans-49\"/>\n      </g>\n     </g>\n    </g>\n    <g id=\"ytick_3\">\n     <g id=\"line2d_11\">\n      <g>\n       <use style=\"stroke:#000000;stroke-width:0.8;\" x=\"50.14375\" xlink:href=\"#m31d5d14160\" y=\"170.134481\"/>\n      </g>\n     </g>\n     <g id=\"text_12\">\n      <!-- 0.92 -->\n      <g transform=\"translate(20.878125 173.9337)scale(0.1 -0.1)\">\n       <use xlink:href=\"#DejaVuSans-48\"/>\n       <use x=\"63.623047\" xlink:href=\"#DejaVuSans-46\"/>\n       <use x=\"95.410156\" xlink:href=\"#DejaVuSans-57\"/>\n       <use x=\"159.033203\" xlink:href=\"#DejaVuSans-50\"/>\n      </g>\n     </g>\n    </g>\n    <g id=\"ytick_4\">\n     <g id=\"line2d_12\">\n      <g>\n       <use style=\"stroke:#000000;stroke-width:0.8;\" x=\"50.14375\" xlink:href=\"#m31d5d14160\" y=\"138.584628\"/>\n      </g>\n     </g>\n     <g id=\"text_13\">\n      <!-- 0.93 -->\n      <g transform=\"translate(20.878125 142.383847)scale(0.1 -0.1)\">\n       <defs>\n        <path d=\"M 40.578125 39.3125 \nQ 47.65625 37.796875 51.625 33 \nQ 55.609375 28.21875 55.609375 21.1875 \nQ 55.609375 10.40625 48.1875 4.484375 \nQ 40.765625 -1.421875 27.09375 -1.421875 \nQ 22.515625 -1.421875 17.65625 -0.515625 \nQ 12.796875 0.390625 7.625 2.203125 \nL 7.625 11.71875 \nQ 11.71875 9.328125 16.59375 8.109375 \nQ 21.484375 6.890625 26.8125 6.890625 \nQ 36.078125 6.890625 40.9375 10.546875 \nQ 45.796875 14.203125 45.796875 21.1875 \nQ 45.796875 27.640625 41.28125 31.265625 \nQ 36.765625 34.90625 28.71875 34.90625 \nL 20.21875 34.90625 \nL 20.21875 43.015625 \nL 29.109375 43.015625 \nQ 36.375 43.015625 40.234375 45.921875 \nQ 44.09375 48.828125 44.09375 54.296875 \nQ 44.09375 59.90625 40.109375 62.90625 \nQ 36.140625 65.921875 28.71875 65.921875 \nQ 24.65625 65.921875 20.015625 65.03125 \nQ 15.375 64.15625 9.8125 62.3125 \nL 9.8125 71.09375 \nQ 15.4375 72.65625 20.34375 73.4375 \nQ 25.25 74.21875 29.59375 74.21875 \nQ 40.828125 74.21875 47.359375 69.109375 \nQ 53.90625 64.015625 53.90625 55.328125 \nQ 53.90625 49.265625 50.4375 45.09375 \nQ 46.96875 40.921875 40.578125 39.3125 \nz\n\" id=\"DejaVuSans-51\"/>\n       </defs>\n       <use xlink:href=\"#DejaVuSans-48\"/>\n       <use x=\"63.623047\" xlink:href=\"#DejaVuSans-46\"/>\n       <use x=\"95.410156\" xlink:href=\"#DejaVuSans-57\"/>\n       <use x=\"159.033203\" xlink:href=\"#DejaVuSans-51\"/>\n      </g>\n     </g>\n    </g>\n    <g id=\"ytick_5\">\n     <g id=\"line2d_13\">\n      <g>\n       <use style=\"stroke:#000000;stroke-width:0.8;\" x=\"50.14375\" xlink:href=\"#m31d5d14160\" y=\"107.034775\"/>\n      </g>\n     </g>\n     <g id=\"text_14\">\n      <!-- 0.94 -->\n      <g transform=\"translate(20.878125 110.833994)scale(0.1 -0.1)\">\n       <defs>\n        <path d=\"M 37.796875 64.3125 \nL 12.890625 25.390625 \nL 37.796875 25.390625 \nz\nM 35.203125 72.90625 \nL 47.609375 72.90625 \nL 47.609375 25.390625 \nL 58.015625 25.390625 \nL 58.015625 17.1875 \nL 47.609375 17.1875 \nL 47.609375 0 \nL 37.796875 0 \nL 37.796875 17.1875 \nL 4.890625 17.1875 \nL 4.890625 26.703125 \nz\n\" id=\"DejaVuSans-52\"/>\n       </defs>\n       <use xlink:href=\"#DejaVuSans-48\"/>\n       <use x=\"63.623047\" xlink:href=\"#DejaVuSans-46\"/>\n       <use x=\"95.410156\" xlink:href=\"#DejaVuSans-57\"/>\n       <use x=\"159.033203\" xlink:href=\"#DejaVuSans-52\"/>\n      </g>\n     </g>\n    </g>\n    <g id=\"ytick_6\">\n     <g id=\"line2d_14\">\n      <g>\n       <use style=\"stroke:#000000;stroke-width:0.8;\" x=\"50.14375\" xlink:href=\"#m31d5d14160\" y=\"75.484922\"/>\n      </g>\n     </g>\n     <g id=\"text_15\">\n      <!-- 0.95 -->\n      <g transform=\"translate(20.878125 79.284141)scale(0.1 -0.1)\">\n       <use xlink:href=\"#DejaVuSans-48\"/>\n       <use x=\"63.623047\" xlink:href=\"#DejaVuSans-46\"/>\n       <use x=\"95.410156\" xlink:href=\"#DejaVuSans-57\"/>\n       <use x=\"159.033203\" xlink:href=\"#DejaVuSans-53\"/>\n      </g>\n     </g>\n    </g>\n    <g id=\"ytick_7\">\n     <g id=\"line2d_15\">\n      <g>\n       <use style=\"stroke:#000000;stroke-width:0.8;\" x=\"50.14375\" xlink:href=\"#m31d5d14160\" y=\"43.935069\"/>\n      </g>\n     </g>\n     <g id=\"text_16\">\n      <!-- 0.96 -->\n      <g transform=\"translate(20.878125 47.734288)scale(0.1 -0.1)\">\n       <defs>\n        <path d=\"M 33.015625 40.375 \nQ 26.375 40.375 22.484375 35.828125 \nQ 18.609375 31.296875 18.609375 23.390625 \nQ 18.609375 15.53125 22.484375 10.953125 \nQ 26.375 6.390625 33.015625 6.390625 \nQ 39.65625 6.390625 43.53125 10.953125 \nQ 47.40625 15.53125 47.40625 23.390625 \nQ 47.40625 31.296875 43.53125 35.828125 \nQ 39.65625 40.375 33.015625 40.375 \nz\nM 52.59375 71.296875 \nL 52.59375 62.3125 \nQ 48.875 64.0625 45.09375 64.984375 \nQ 41.3125 65.921875 37.59375 65.921875 \nQ 27.828125 65.921875 22.671875 59.328125 \nQ 17.53125 52.734375 16.796875 39.40625 \nQ 19.671875 43.65625 24.015625 45.921875 \nQ 28.375 48.1875 33.59375 48.1875 \nQ 44.578125 48.1875 50.953125 41.515625 \nQ 57.328125 34.859375 57.328125 23.390625 \nQ 57.328125 12.15625 50.6875 5.359375 \nQ 44.046875 -1.421875 33.015625 -1.421875 \nQ 20.359375 -1.421875 13.671875 8.265625 \nQ 6.984375 17.96875 6.984375 36.375 \nQ 6.984375 53.65625 15.1875 63.9375 \nQ 23.390625 74.21875 37.203125 74.21875 \nQ 40.921875 74.21875 44.703125 73.484375 \nQ 48.484375 72.75 52.59375 71.296875 \nz\n\" id=\"DejaVuSans-54\"/>\n       </defs>\n       <use xlink:href=\"#DejaVuSans-48\"/>\n       <use x=\"63.623047\" xlink:href=\"#DejaVuSans-46\"/>\n       <use x=\"95.410156\" xlink:href=\"#DejaVuSans-57\"/>\n       <use x=\"159.033203\" xlink:href=\"#DejaVuSans-54\"/>\n      </g>\n     </g>\n    </g>\n    <g id=\"text_17\">\n     <!-- auc -->\n     <g transform=\"translate(14.798438 140.020156)rotate(-90)scale(0.1 -0.1)\">\n      <defs>\n       <path d=\"M 34.28125 27.484375 \nQ 23.390625 27.484375 19.1875 25 \nQ 14.984375 22.515625 14.984375 16.5 \nQ 14.984375 11.71875 18.140625 8.90625 \nQ 21.296875 6.109375 26.703125 6.109375 \nQ 34.1875 6.109375 38.703125 11.40625 \nQ 43.21875 16.703125 43.21875 25.484375 \nL 43.21875 27.484375 \nz\nM 52.203125 31.203125 \nL 52.203125 0 \nL 43.21875 0 \nL 43.21875 8.296875 \nQ 40.140625 3.328125 35.546875 0.953125 \nQ 30.953125 -1.421875 24.3125 -1.421875 \nQ 15.921875 -1.421875 10.953125 3.296875 \nQ 6 8.015625 6 15.921875 \nQ 6 25.140625 12.171875 29.828125 \nQ 18.359375 34.515625 30.609375 34.515625 \nL 43.21875 34.515625 \nL 43.21875 35.40625 \nQ 43.21875 41.609375 39.140625 45 \nQ 35.0625 48.390625 27.6875 48.390625 \nQ 23 48.390625 18.546875 47.265625 \nQ 14.109375 46.140625 10.015625 43.890625 \nL 10.015625 52.203125 \nQ 14.9375 54.109375 19.578125 55.046875 \nQ 24.21875 56 28.609375 56 \nQ 40.484375 56 46.34375 49.84375 \nQ 52.203125 43.703125 52.203125 31.203125 \nz\n\" id=\"DejaVuSans-97\"/>\n       <path d=\"M 8.5 21.578125 \nL 8.5 54.6875 \nL 17.484375 54.6875 \nL 17.484375 21.921875 \nQ 17.484375 14.15625 20.5 10.265625 \nQ 23.53125 6.390625 29.59375 6.390625 \nQ 36.859375 6.390625 41.078125 11.03125 \nQ 45.3125 15.671875 45.3125 23.6875 \nL 45.3125 54.6875 \nL 54.296875 54.6875 \nL 54.296875 0 \nL 45.3125 0 \nL 45.3125 8.40625 \nQ 42.046875 3.421875 37.71875 1 \nQ 33.40625 -1.421875 27.6875 -1.421875 \nQ 18.265625 -1.421875 13.375 4.4375 \nQ 8.5 10.296875 8.5 21.578125 \nz\nM 31.109375 56 \nz\n\" id=\"DejaVuSans-117\"/>\n      </defs>\n      <use xlink:href=\"#DejaVuSans-97\"/>\n      <use x=\"61.279297\" xlink:href=\"#DejaVuSans-117\"/>\n      <use x=\"124.658203\" xlink:href=\"#DejaVuSans-99\"/>\n     </g>\n    </g>\n   </g>\n   <g id=\"line2d_16\">\n    <path clip-path=\"url(#p1562818054)\" d=\"M 65.361932 229.874489 \nL 81.381071 206.339264 \nL 97.400209 193.072136 \nL 113.419348 170.350087 \nL 129.438487 166.533981 \nL 145.457626 149.611553 \nL 161.476764 135.656447 \nL 177.495903 124.207228 \nL 193.515042 120.447554 \nL 209.534181 109.880495 \nL 225.553319 104.911126 \nL 241.572458 93.473289 \nL 257.591597 86.558513 \nL 273.610736 80.9874 \nL 289.629874 69.586237 \nL 305.649013 67.401175 \nL 321.668152 58.752837 \nL 337.687291 54.12779 \nL 353.706429 46.609584 \nL 369.725568 40.856191 \n\" style=\"fill:none;stroke:#0000ff;stroke-dasharray:5.55,2.4;stroke-dashoffset:0;stroke-width:1.5;\"/>\n    <defs>\n     <path d=\"M 0 3 \nC 0.795609 3 1.55874 2.683901 2.12132 2.12132 \nC 2.683901 1.55874 3 0.795609 3 0 \nC 3 -0.795609 2.683901 -1.55874 2.12132 -2.12132 \nC 1.55874 -2.683901 0.795609 -3 0 -3 \nC -0.795609 -3 -1.55874 -2.683901 -2.12132 -2.12132 \nC -2.683901 -1.55874 -3 -0.795609 -3 0 \nC -3 0.795609 -2.683901 1.55874 -2.12132 2.12132 \nC -1.55874 2.683901 -0.795609 3 0 3 \nz\n\" id=\"m9009b3cfb4\" style=\"stroke:#0000ff;\"/>\n    </defs>\n    <g clip-path=\"url(#p1562818054)\">\n     <use style=\"fill:#0000ff;stroke:#0000ff;\" x=\"65.361932\" xlink:href=\"#m9009b3cfb4\" y=\"229.874489\"/>\n     <use style=\"fill:#0000ff;stroke:#0000ff;\" x=\"81.381071\" xlink:href=\"#m9009b3cfb4\" y=\"206.339264\"/>\n     <use style=\"fill:#0000ff;stroke:#0000ff;\" x=\"97.400209\" xlink:href=\"#m9009b3cfb4\" y=\"193.072136\"/>\n     <use style=\"fill:#0000ff;stroke:#0000ff;\" x=\"113.419348\" xlink:href=\"#m9009b3cfb4\" y=\"170.350087\"/>\n     <use style=\"fill:#0000ff;stroke:#0000ff;\" x=\"129.438487\" xlink:href=\"#m9009b3cfb4\" y=\"166.533981\"/>\n     <use style=\"fill:#0000ff;stroke:#0000ff;\" x=\"145.457626\" xlink:href=\"#m9009b3cfb4\" y=\"149.611553\"/>\n     <use style=\"fill:#0000ff;stroke:#0000ff;\" x=\"161.476764\" xlink:href=\"#m9009b3cfb4\" y=\"135.656447\"/>\n     <use style=\"fill:#0000ff;stroke:#0000ff;\" x=\"177.495903\" xlink:href=\"#m9009b3cfb4\" y=\"124.207228\"/>\n     <use style=\"fill:#0000ff;stroke:#0000ff;\" x=\"193.515042\" xlink:href=\"#m9009b3cfb4\" y=\"120.447554\"/>\n     <use style=\"fill:#0000ff;stroke:#0000ff;\" x=\"209.534181\" xlink:href=\"#m9009b3cfb4\" y=\"109.880495\"/>\n     <use style=\"fill:#0000ff;stroke:#0000ff;\" x=\"225.553319\" xlink:href=\"#m9009b3cfb4\" y=\"104.911126\"/>\n     <use style=\"fill:#0000ff;stroke:#0000ff;\" x=\"241.572458\" xlink:href=\"#m9009b3cfb4\" y=\"93.473289\"/>\n     <use style=\"fill:#0000ff;stroke:#0000ff;\" x=\"257.591597\" xlink:href=\"#m9009b3cfb4\" y=\"86.558513\"/>\n     <use style=\"fill:#0000ff;stroke:#0000ff;\" x=\"273.610736\" xlink:href=\"#m9009b3cfb4\" y=\"80.9874\"/>\n     <use style=\"fill:#0000ff;stroke:#0000ff;\" x=\"289.629874\" xlink:href=\"#m9009b3cfb4\" y=\"69.586237\"/>\n     <use style=\"fill:#0000ff;stroke:#0000ff;\" x=\"305.649013\" xlink:href=\"#m9009b3cfb4\" y=\"67.401175\"/>\n     <use style=\"fill:#0000ff;stroke:#0000ff;\" x=\"321.668152\" xlink:href=\"#m9009b3cfb4\" y=\"58.752837\"/>\n     <use style=\"fill:#0000ff;stroke:#0000ff;\" x=\"337.687291\" xlink:href=\"#m9009b3cfb4\" y=\"54.12779\"/>\n     <use style=\"fill:#0000ff;stroke:#0000ff;\" x=\"353.706429\" xlink:href=\"#m9009b3cfb4\" y=\"46.609584\"/>\n     <use style=\"fill:#0000ff;stroke:#0000ff;\" x=\"369.725568\" xlink:href=\"#m9009b3cfb4\" y=\"40.856191\"/>\n    </g>\n   </g>\n   <g id=\"line2d_17\">\n    <path clip-path=\"url(#p1562818054)\" d=\"M 65.361932 182.264571 \nL 81.381071 152.973598 \nL 97.400209 156.871318 \nL 113.419348 139.491379 \nL 129.438487 113.20048 \nL 145.457626 118.807189 \nL 161.476764 104.791967 \nL 177.495903 85.462835 \nL 193.515042 80.767208 \nL 209.534181 78.912151 \nL 225.553319 76.558626 \nL 241.572458 62.587377 \nL 257.591597 60.672806 \nL 273.610736 55.849865 \nL 289.629874 60.26518 \nL 305.649013 56.251106 \nL 321.668152 51.591915 \nL 337.687291 43.935244 \nL 353.706429 34.405528 \nL 369.725568 32.201761 \n\" style=\"fill:none;stroke:#ff0000;stroke-dasharray:5.55,2.4;stroke-dashoffset:0;stroke-width:1.5;\"/>\n    <defs>\n     <path d=\"M 0 3 \nC 0.795609 3 1.55874 2.683901 2.12132 2.12132 \nC 2.683901 1.55874 3 0.795609 3 0 \nC 3 -0.795609 2.683901 -1.55874 2.12132 -2.12132 \nC 1.55874 -2.683901 0.795609 -3 0 -3 \nC -0.795609 -3 -1.55874 -2.683901 -2.12132 -2.12132 \nC -2.683901 -1.55874 -3 -0.795609 -3 0 \nC -3 0.795609 -2.683901 1.55874 -2.12132 2.12132 \nC -1.55874 2.683901 -0.795609 3 0 3 \nz\n\" id=\"m1acae2d919\" style=\"stroke:#ff0000;\"/>\n    </defs>\n    <g clip-path=\"url(#p1562818054)\">\n     <use style=\"fill:#ff0000;stroke:#ff0000;\" x=\"65.361932\" xlink:href=\"#m1acae2d919\" y=\"182.264571\"/>\n     <use style=\"fill:#ff0000;stroke:#ff0000;\" x=\"81.381071\" xlink:href=\"#m1acae2d919\" y=\"152.973598\"/>\n     <use style=\"fill:#ff0000;stroke:#ff0000;\" x=\"97.400209\" xlink:href=\"#m1acae2d919\" y=\"156.871318\"/>\n     <use style=\"fill:#ff0000;stroke:#ff0000;\" x=\"113.419348\" xlink:href=\"#m1acae2d919\" y=\"139.491379\"/>\n     <use style=\"fill:#ff0000;stroke:#ff0000;\" x=\"129.438487\" xlink:href=\"#m1acae2d919\" y=\"113.20048\"/>\n     <use style=\"fill:#ff0000;stroke:#ff0000;\" x=\"145.457626\" xlink:href=\"#m1acae2d919\" y=\"118.807189\"/>\n     <use style=\"fill:#ff0000;stroke:#ff0000;\" x=\"161.476764\" xlink:href=\"#m1acae2d919\" y=\"104.791967\"/>\n     <use style=\"fill:#ff0000;stroke:#ff0000;\" x=\"177.495903\" xlink:href=\"#m1acae2d919\" y=\"85.462835\"/>\n     <use style=\"fill:#ff0000;stroke:#ff0000;\" x=\"193.515042\" xlink:href=\"#m1acae2d919\" y=\"80.767208\"/>\n     <use style=\"fill:#ff0000;stroke:#ff0000;\" x=\"209.534181\" xlink:href=\"#m1acae2d919\" y=\"78.912151\"/>\n     <use style=\"fill:#ff0000;stroke:#ff0000;\" x=\"225.553319\" xlink:href=\"#m1acae2d919\" y=\"76.558626\"/>\n     <use style=\"fill:#ff0000;stroke:#ff0000;\" x=\"241.572458\" xlink:href=\"#m1acae2d919\" y=\"62.587377\"/>\n     <use style=\"fill:#ff0000;stroke:#ff0000;\" x=\"257.591597\" xlink:href=\"#m1acae2d919\" y=\"60.672806\"/>\n     <use style=\"fill:#ff0000;stroke:#ff0000;\" x=\"273.610736\" xlink:href=\"#m1acae2d919\" y=\"55.849865\"/>\n     <use style=\"fill:#ff0000;stroke:#ff0000;\" x=\"289.629874\" xlink:href=\"#m1acae2d919\" y=\"60.26518\"/>\n     <use style=\"fill:#ff0000;stroke:#ff0000;\" x=\"305.649013\" xlink:href=\"#m1acae2d919\" y=\"56.251106\"/>\n     <use style=\"fill:#ff0000;stroke:#ff0000;\" x=\"321.668152\" xlink:href=\"#m1acae2d919\" y=\"51.591915\"/>\n     <use style=\"fill:#ff0000;stroke:#ff0000;\" x=\"337.687291\" xlink:href=\"#m1acae2d919\" y=\"43.935244\"/>\n     <use style=\"fill:#ff0000;stroke:#ff0000;\" x=\"353.706429\" xlink:href=\"#m1acae2d919\" y=\"34.405528\"/>\n     <use style=\"fill:#ff0000;stroke:#ff0000;\" x=\"369.725568\" xlink:href=\"#m1acae2d919\" y=\"32.201761\"/>\n    </g>\n   </g>\n   <g id=\"patch_3\">\n    <path d=\"M 50.14375 239.758125 \nL 50.14375 22.318125 \n\" style=\"fill:none;stroke:#000000;stroke-linecap:square;stroke-linejoin:miter;stroke-width:0.8;\"/>\n   </g>\n   <g id=\"patch_4\">\n    <path d=\"M 384.94375 239.758125 \nL 384.94375 22.318125 \n\" style=\"fill:none;stroke:#000000;stroke-linecap:square;stroke-linejoin:miter;stroke-width:0.8;\"/>\n   </g>\n   <g id=\"patch_5\">\n    <path d=\"M 50.14375 239.758125 \nL 384.94375 239.758125 \n\" style=\"fill:none;stroke:#000000;stroke-linecap:square;stroke-linejoin:miter;stroke-width:0.8;\"/>\n   </g>\n   <g id=\"patch_6\">\n    <path d=\"M 50.14375 22.318125 \nL 384.94375 22.318125 \n\" style=\"fill:none;stroke:#000000;stroke-linecap:square;stroke-linejoin:miter;stroke-width:0.8;\"/>\n   </g>\n   <g id=\"text_18\">\n    <!-- Training and validationauc -->\n    <g transform=\"translate(138.451563 16.318125)scale(0.12 -0.12)\">\n     <defs>\n      <path d=\"M -0.296875 72.90625 \nL 61.375 72.90625 \nL 61.375 64.59375 \nL 35.5 64.59375 \nL 35.5 0 \nL 25.59375 0 \nL 25.59375 64.59375 \nL -0.296875 64.59375 \nz\n\" id=\"DejaVuSans-84\"/>\n      <path d=\"M 41.109375 46.296875 \nQ 39.59375 47.171875 37.8125 47.578125 \nQ 36.03125 48 33.890625 48 \nQ 26.265625 48 22.1875 43.046875 \nQ 18.109375 38.09375 18.109375 28.8125 \nL 18.109375 0 \nL 9.078125 0 \nL 9.078125 54.6875 \nL 18.109375 54.6875 \nL 18.109375 46.1875 \nQ 20.953125 51.171875 25.484375 53.578125 \nQ 30.03125 56 36.53125 56 \nQ 37.453125 56 38.578125 55.875 \nQ 39.703125 55.765625 41.0625 55.515625 \nz\n\" id=\"DejaVuSans-114\"/>\n      <path d=\"M 9.421875 54.6875 \nL 18.40625 54.6875 \nL 18.40625 0 \nL 9.421875 0 \nz\nM 9.421875 75.984375 \nL 18.40625 75.984375 \nL 18.40625 64.59375 \nL 9.421875 64.59375 \nz\n\" id=\"DejaVuSans-105\"/>\n      <path d=\"M 54.890625 33.015625 \nL 54.890625 0 \nL 45.90625 0 \nL 45.90625 32.71875 \nQ 45.90625 40.484375 42.875 44.328125 \nQ 39.84375 48.1875 33.796875 48.1875 \nQ 26.515625 48.1875 22.3125 43.546875 \nQ 18.109375 38.921875 18.109375 30.90625 \nL 18.109375 0 \nL 9.078125 0 \nL 9.078125 54.6875 \nL 18.109375 54.6875 \nL 18.109375 46.1875 \nQ 21.34375 51.125 25.703125 53.5625 \nQ 30.078125 56 35.796875 56 \nQ 45.21875 56 50.046875 50.171875 \nQ 54.890625 44.34375 54.890625 33.015625 \nz\n\" id=\"DejaVuSans-110\"/>\n      <path d=\"M 45.40625 27.984375 \nQ 45.40625 37.75 41.375 43.109375 \nQ 37.359375 48.484375 30.078125 48.484375 \nQ 22.859375 48.484375 18.828125 43.109375 \nQ 14.796875 37.75 14.796875 27.984375 \nQ 14.796875 18.265625 18.828125 12.890625 \nQ 22.859375 7.515625 30.078125 7.515625 \nQ 37.359375 7.515625 41.375 12.890625 \nQ 45.40625 18.265625 45.40625 27.984375 \nz\nM 54.390625 6.78125 \nQ 54.390625 -7.171875 48.1875 -13.984375 \nQ 42 -20.796875 29.203125 -20.796875 \nQ 24.46875 -20.796875 20.265625 -20.09375 \nQ 16.0625 -19.390625 12.109375 -17.921875 \nL 12.109375 -9.1875 \nQ 16.0625 -11.328125 19.921875 -12.34375 \nQ 23.78125 -13.375 27.78125 -13.375 \nQ 36.625 -13.375 41.015625 -8.765625 \nQ 45.40625 -4.15625 45.40625 5.171875 \nL 45.40625 9.625 \nQ 42.625 4.78125 38.28125 2.390625 \nQ 33.9375 0 27.875 0 \nQ 17.828125 0 11.671875 7.65625 \nQ 5.515625 15.328125 5.515625 27.984375 \nQ 5.515625 40.671875 11.671875 48.328125 \nQ 17.828125 56 27.875 56 \nQ 33.9375 56 38.28125 53.609375 \nQ 42.625 51.21875 45.40625 46.390625 \nL 45.40625 54.6875 \nL 54.390625 54.6875 \nz\n\" id=\"DejaVuSans-103\"/>\n      <path id=\"DejaVuSans-32\"/>\n      <path d=\"M 45.40625 46.390625 \nL 45.40625 75.984375 \nL 54.390625 75.984375 \nL 54.390625 0 \nL 45.40625 0 \nL 45.40625 8.203125 \nQ 42.578125 3.328125 38.25 0.953125 \nQ 33.9375 -1.421875 27.875 -1.421875 \nQ 17.96875 -1.421875 11.734375 6.484375 \nQ 5.515625 14.40625 5.515625 27.296875 \nQ 5.515625 40.1875 11.734375 48.09375 \nQ 17.96875 56 27.875 56 \nQ 33.9375 56 38.25 53.625 \nQ 42.578125 51.265625 45.40625 46.390625 \nz\nM 14.796875 27.296875 \nQ 14.796875 17.390625 18.875 11.75 \nQ 22.953125 6.109375 30.078125 6.109375 \nQ 37.203125 6.109375 41.296875 11.75 \nQ 45.40625 17.390625 45.40625 27.296875 \nQ 45.40625 37.203125 41.296875 42.84375 \nQ 37.203125 48.484375 30.078125 48.484375 \nQ 22.953125 48.484375 18.875 42.84375 \nQ 14.796875 37.203125 14.796875 27.296875 \nz\n\" id=\"DejaVuSans-100\"/>\n      <path d=\"M 2.984375 54.6875 \nL 12.5 54.6875 \nL 29.59375 8.796875 \nL 46.6875 54.6875 \nL 56.203125 54.6875 \nL 35.6875 0 \nL 23.484375 0 \nz\n\" id=\"DejaVuSans-118\"/>\n      <path d=\"M 9.421875 75.984375 \nL 18.40625 75.984375 \nL 18.40625 0 \nL 9.421875 0 \nz\n\" id=\"DejaVuSans-108\"/>\n      <path d=\"M 18.3125 70.21875 \nL 18.3125 54.6875 \nL 36.8125 54.6875 \nL 36.8125 47.703125 \nL 18.3125 47.703125 \nL 18.3125 18.015625 \nQ 18.3125 11.328125 20.140625 9.421875 \nQ 21.96875 7.515625 27.59375 7.515625 \nL 36.8125 7.515625 \nL 36.8125 0 \nL 27.59375 0 \nQ 17.1875 0 13.234375 3.875 \nQ 9.28125 7.765625 9.28125 18.015625 \nL 9.28125 47.703125 \nL 2.6875 47.703125 \nL 2.6875 54.6875 \nL 9.28125 54.6875 \nL 9.28125 70.21875 \nz\n\" id=\"DejaVuSans-116\"/>\n     </defs>\n     <use xlink:href=\"#DejaVuSans-84\"/>\n     <use x=\"46.333984\" xlink:href=\"#DejaVuSans-114\"/>\n     <use x=\"87.447266\" xlink:href=\"#DejaVuSans-97\"/>\n     <use x=\"148.726562\" xlink:href=\"#DejaVuSans-105\"/>\n     <use x=\"176.509766\" xlink:href=\"#DejaVuSans-110\"/>\n     <use x=\"239.888672\" xlink:href=\"#DejaVuSans-105\"/>\n     <use x=\"267.671875\" xlink:href=\"#DejaVuSans-110\"/>\n     <use x=\"331.050781\" xlink:href=\"#DejaVuSans-103\"/>\n     <use x=\"394.527344\" xlink:href=\"#DejaVuSans-32\"/>\n     <use x=\"426.314453\" xlink:href=\"#DejaVuSans-97\"/>\n     <use x=\"487.59375\" xlink:href=\"#DejaVuSans-110\"/>\n     <use x=\"550.972656\" xlink:href=\"#DejaVuSans-100\"/>\n     <use x=\"614.449219\" xlink:href=\"#DejaVuSans-32\"/>\n     <use x=\"646.236328\" xlink:href=\"#DejaVuSans-118\"/>\n     <use x=\"705.416016\" xlink:href=\"#DejaVuSans-97\"/>\n     <use x=\"766.695312\" xlink:href=\"#DejaVuSans-108\"/>\n     <use x=\"794.478516\" xlink:href=\"#DejaVuSans-105\"/>\n     <use x=\"822.261719\" xlink:href=\"#DejaVuSans-100\"/>\n     <use x=\"885.738281\" xlink:href=\"#DejaVuSans-97\"/>\n     <use x=\"947.017578\" xlink:href=\"#DejaVuSans-116\"/>\n     <use x=\"986.226562\" xlink:href=\"#DejaVuSans-105\"/>\n     <use x=\"1014.009766\" xlink:href=\"#DejaVuSans-111\"/>\n     <use x=\"1075.191406\" xlink:href=\"#DejaVuSans-110\"/>\n     <use x=\"1138.570312\" xlink:href=\"#DejaVuSans-97\"/>\n     <use x=\"1199.849609\" xlink:href=\"#DejaVuSans-117\"/>\n     <use x=\"1263.228516\" xlink:href=\"#DejaVuSans-99\"/>\n    </g>\n   </g>\n   <g id=\"legend_1\">\n    <g id=\"patch_7\">\n     <path d=\"M 57.14375 60.230625 \nL 135.382812 60.230625 \nQ 137.382812 60.230625 137.382812 58.230625 \nL 137.382812 29.318125 \nQ 137.382812 27.318125 135.382812 27.318125 \nL 57.14375 27.318125 \nQ 55.14375 27.318125 55.14375 29.318125 \nL 55.14375 58.230625 \nQ 55.14375 60.230625 57.14375 60.230625 \nz\n\" style=\"fill:#ffffff;opacity:0.8;stroke:#cccccc;stroke-linejoin:miter;\"/>\n    </g>\n    <g id=\"line2d_18\">\n     <path d=\"M 59.14375 35.416562 \nL 79.14375 35.416562 \n\" style=\"fill:none;stroke:#0000ff;stroke-dasharray:5.55,2.4;stroke-dashoffset:0;stroke-width:1.5;\"/>\n    </g>\n    <g id=\"line2d_19\">\n     <g>\n      <use style=\"fill:#0000ff;stroke:#0000ff;\" x=\"69.14375\" xlink:href=\"#m9009b3cfb4\" y=\"35.416562\"/>\n     </g>\n    </g>\n    <g id=\"text_19\">\n     <!-- train_auc -->\n     <g transform=\"translate(87.14375 38.916562)scale(0.1 -0.1)\">\n      <defs>\n       <path d=\"M 50.984375 -16.609375 \nL 50.984375 -23.578125 \nL -0.984375 -23.578125 \nL -0.984375 -16.609375 \nz\n\" id=\"DejaVuSans-95\"/>\n      </defs>\n      <use xlink:href=\"#DejaVuSans-116\"/>\n      <use x=\"39.208984\" xlink:href=\"#DejaVuSans-114\"/>\n      <use x=\"80.322266\" xlink:href=\"#DejaVuSans-97\"/>\n      <use x=\"141.601562\" xlink:href=\"#DejaVuSans-105\"/>\n      <use x=\"169.384766\" xlink:href=\"#DejaVuSans-110\"/>\n      <use x=\"232.763672\" xlink:href=\"#DejaVuSans-95\"/>\n      <use x=\"282.763672\" xlink:href=\"#DejaVuSans-97\"/>\n      <use x=\"344.042969\" xlink:href=\"#DejaVuSans-117\"/>\n      <use x=\"407.421875\" xlink:href=\"#DejaVuSans-99\"/>\n     </g>\n    </g>\n    <g id=\"line2d_20\">\n     <path d=\"M 59.14375 50.372812 \nL 79.14375 50.372812 \n\" style=\"fill:none;stroke:#ff0000;stroke-dasharray:5.55,2.4;stroke-dashoffset:0;stroke-width:1.5;\"/>\n    </g>\n    <g id=\"line2d_21\">\n     <g>\n      <use style=\"fill:#ff0000;stroke:#ff0000;\" x=\"69.14375\" xlink:href=\"#m1acae2d919\" y=\"50.372812\"/>\n     </g>\n    </g>\n    <g id=\"text_20\">\n     <!-- val_auc -->\n     <g transform=\"translate(87.14375 53.872812)scale(0.1 -0.1)\">\n      <use xlink:href=\"#DejaVuSans-118\"/>\n      <use x=\"59.179688\" xlink:href=\"#DejaVuSans-97\"/>\n      <use x=\"120.458984\" xlink:href=\"#DejaVuSans-108\"/>\n      <use x=\"148.242188\" xlink:href=\"#DejaVuSans-95\"/>\n      <use x=\"198.242188\" xlink:href=\"#DejaVuSans-97\"/>\n      <use x=\"259.521484\" xlink:href=\"#DejaVuSans-117\"/>\n      <use x=\"322.900391\" xlink:href=\"#DejaVuSans-99\"/>\n     </g>\n    </g>\n   </g>\n  </g>\n </g>\n <defs>\n  <clipPath id=\"p1562818054\">\n   <rect height=\"217.44\" width=\"334.8\" x=\"50.14375\" y=\"22.318125\"/>\n  </clipPath>\n </defs>\n</svg>\n"
     },
     "metadata": {
      "needs_background": "light"
     }
    }
   ],
   "source": [
    "plot_metric(dfhistory, \"auc\")"
   ]
  },
  {
   "source": [
    "## 5.使用模型"
   ],
   "cell_type": "markdown",
   "metadata": {}
  },
  {
   "cell_type": "code",
   "execution_count": 37,
   "metadata": {},
   "outputs": [],
   "source": [
    "def predict(model, dl):\n",
    "    model.eval()\n",
    "    with torch.no_grad():\n",
    "        result = torch.cat([model.forward(t[0]) for t in dl])\n",
    "    return(result)"
   ]
  },
  {
   "cell_type": "code",
   "execution_count": 38,
   "metadata": {},
   "outputs": [
    {
     "output_type": "execute_result",
     "data": {
      "text/plain": [
       "tensor([[0.8708],\n",
       "        [0.0170],\n",
       "        [0.0192],\n",
       "        ...,\n",
       "        [0.9545],\n",
       "        [0.9650],\n",
       "        [0.8372]])"
      ]
     },
     "metadata": {},
     "execution_count": 38
    }
   ],
   "source": [
    "y_pred_probs = predict(model, dl_valid)\n",
    "y_pred_probs"
   ]
  },
  {
   "cell_type": "code",
   "execution_count": 39,
   "metadata": {},
   "outputs": [
    {
     "output_type": "execute_result",
     "data": {
      "text/plain": [
       "tensor([[1.],\n",
       "        [0.],\n",
       "        [0.],\n",
       "        ...,\n",
       "        [1.],\n",
       "        [1.],\n",
       "        [1.]])"
      ]
     },
     "metadata": {},
     "execution_count": 39
    }
   ],
   "source": [
    "y_pred = torch.where(y_pred_probs>0.5,\n",
    "                    torch.ones_like(y_pred_probs), torch.zeros_like(y_pred_probs))\n",
    "y_pred"
   ]
  },
  {
   "source": [
    "## 6.保存模型"
   ],
   "cell_type": "markdown",
   "metadata": {}
  },
  {
   "cell_type": "code",
   "execution_count": 40,
   "metadata": {},
   "outputs": [
    {
     "output_type": "stream",
     "name": "stdout",
     "text": [
      "odict_keys(['conv1.weight', 'conv1.bias', 'conv2.weight', 'conv2.bias', 'linear1.weight', 'linear1.bias', 'linear2.weight', 'linear2.bias'])\n"
     ]
    }
   ],
   "source": [
    "print(model.state_dict().keys())"
   ]
  },
  {
   "cell_type": "code",
   "execution_count": 42,
   "metadata": {},
   "outputs": [
    {
     "output_type": "execute_result",
     "data": {
      "text/plain": [
       "tensor([[0.0894],\n",
       "        [0.9480],\n",
       "        [0.0209],\n",
       "        ...,\n",
       "        [0.0218],\n",
       "        [0.9086],\n",
       "        [0.8868]])"
      ]
     },
     "metadata": {},
     "execution_count": 42
    }
   ],
   "source": [
    "# 保存模型参数\n",
    "torch.save(model.state_dict(), \"./data/model_parameter.pkl\")\n",
    "\n",
    "net_clone = Net()\n",
    "net_clone.load_state_dict(torch.load(\"./data/model_parameter.pkl\"))\n",
    "\n",
    "predict(net_clone, dl_valid)"
   ]
  },
  {
   "cell_type": "code",
   "execution_count": null,
   "metadata": {},
   "outputs": [],
   "source": []
  }
 ],
 "metadata": {
  "kernelspec": {
   "display_name": "Python torch",
   "language": "python",
   "name": "pytorch_env"
  },
  "language_info": {
   "codemirror_mode": {
    "name": "ipython",
    "version": 3
   },
   "file_extension": ".py",
   "mimetype": "text/x-python",
   "name": "python",
   "nbconvert_exporter": "python",
   "pygments_lexer": "ipython3",
   "version": "3.8.5-final"
  }
 },
 "nbformat": 4,
 "nbformat_minor": 2
}